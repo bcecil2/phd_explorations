{
 "cells": [
  {
   "cell_type": "code",
   "execution_count": 2,
   "id": "eabd0c4f-939f-49d6-87e1-9df967da1f07",
   "metadata": {},
   "outputs": [],
   "source": [
    "import numpy as np\n",
    "import matplotlib.pyplot as plt\n",
    "np.random.seed(10)"
   ]
  },
  {
   "cell_type": "markdown",
   "id": "5f5393a2-faa4-4e60-8b5a-5f8f15994acb",
   "metadata": {},
   "source": [
    "# The Joint Distribution and Basic Computations\n",
    "Let $X,Y$ be discrete random variables that take on $N,M$ values respectively. Then the joint distribution $P(X,Y)$ captures everything we want to know\n",
    "about them. We can think of this an an $N \\times M$ matrix where $P_{ij}$ is the number of times $X = x_i, Y = y_i$"
   ]
  },
  {
   "cell_type": "code",
   "execution_count": 49,
   "id": "3d369642-f34d-42c8-8ec4-186db7bda7ab",
   "metadata": {},
   "outputs": [
    {
     "data": {
      "text/plain": [
       "(array([1, 1, 1, 1, 0, 1, 0, 1, 1, 1]), array([0, 1, 0, 1, 0, 0, 2, 1, 2, 1]))"
      ]
     },
     "execution_count": 49,
     "metadata": {},
     "output_type": "execute_result"
    }
   ],
   "source": [
    "# Two discrete random variables\n",
    "N = 10\n",
    "X = np.random.choice(2, N, p = [0.3,0.7]) \n",
    "Y = np.random.choice(3, N, p = [0.4,0.4,0.2])"
   ]
  },
  {
   "cell_type": "code",
   "execution_count": 58,
   "id": "37d57eb0-5c6b-429f-8551-ce2e0c94abac",
   "metadata": {},
   "outputs": [
    {
     "data": {
      "text/plain": [
       "(array([1, 1, 1, 1, 0, 1, 0, 1, 1, 1]), array([0, 1, 0, 1, 0, 0, 2, 1, 2, 1]))"
      ]
     },
     "execution_count": 58,
     "metadata": {},
     "output_type": "execute_result"
    }
   ],
   "source": [
    "X,Y"
   ]
  },
  {
   "cell_type": "code",
   "execution_count": 69,
   "id": "6f672527-02b4-4123-a9e1-a6c8afec285e",
   "metadata": {},
   "outputs": [
    {
     "data": {
      "text/plain": [
       "array([[0.1, 0. , 0.1],\n",
       "       [0.3, 0.4, 0.1]])"
      ]
     },
     "execution_count": 69,
     "metadata": {},
     "output_type": "execute_result"
    }
   ],
   "source": [
    "def make_joint_dist(x_size,y_size, x_obs, y_obs):\n",
    "    n,m = x_size,y_size\n",
    "    trials = len(x_obs)\n",
    "    joint = np.zeros((n,m))\n",
    "    for i in range(n):\n",
    "        for j in range(m):\n",
    "            joint[i,j] = np.sum((x_obs == i)&(y_obs == j))\n",
    "    return joint/trials\n",
    "joint = make_joint_dist(2,3,X,Y)\n",
    "joint"
   ]
  },
  {
   "cell_type": "markdown",
   "id": "e8a82d99-6234-43cf-a718-92124a28ff23",
   "metadata": {},
   "source": [
    "We can capture all the information we want because of the `sum` and `product` rules. To get information about $X=x_i$ or $Y=y_j$ we simply sum over the column or row $$P(X = x_i) = \\sum_{j=1}^M P(X = x_i, Y = y_j)$$\n",
    "This is referred to as marginalization. Conditionals are given by $$P(Y=y_j|X = X_i) = P_{ij}/\\sum_{j=1}^N P_{ij}$$. We can also use this to answer queries like $P(X,Y)$ using conditionals instead\n",
    "$$P(X,Y) = P(Y|X)P(X)$$"
   ]
  },
  {
   "cell_type": "code",
   "execution_count": 75,
   "id": "dca16036-580f-4386-8af9-e5482445dfef",
   "metadata": {},
   "outputs": [
    {
     "name": "stdout",
     "output_type": "stream",
     "text": [
      "P(X = 1) = 8\n",
      "P(X = 1) = 0.7999999999999999\n",
      "P(Y = 2) = 2\n",
      "P(Y = 2) = 0.2\n",
      "P(Y = 2 | X = 1) 0.125\n",
      "P(Y = 2 | X = 1) 0.12500000000000003\n",
      "P(X=1,Y=0) = 0.3\n",
      "P(X=1,Y=0) = 0.3\n"
     ]
    }
   ],
   "source": [
    "#P(X = 1 ) should be close to 0.7 from either directly or the joint\n",
    "print(f'P(X = 1) = {np.sum(X == 1)}')\n",
    "# for x sum across row i\n",
    "print(f'P(X = 1) = {np.sum(joint[1])}')\n",
    "\n",
    "#P(Y = 2) should be close 0.2 from either directly or the joint\n",
    "print(f'P(Y = 2) = {np.sum(Y == 2)}')\n",
    "# for y sum across col j\n",
    "print(f'P(Y = 2) = {np.sum(joint[:,2])}')\n",
    "\n",
    "print(f'P(Y = 2 | X = 1) {np.sum((X==1)&(Y==2))/np.sum(X==1)}')\n",
    "print(f'P(Y = 2 | X = 1) {(joint[1,2]/np.sum(joint[1]))}')\n",
    "\n",
    "print(f'P(X=1,Y=0) = {np.sum((X==1)&(Y==0))/N}')\n",
    "print(f'P(X=1,Y=0) = {joint[1,0]}')"
   ]
  },
  {
   "cell_type": "code",
   "execution_count": 96,
   "id": "b623bf79-f145-4a47-b567-6d650230be99",
   "metadata": {},
   "outputs": [
    {
     "data": {
      "text/plain": [
       "<BarContainer object of 3 artists>"
      ]
     },
     "execution_count": 96,
     "metadata": {},
     "output_type": "execute_result"
    },
    {
     "data": {
      "image/png": "[encoded data removed]",
      "text/plain": [
       "<Figure size 640x480 with 1 Axes>"
      ]
     },
     "metadata": {},
     "output_type": "display_data"
    },
    {
     "data": {
      "image/png": "[encoded data removed]",
      "text/plain": [
       "<Figure size 640x480 with 1 Axes>"
      ]
     },
     "metadata": {},
     "output_type": "display_data"
    }
   ],
   "source": [
    "N = 10000\n",
    "X = np.random.choice(2, N, p = [0.3,0.7]) \n",
    "Y = np.random.choice(3, N, p = [0.4,0.4,0.2])\n",
    "joint = make_joint_dist(2,3,X,Y)\n",
    "\n",
    "# we can recover and plot the discrete distributions\n",
    "# from the marginals\n",
    "x_marg = np.sum(joint,axis=1)\n",
    "y_marg = np.sum(joint,axis=0)\n",
    "plt.bar([0,1],x_marg, width=0.01)\n",
    "plt.figure()\n",
    "plt.bar([0,1,2],y_marg, width=0.01)"
   ]
  },
  {
   "cell_type": "code",
   "execution_count": 103,
   "id": "f7cb6675-6ab5-4708-8371-81cd8f4b7628",
   "metadata": {},
   "outputs": [
    {
     "name": "stdout",
     "output_type": "stream",
     "text": [
      "[[0.1227 0.122  0.0607]\n",
      " [0.2787 0.2771 0.1388]]\n",
      "[[0.12258756 0.12188514 0.0609273 ]\n",
      " [0.27881244 0.27721486 0.1385727 ]]\n",
      "[[0.1227 0.122  0.0607]\n",
      " [0.2787 0.2771 0.1388]]\n"
     ]
    }
   ],
   "source": [
    "# Are the variables independent?\n",
    "print(joint)\n",
    "px = np.sum(joint,axis=1)\n",
    "py = np.sum(joint,axis=0)\n",
    "pxpy = np.outer(px,py)\n",
    "#probably rounding error should be the same\n",
    "print(pxpy)\n",
    "print(joint)"
   ]
  },
  {
   "cell_type": "markdown",
   "id": "ce8e5f00-6996-43dd-b707-1ce55c9a76c2",
   "metadata": {},
   "source": [
    "We can have continous random variables too and as a rule of thumb sums just turn into integrals e.g.\n",
    "$$p(x) = \\int p(x,y)dy$$\n",
    "$$p(x,y) = p(y|x)p(x)$$\n",
    "Where\n",
    "$$p(y|x) = p(x,y)/p(x)$$"
   ]
  },
  {
   "cell_type": "markdown",
   "id": "fd036db9-9a4c-42fa-b381-3ce13b780b4e",
   "metadata": {},
   "source": [
    "# Expected Values, Variance, Covariance\n",
    "Given a function on a random variable we can compute the weighted average of $f$ by the probability, referred to as the expected value\n",
    "$$\\mathbb{E}[f] = \\sum p(x)f(x)$$ \n",
    "$$\\mathbb{E}[f] = \\int p(x)f(x)$$ "
   ]
  },
  {
   "cell_type": "code",
   "execution_count": 119,
   "id": "49d877df-f1a6-4620-81c3-4cd454341f11",
   "metadata": {},
   "outputs": [
    {
     "name": "stdout",
     "output_type": "stream",
     "text": [
      "E[f] = 19.0\n",
      "E[f] ~ 19.06\n"
     ]
    }
   ],
   "source": [
    "# we can think of this as a game, you randomly pick a number\n",
    "# i pay you 10 times that number, the expected value tells us\n",
    "# how much we should expect to win\n",
    "x = np.random.choice(5,1000,p=[0.1,0.3,0.3,0.2,0.1])\n",
    "\n",
    "probs = np.array([0.1,0.3,0.3,0.2,0.1])\n",
    "outcomes = np.array([0,10,20,30,40])\n",
    "exp_exact = np.sum(probs*outcomes)\n",
    "exp_approx = np.mean(x*10)\n",
    "\n",
    "# in pracice we estimate this by an average instead\n",
    "print(f'E[f] = {exp_exact}')\n",
    "print(f'E[f] ~ {exp_approx}')"
   ]
  },
  {
   "cell_type": "markdown",
   "id": "04051ccf-f925-4b11-85bd-5e3d827f4711",
   "metadata": {},
   "source": [
    "We also have conditional expectations defined as\n",
    "$$E_x[f|y] = \\sum p(x|y)f(x)$$\n",
    "The variance is defined as \n",
    "$$var[f] = \\mathbb{E}[(f(x) - \\mathbb{E}[f(x)])^2] = \\mathbb{E}[f(x)^2] - \\mathbb{E}[f(x)]^2$$\n",
    "and measures how much $f$ varies measured from its mean."
   ]
  },
  {
   "cell_type": "code",
   "execution_count": 129,
   "id": "25802c31-2cc0-45bc-ad39-e4453e1c6e3e",
   "metadata": {},
   "outputs": [
    {
     "name": "stdout",
     "output_type": "stream",
     "text": [
      "129.0 129.0 131.71640000000002\n"
     ]
    }
   ],
   "source": [
    "var_exact = np.sum(probs*(outcomes-exp_exact)**2)\n",
    "var_exact2 = np.sum(probs*(outcomes**2)) - exp_exact**2\n",
    "var_approx = np.mean(x**2*100) - (np.mean(x*10))**2\n",
    "print(var_exact,var_exact2,var_approx)\n",
    "\n"
   ]
  },
  {
   "cell_type": "markdown",
   "id": "1aa21442-3fde-452a-a66b-333f10f82cfd",
   "metadata": {},
   "source": [
    "We can also capture the (linear) dependence of random variables with covariance\n",
    "$$cov[x,y] = \\mathbb{E}[xy] - \\mathbb{E}[x][y]$$\n",
    "if $x,y$ are vectors then we get a matrix"
   ]
  },
  {
   "cell_type": "code",
   "execution_count": 137,
   "id": "4d3407d8-86e9-495c-908c-fb705e9b6c55",
   "metadata": {},
   "outputs": [
    {
     "name": "stdout",
     "output_type": "stream",
     "text": [
      "cor[x,y] = 1.9749759999999998\n",
      "cor[x,y] = -0.044184000000000445\n"
     ]
    },
    {
     "data": {
      "text/plain": [
       "array([[ 1., -1.],\n",
       "       [-1.,  1.]])"
      ]
     },
     "execution_count": 137,
     "metadata": {},
     "output_type": "execute_result"
    }
   ],
   "source": [
    "x = np.random.choice(5,1000)\n",
    "y = 1*x\n",
    "#highly correlated\n",
    "print(f'cor[x,y] = {np.mean(x*y) - np.mean(x)*np.mean(y)}')\n",
    "#not correlated different probabilities\n",
    "y2 = np.random.choice(5,1000,p=[0.1,0.3,0.3,0.1,0.2])\n",
    "print(f'cor[x,y] = {np.mean(x*y2) - np.mean(x)*np.mean(y2)}')\n",
    "\n",
    "# two variables which correlate perfectly negatively\n",
    "x = np.array([[0, 2], [1, 1], [2, 0]]).T\n",
    "# the ijth entry is how much variable x_i correlates with x_j\n",
    "np.cov(x)"
   ]
  },
  {
   "cell_type": "markdown",
   "id": "36e1cee2-8769-4e51-87f3-78f451b735c2",
   "metadata": {},
   "source": [
    "# Maximum Likelihood estimation\n",
    "\n",
    "Let $X$ be a dataset of i.i.d variables dependent on variables $\\theta$ then we can write the probability of the observed data as\n",
    "$$p(X|\\theta) = \\prod p(x_i|\\theta)$$\n",
    "This is the likelihood function. Maximum likelihood estimation seeks to find the parameters which maximize the likelihood of the data. This is done by taking the gradient of the log likelihood and analytically or numerically solving. For basic distributions the setting of the parameters are usually the intuitive ones. For a gaussian distribution and $N$ data points we find that\n",
    "$$\\mu = 1/N \\sum x_i$$\n",
    "$$\\sigma^2 = 1/N \\sum (x_i - \\mu)$$\n",
    "\n",
    "The weakness of this method is already apparent since it turns out that even though we can solve for sigma exactly its a biased estimate."
   ]
  },
  {
   "cell_type": "code",
   "execution_count": 224,
   "id": "b1b249e8-04fa-4302-a408-ee74ee5449a9",
   "metadata": {},
   "outputs": [
    {
     "name": "stdout",
     "output_type": "stream",
     "text": [
      "Mean est: 1.996124458463215\n",
      "Biased sigma est: 1.4630043055458177\n",
      "Unbiased sigma est: 1.464468774320138\n"
     ]
    },
    {
     "data": {
      "text/plain": [
       "<matplotlib.collections.PathCollection at 0x2630ae21a90>"
      ]
     },
     "execution_count": 224,
     "metadata": {},
     "output_type": "execute_result"
    },
    {
     "data": {
      "image/png": "[encoded data removed]",
      "text/plain": [
       "<Figure size 640x480 with 1 Axes>"
      ]
     },
     "metadata": {},
     "output_type": "display_data"
    }
   ],
   "source": [
    "mu = 2.0\n",
    "sigma = np.sqrt(1.5)\n",
    "N = 1000\n",
    "xs = np.linspace(-6,10,N)\n",
    "data = np.random.normal(loc=mu,scale=sigma,size=N)\n",
    "\n",
    "def normal(xs,m,s):\n",
    "    coef = 1/(2*np.pi*s**2)**0.5\n",
    "    return coef*np.exp(-0.5*(xs-m)**2*(1/s**2))\n",
    "    \n",
    "mu_est = np.mean(data)\n",
    "print(f'Mean est: {mu_est}')\n",
    "# biased estiate but not that bad\n",
    "sigma_est = np.var(data)\n",
    "print(f'Biased sigma est: {sigma_est}')\n",
    "sigma_est = sigma_est * (N/(N-1))\n",
    "print(f'Unbiased sigma est: {sigma_est}')\n",
    "\n",
    "\n",
    "fitted_dist = normal(xs,mu_est,sigma_est)\n",
    "plt.plot(xs,fitted_dist)\n",
    "plt.scatter(data,normal(data,mu,sigma))"
   ]
  },
  {
   "cell_type": "code",
   "execution_count": 239,
   "id": "303ae77d-3695-4a06-9213-af54f3a92607",
   "metadata": {},
   "outputs": [
    {
     "data": {
      "text/plain": [
       "<matplotlib.collections.PathCollection at 0x263121cc550>"
      ]
     },
     "execution_count": 239,
     "metadata": {},
     "output_type": "execute_result"
    },
    {
     "data": {
      "image/png": "[encoded data removed]",
      "text/plain": [
       "<Figure size 640x480 with 1 Axes>"
      ]
     },
     "metadata": {},
     "output_type": "display_data"
    }
   ],
   "source": [
    "m = 1.5\n",
    "b = 10.\n",
    "N = 1000\n",
    "x = np.linspace(-1,1,N)\n",
    "y = m*x+b\n",
    "\n",
    "\n",
    "subsample_size = 100\n",
    "subsample = np.random.choice(N,subsample_size)\n",
    "\n",
    "xs, data = x[subsample], y[subsample]\n",
    "plt.plot(x,y)\n",
    "plt.scatter(xs,data)"
   ]
  },
  {
   "cell_type": "markdown",
   "id": "d2620b54-9ee3-443f-bfb7-efbdaacfa472",
   "metadata": {},
   "source": [
    "Assume that we have a dataset of $N$ pairs of $x_i,t_i$ and the model is $y_w(x) = w_0 + w_1x + .. + w_nx^n$. Assume we have a least squares loss\n",
    "$$E(w) = 1/2 \\sum_{i=1}^N (y_w(x) - t_i)^2$$\n",
    "Then to minimize $E$ we take the gradient and set to zero, the gradients are easy to find and then we will have a linear system in $w$ that we can solve numerically.\n",
    "$$\\frac{\\partial E}{\\partial w_0} = Nw_0 + (x_1 + .. + x_n)w_1 + ... (x_1^n + ... + x_n^n)w_n - (t_1 + .. + t_n)$$\n",
    "$$\\frac{\\partial E}{\\partial w_1} = (x_1 + .. + x_n)w_0 + (x_1^{2} + .. + x_n^{2})w_1 + ... (x_1^{n+1} + ... + x_n^{n+1})w_n - (x_1t_1 + .. x_nt_n)$$\n",
    "$$\\frac{\\partial E}{\\partial w_n} = (x_1^n + .. + x_n^n)w_0 + (x_1^{n+1} + .. + x_n^{n+1})w_1 + ... (x_1^{2n} + ... + x_n^{2n})w_n - (x_1^{n}t_1 + .. x_n^n t_n)$$\n",
    "\n",
    "The system is then\n",
    "$$\\begin{bmatrix}\n",
    "N & (x_1 + .. + x_n) & ... & (x_1^n + ... + x_n^n)\\\\\n",
    "x_1 + .. + x_n & (x_1^{2} + .. + x_n^{2}) & ... & (x_1^{n+1} + ... + x_n^{n+1})\\\\\n",
    "(x_1^n + .. + x_n^n) & (x_1^{n+1} + .. + x_n^{n+1}) & ... & (x_1^{2n} + ... + x_n^{2n})\\\\\n",
    "\\end{bmatrix} = \\begin{bmatrix} t_1 + .. + t_n \\\\ x_1t_1 + .. x_nt_n  ... \\\\ (x_1^{n}t_1 + .. x_n^n t_n)\\end{bmatrix}$$"
   ]
  },
  {
   "cell_type": "code",
   "execution_count": 339,
   "id": "c5d7305e-b173-4f64-8069-6f55ff74482b",
   "metadata": {},
   "outputs": [],
   "source": [
    "def get_weights(x,t,d):\n",
    "    # degree of polynomial so bump up one\n",
    "    d = d+1\n",
    "    A = np.zeros((d,d))\n",
    "    b = np.zeros(d)\n",
    "    for i in range(d):\n",
    "        for j in range(d):\n",
    "            A[i,j] = np.sum(x**(i+j))\n",
    "    for i in range(d):\n",
    "        b[i] = np.dot(x**i,t)\n",
    "    return np.linalg.solve(A,b)"
   ]
  },
  {
   "cell_type": "code",
   "execution_count": 338,
   "id": "69e675d9-6a56-4cd2-8415-6d82274ca7ef",
   "metadata": {},
   "outputs": [],
   "source": [
    "def get_weights_fast(x,t,d):\n",
    "    d = d+1\n",
    "    # broad casting trick\n",
    "    # makes into shape d x d x n\n",
    "    # [1 2 3]\n",
    "    # [[[0] [1] [2]]] -> [[1 1 1],[1,2,3],[1,4,9]]\n",
    "    A = np.indices((d,d)).sum(axis=0).reshape((d,d,1))\n",
    "    A = np.power(x,A).sum(axis=-1)\n",
    "    b = np.arange(d).reshape(d,1)\n",
    "    b = np.power(x,b)\n",
    "    b = b@t\n",
    "    return np.linalg.solve(A,b)"
   ]
  },
  {
   "cell_type": "code",
   "execution_count": 378,
   "id": "dd86f3f4-aae3-4468-8458-929ed976f7c7",
   "metadata": {},
   "outputs": [],
   "source": [
    "N = 100\n",
    "d = 10\n",
    "x_train = np.linspace(-1,1,N)\n",
    "t_train = np.sin(x_test)"
   ]
  },
  {
   "cell_type": "code",
   "execution_count": 379,
   "id": "862f4fcd-e7cf-4565-a9ba-7a459c4f825d",
   "metadata": {},
   "outputs": [
    {
     "name": "stdout",
     "output_type": "stream",
     "text": [
      "CPU times: total: 15.6 ms\n",
      "Wall time: 2 ms\n"
     ]
    }
   ],
   "source": [
    "%%time\n",
    "_ = get_weights(x_train,t_train,d)"
   ]
  },
  {
   "cell_type": "code",
   "execution_count": 380,
   "id": "c4196dc9-7db2-4b4e-abeb-129a86b12cbd",
   "metadata": {},
   "outputs": [
    {
     "name": "stdout",
     "output_type": "stream",
     "text": [
      "CPU times: total: 0 ns\n",
      "Wall time: 1 ms\n"
     ]
    }
   ],
   "source": [
    "%%time\n",
    "w = get_weights_fast(x_train,t_train,d)"
   ]
  },
  {
   "cell_type": "code",
   "execution_count": 382,
   "id": "a016c111-ce37-4eb4-a162-c0baaccb63d0",
   "metadata": {},
   "outputs": [
    {
     "data": {
      "text/plain": [
       "[<matplotlib.lines.Line2D at 0x26316764190>]"
      ]
     },
     "execution_count": 382,
     "metadata": {},
     "output_type": "execute_result"
    },
    {
     "data": {
      "image/png": "[encoded data removed]",
      "text/plain": [
       "<Figure size 640x480 with 1 Axes>"
      ]
     },
     "metadata": {},
     "output_type": "display_data"
    }
   ],
   "source": [
    "# with high degree polynomial we should be able to overfit exactly\n",
    "p = np.arange(d+1).reshape(d+1,1)\n",
    "y = (x_train**p).T@w\n",
    "plt.plot(x_train,y)\n",
    "plt.plot(x_train,t_train)"
   ]
  },
  {
   "cell_type": "code",
   "execution_count": 388,
   "id": "bd033b1c-985e-4781-8cc2-78b733dbbe8e",
   "metadata": {},
   "outputs": [
    {
     "data": {
      "text/plain": [
       "<matplotlib.legend.Legend at 0x26317de2510>"
      ]
     },
     "execution_count": 388,
     "metadata": {},
     "output_type": "execute_result"
    },
    {
     "data": {
      "image/png": "[encoded data removed]",
      "text/plain": [
       "<Figure size 640x480 with 1 Axes>"
      ]
     },
     "metadata": {},
     "output_type": "display_data"
    }
   ],
   "source": [
    "x_test = np.linspace(-5,5,N)\n",
    "t_test = np.sin(x_test)\n",
    "\n",
    "# we start to diverge the further we get from the training data\n",
    "p = np.arange(d+1).reshape(d+1,1)\n",
    "y = (x_test**p).T@w\n",
    "plt.plot(x_test,y,label=\"predicted y(x)\")\n",
    "plt.plot(x_test,t_test,label=\"actual y(x)\")\n",
    "plt.legend()"
   ]
  },
  {
   "cell_type": "markdown",
   "id": "5753fc7f-5f0d-4f7f-af72-96ae9b8a6fc6",
   "metadata": {},
   "source": [
    "As the book discusses we can incorporate noise into the model by assuming its gaussian\n",
    "$$p(t|x,w,\\beta) = N(t|y(x,w),\\beta^{-1})$$\n",
    "It turns out the MLE for $w$ is the same and for \n",
    "$$\\beta^{-1} = \\frac{1}{N} \\sum (y(x_n , w) - t_n)^2$$\n",
    "Now when new data comes in at test we instead have a Normal distribution that lets us put guess on where the point could be."
   ]
  },
  {
   "cell_type": "code",
   "execution_count": 453,
   "id": "115f5061-82bd-4cd6-817f-63e300ff1ff2",
   "metadata": {},
   "outputs": [
    {
     "name": "stdout",
     "output_type": "stream",
     "text": [
      "0.08833154460063948\n"
     ]
    },
    {
     "data": {
      "text/plain": [
       "<matplotlib.legend.Legend at 0x2631d700c50>"
      ]
     },
     "execution_count": 453,
     "metadata": {},
     "output_type": "execute_result"
    },
    {
     "data": {
      "image/png": "[encoded data removed]",
      "text/plain": [
       "<Figure size 640x480 with 1 Axes>"
      ]
     },
     "metadata": {},
     "output_type": "display_data"
    }
   ],
   "source": [
    "np.random.seed(1)\n",
    "N = 1000\n",
    "sample_size = 20\n",
    "d = 4\n",
    "\n",
    "x = np.linspace(-5,5,N)\n",
    "t = np.sin(x)\n",
    "\n",
    "samples = np.random.choice(N,sample_size)\n",
    "x_sample,t_sample = x[samples],t[samples]+np.random.normal(loc=0.0,scale=0.1,size=sample_size)\n",
    "\n",
    "w = get_weights_fast(x_sample,t_sample,d)\n",
    "p = np.arange(d+1).reshape(d+1,1)\n",
    "y_preds = (x_sample**p).T@w\n",
    "y_est = (x**p).T@w\n",
    "beta = np.mean((y_preds-t_sample)**2)\n",
    "print(beta)\n",
    "\n",
    "fig, ax = plt.subplots()\n",
    "ax.scatter(x_sample,t_sample,label=\"samples\")\n",
    "ax.plot(x,t,label=\"actual y(x)\")\n",
    "ax.fill_between(x, y_est - beta, y_est + beta, alpha=0.5)\n",
    "ax.plot(x,y_est,label=\"predicted y(x)\")\n",
    "\n",
    "\n",
    "ax.legend()"
   ]
  },
  {
   "cell_type": "markdown",
   "id": "efd900be-f899-495a-a54c-38b8b367089d",
   "metadata": {},
   "source": [
    "Now we can interpret the orange curve as plotting the mean of the gaussian at every point and the band around it as $\\pm 1$ standard deviation given by beta"
   ]
  },
  {
   "cell_type": "code",
   "execution_count": 458,
   "id": "483b31df-bc85-4010-bfaa-fb7c67ac9256",
   "metadata": {},
   "outputs": [
    {
     "name": "stdout",
     "output_type": "stream",
     "text": [
      "MLE for p = 0.696\n"
     ]
    }
   ],
   "source": [
    "N = 1000\n",
    "p = 0.3\n",
    "b = np.random.choice(2,N,p=[0.3,0.7])\n",
    "print(f\"MLE for p = {np.mean(b==1)}\")"
   ]
  },
  {
   "cell_type": "code",
   "execution_count": 482,
   "id": "cdd7b621-deab-4bb4-a652-ed60c4c5f278",
   "metadata": {},
   "outputs": [
    {
     "name": "stdout",
     "output_type": "stream",
     "text": [
      "MLE for p = 0.70004\n"
     ]
    },
    {
     "data": {
      "text/plain": [
       "(array([0.00033333, 0.00177778, 0.01066667, 0.04055556, 0.11466667,\n",
       "        0.22255556, 0.29588889, 0.25566667, 0.13511111, 0.03388889]),\n",
       " array([ 1. ,  1.9,  2.8,  3.7,  4.6,  5.5,  6.4,  7.3,  8.2,  9.1, 10. ]),\n",
       " <BarContainer object of 10 artists>)"
      ]
     },
     "execution_count": 482,
     "metadata": {},
     "output_type": "execute_result"
    },
    {
     "data": {
      "image/png": "[encoded data removed]",
      "text/plain": [
       "<Figure size 640x480 with 1 Axes>"
      ]
     },
     "metadata": {},
     "output_type": "display_data"
    }
   ],
   "source": [
    "trials = 10\n",
    "p = 0.7\n",
    "N = 10000\n",
    "binom = np.random.binomial(trials,p,N)\n",
    "s = binom.sum()\n",
    "nk = trials*N\n",
    "print(f\"MLE for p = {s/nk}\")\n",
    "plt.hist(binom,density=True)"
   ]
  },
  {
   "cell_type": "code",
   "execution_count": 46,
   "id": "43048acb-9e91-430b-86e2-3c6d073cb26d",
   "metadata": {},
   "outputs": [
    {
     "name": "stdout",
     "output_type": "stream",
     "text": [
      "1\n"
     ]
    },
    {
     "ename": "TypeError",
     "evalue": "'int' object is not iterable",
     "output_type": "error",
     "traceback": [
      "\u001b[1;31m---------------------------------------------------------------------------\u001b[0m",
      "\u001b[1;31mTypeError\u001b[0m                                 Traceback (most recent call last)",
      "Cell \u001b[1;32mIn[46], line 23\u001b[0m\n\u001b[0;32m     21\u001b[0m a,b \u001b[38;5;241m=\u001b[39m \u001b[38;5;241m2\u001b[39m,\u001b[38;5;241m2\u001b[39m\n\u001b[0;32m     22\u001b[0m plt\u001b[38;5;241m.\u001b[39mplot(xs,beta(xs,a,b))\n\u001b[1;32m---> 23\u001b[0m plt\u001b[38;5;241m.\u001b[39mplot(xs,p(xs,num_heads))\n\u001b[0;32m     24\u001b[0m plt\u001b[38;5;241m.\u001b[39mplot(xs,posterior(xs,a,b,num_heads,num_tails))\n\u001b[0;32m     26\u001b[0m plt\u001b[38;5;241m.\u001b[39mfigure()\n",
      "Cell \u001b[1;32mIn[46], line 9\u001b[0m, in \u001b[0;36mp\u001b[1;34m(m, d, trials)\u001b[0m\n\u001b[0;32m      7\u001b[0m \u001b[38;5;28;01mdef\u001b[39;00m \u001b[38;5;21mp\u001b[39m(m,d,trials\u001b[38;5;241m=\u001b[39m\u001b[38;5;241m1\u001b[39m):\n\u001b[0;32m      8\u001b[0m     s \u001b[38;5;241m=\u001b[39m \u001b[38;5;241m0.0\u001b[39m\n\u001b[1;32m----> 9\u001b[0m     \u001b[38;5;28;01mfor\u001b[39;00m c \u001b[38;5;129;01min\u001b[39;00m d:\n\u001b[0;32m     10\u001b[0m         s \u001b[38;5;241m+\u001b[39m\u001b[38;5;241m=\u001b[39m np\u001b[38;5;241m.\u001b[39mlog(comb(trials,c)\u001b[38;5;241m*\u001b[39mm\u001b[38;5;241m*\u001b[39m\u001b[38;5;241m*\u001b[39mc\u001b[38;5;241m*\u001b[39m(\u001b[38;5;241m1\u001b[39m\u001b[38;5;241m-\u001b[39mm)\u001b[38;5;241m*\u001b[39m\u001b[38;5;241m*\u001b[39m(trials\u001b[38;5;241m-\u001b[39mc) \u001b[38;5;241m+\u001b[39m \u001b[38;5;241m0.001\u001b[39m)\n\u001b[0;32m     11\u001b[0m     \u001b[38;5;28;01mreturn\u001b[39;00m \u001b[38;5;241m-\u001b[39ms\n",
      "\u001b[1;31mTypeError\u001b[0m: 'int' object is not iterable"
     ]
    }
   ],
   "source": [
    "from scipy.special import gamma\n",
    "from scipy.special import comb\n",
    "np.random.seed(0)\n",
    "def beta(m,a,b):\n",
    "    return gamma(a+b)/gamma(a)*gamma(b) * m**(a-1)*(1-m)**(b-1)\n",
    "\n",
    "def p(m,d,trials=1):\n",
    "    s = 0.0\n",
    "    for c in d:\n",
    "        s += np.log(comb(trials,c)*m**c*(1-m)**(trials-c) + 0.001)\n",
    "    return -s\n",
    "\n",
    "def posterior(mu,a,b,m,l):\n",
    "    return gamma(m+a+b+l)/(gamma(m+a)*gamma(b+l)) * mu**(m+a-1)*(1-mu)**(l+b-1)\n",
    "\n",
    "num_heads = 1\n",
    "num_tails = 0\n",
    "xs = np.linspace(0,1)\n",
    "bin = np.random.binomial(1,0.5)\n",
    "print(bin)\n",
    "a,b = 2,2\n",
    "plt.plot(xs,beta(xs,a,b))\n",
    "plt.plot(xs,p(xs,num_heads))\n",
    "plt.plot(xs,posterior(xs,a,b,num_heads,num_tails))\n",
    "\n",
    "plt.figure()\n",
    "\n",
    "plt.plot(xs,beta(xs,a,b))\n",
    "plt.plot(xs,p(xs,num_heads)*p(xs,num_heads))\n",
    "plt.plot(xs,posterior(xs,a,b,num_heads+1,num_tails))"
   ]
  },
  {
   "cell_type": "code",
   "execution_count": 48,
   "id": "9c3e178a-ca99-4911-92e2-cb65b71e9284",
   "metadata": {},
   "outputs": [
    {
     "data": {
      "text/html": [
       "<video width=\"1200\" height=\"500\" controls autoplay loop>\n",
       "  <source type=\"video/mp4\" src=\"data:video/mp4;base64,AAAAHGZ0eXBNNFYgAAACAGlzb21pc28yYXZjMQAAAAhmcmVlAACk9W1kYXQAAAKgBgX//5zcRem9\n",
       "5tlIt5Ys2CDZI+7veDI2NCAtIGNvcmUgMTYwIC0gSC4yNjQvTVBFRy00IEFWQyBjb2RlYyAtIENv\n",
       "cHlsZWZ0IDIwMDMtMjAyMCAtIGh0dHA6Ly93d3cudmlkZW9sYW4ub3JnL3gyNjQuaHRtbCAtIG9w\n",
       "dGlvbnM6IGNhYmFjPTEgcmVmPTMgZGVibG9jaz0xOjA6MCBhbmFseXNlPTB4MzoweDExMyBtZT1o\n",
       "ZXggc3VibWU9NyBwc3k9MSBwc3lfcmQ9MS4wMDowLjAwIG1peGVkX3JlZj0xIG1lX3JhbmdlPTE2\n",
       "IGNocm9tYV9tZT0xIHRyZWxsaXM9MSA4eDhkY3Q9MSBjcW09MCBkZWFkem9uZT0yMSwxMSBmYXN0\n",
       "X3Bza2lwPTEgY2hyb21hX3FwX29mZnNldD0tMiB0aHJlYWRzPTE2IGxvb2thaGVhZF90aHJlYWRz\n",
       "PTIgc2xpY2VkX3RocmVhZHM9MCBucj0wIGRlY2ltYXRlPTEgaW50ZXJsYWNlZD0wIGJsdXJheV9j\n",
       "b21wYXQ9MCBjb25zdHJhaW5lZF9pbnRyYT0wIGJmcmFtZXM9MyBiX3B5cmFtaWQ9MiBiX2FkYXB0\n",
       "PTEgYl9iaWFzPTAgZGlyZWN0PTEgd2VpZ2h0Yj0xIG9wZW5fZ29wPTAgd2VpZ2h0cD0yIGtleWlu\n",
       "dD0yNTAga2V5aW50X21pbj0yIHNjZW5lY3V0PTQwIGludHJhX3JlZnJlc2g9MCByY19sb29rYWhl\n",
       "YWQ9NDAgcmM9Y3JmIG1idHJlZT0xIGNyZj0yMy4wIHFjb21wPTAuNjAgcXBtaW49MCBxcG1heD02\n",
       "OSBxcHN0ZXA9NCBpcF9yYXRpbz0xLjQwIGFxPTE6MS4wMACAAABXe2WIhAAW//730z/Msuv3ObXj\n",
       "qPeiniZfQ3UlAZuWxO06gAAAAwAAAwAAAwAAAwMinBO1uTV/QdwkAAADAAASzTO/8KSC5gCMBAxP\n",
       "s40FMpQe6MUTUrytSakkyRfVvsa4EUmHSAU3hjZIosf2uuxxjZaEzazgkDQx4nd0tthn6Z2/wM2B\n",
       "LwPscenxDwUHcSAg8g3dUAFEXiEjv0AvUa9ixiLB5EViCFvKR3AwQ1JImaXtkspdygmYv+YI/a+N\n",
       "Y4z0y14CC5B7MadFt+pZqSS2G3QS5FqQ9kk8LeKvxx3l3NEhRTlHl/dNuPeCDw5XuN2ycBhxYl1O\n",
       "pJPB2S0RBd5kmbX6KI8QpvqOQQ+kWmg/fb/rn6ub9e6V67QI98pMnmCL1/9GU3zgGqZr5thP1EIt\n",
       "SLVv13iDOEiEHk3NLGaBEB7eTMBAthAZ6UEqx0dGYK9Dp52LsJusKkQev9xp2z790ZDz+2j2ONiR\n",
       "bYSZpqJbxUlTOi4cuORYKnlzShtNASxlAkjb2V6NW8sflzcjp4eSAAM26QxfAONg8bpBQjrb+HcG\n",
       "Ol8XgcS2tdUX0OmicWXgljrU7nJr20xLL002wsMFoFG/7JLt1+Jrg5U+L+3QPGQdQ/YxtbkqASSU\n",
       "HU7yRerZangHDBjmmVoHIHIC99UmjTkyvOic9HHGVqOTA5LU0iOgwHEv4nm65OJQZqxvwSpuBIrA\n",
       "TetU+c0D/pllRmdbhm5PT3ji9tny45n9S8Y/Wx1gR837oHezFxl6s1Rmj/9po8X2XmtK9fTThYDe\n",
       "V6RdoJ+qTdP4QP44/BsvQsOlShy/bovvPAnxKTfHDFYF3VjfwNMDkRVmygMDRcMBaw9y2WzUFmbd\n",
       "sutVK2R6XZeNqRBdEF+kBCqTsAoJmIpOTh5q9dA4xYP0EmjRUR/R1VWZa2cKnezE5GgKw2vLLLoa\n",
       "L/TPAHl8CAUvwWGh4CdgFMUY59d1oAbJ5qGyxhEieTCTJn16r3BxuqnJHjovgOrifZ88gPQjJkis\n",
       "R2EcM7v60cWUv3pa+w0CXu7l0IkyIFCgdTU6zAuXjJACBa+spMyDlsJgcODKVJ3uoa5dyup5Sac/\n",
       "pu3q9491J3uZXA6SyYCURQ6pXWXx8IA/uQHUBisQ4LkRX8Du+V/+/wsrvJyZ9l2Eg1G44UN0IdM0\n",
       "uiDH6hlBIkL0mJYns3trr5sf1jgXDqiohUAAkN1PlP63x4xms/mWqruTNwNSSI7UsaCfoL/ZKmaE\n",
       "kBMEObjzJUA7FufH+pLw52usEYesceKOuZEMdF11X19zqmlcLgtKmPYjg73pZbNBb0s38D9YRBHs\n",
       "voHwTmrOxb/9X2Ih5vkGHAIeW2eSpT7VR61pStML7gpJd9SKJUID1rBDujyx/9QLVCBiCdZpe0IW\n",
       "Lz46KFjvdoNhBPG5TAc4WZaqP9yANzIBnx7qS21yEZjZuMIjh71pVuUnWjCwzG68Jf+uNp/c9vqF\n",
       "vZOh2rX9E9zjyfqb4mG7p9halonh5t6ELt6yPix7hLW1hMZagQMUf9TpVeJzav+//cJqhGYuhJaF\n",
       "Rorh0dkCeaayyRh+AewRDsMKVwt9/m+sQTNeYwfw9sqTKw3UMbEuBatGl8RH68QAOs0bMIAidT9Z\n",
       "G1xtJcCKaU2rc+OaEH0bYVIoGn+QdfsBXKzOlXSf9l6RoH6myZ38lbNTPof+RXjEmso43x/Ad8Pn\n",
       "0293qQ//8rVJTdvZ/0Iu/txDYx17tS7u3gk5+sWA7YkNkLYjwyoGRL8gSlcccP3pnZuRHx4bbfGa\n",
       "WjbxCNq0UPHAPQHplj1g9pItW0bxhgt0LdQI41DkWZCoYYABkuvfoxPkTFRqMBfb0Dr1KPMWxQWq\n",
       "g0E2kFwSeYCYj0eqqkCwLS2Q+tt+VPBdF5/o5TKpzu4EChzoeJUDng/3GxJ4muSCOdirZV/tXwyN\n",
       "Zu8fQq8VP4A8RnYe2sqAbN0tq2/ZHzA/hAH9as/NlUJCLCbAZD2Qgom/cY8nulOyDmA5t0GOXg/N\n",
       "MlmOlzFRueSrwQNeuxxrvMHcQHB1Pej9lG4o1M0IwDTuROWkWX1pUEeTaXKhg1+epWbM0dTbGTPO\n",
       "7pq+IAIwH4yaq1C8//5R+DuvJUp28SlPCpIEib7IFw9zGgTQsj7omAEuPiX2sDGKRj6XTAyBRyOX\n",
       "1m0u3Db/re3PbzAwiXz4sgqBmtg7wcza8dJQMe/e2VFjjGp/D3nE/ynGrd5VtwJ6zaf+HcRsa6z5\n",
       "8nak5q4KxzURxChRlsYqAl5UQbq1OyF0cwQIBcPIsHROu0Q+fAzv0khtQvpINuNXKDGic/SWP1lb\n",
       "6jaGzpsYR2a4Orwh+WCEwdEk+awHCtEwD9yutHUmOJ/FIMHsH+7UyV/hK2T9qF3bZc8g3Nz3Vo/g\n",
       "uGZgySJUg5tQsBzWPHsn86sSwV+0IlVFyo3OxM89N71Tf/1Z5HYTF9s//wNs8BlyLL60qCPJaLlh\n",
       "ga/PUrNmaOptjIMO9wtdfgYOVf+whm///4am3vY4CLqNNub5kIh+3uv3ZDQ8llaS0uvaeqwFmIfn\n",
       "bL7AHG3cNRhicdOW0ij/m5/sy7+qC3wbNiRUbZq92hzAluQJuXHQeVJGnIP9J3EvQQ5GVVAm0O9o\n",
       "DSLQ5hpDk+ygQ6Hbhowzc3k+PR/p9l748hTgNL4G1koz/JAQgs9fCM4y4QqawUJ+53BRXXUIJDNA\n",
       "3tVG6rF8Re+PTzUTp+Wfp0xGdb9LdEfjscvar8A9mOYrBNa5NZQooUhCZHDq3NKw6b5JNYUassTJ\n",
       "urCxjMrx1kGTj//xhCLd5F7drud2nQbPjhPZv9/EkhHwhxTRrqKvPz6Zo/nmplQ+kuixrrUHBmMk\n",
       "Vl//D/4Ax4tTnKoLpu1u32i5DwuFmoNfwbUt82ypNCfrWkgqSLNT7sOKYkL1CB24Bc3HXKQhh3ku\n",
       "FZ8+zlg/q1fyVGx4OZE5KzomZQBjdKvcghbbWAE77LsVZeMlcXeR+zpQ9TET+EQAWqefe+v7lPDp\n",
       "KxvJhCtXOeRsOgCC5YEDSyGmTH2pJhE4HrhR7Tc0LLeKBOzdG74/Y6+0k0ZXsTH//12ERXxX/+Y6\n",
       "/SonIcyfPd27moIa62BA+OhidKzpeGQ13124vzgwos9r1MryUHbzGidNxXlgcQdNNV+N2YCw1SXl\n",
       "ZwY9RKKtZJz/cicgXEqIDJyc2JU6p9OmlACOazY7l9cEZmQY8mqJJh+1XBTAy3V+mtrxag6qshZI\n",
       "9D/CyQGNmJWtYzxAPOI2wJ8Bs+aLjzQOBbTQDdiTrRht/2uQmU9gKMpeofnprxK3fG+u9XFj00/V\n",
       "F7NGt+9v4qrr06YYF0J3f5WW75pAzcgVBbI1WPfiPltHUMIv4i5V9Ut7zs7+vVT+v6wP/WLBX0zc\n",
       "8YONS/m6pt6s0FhYroTl2isJ6+mgxA/eZ597kYjJ+AJFYqnblMZ3dpCK0fzKwNohOQN7l213GYwP\n",
       "wpuFMWz6wKredlX3sScwEM7O+wp6QU4jVBXSjAqQdW5LGN1wGGLEO0T25GgINJCV9GaleC5mh6oz\n",
       "UJwvDZRwrJj5ZJnQYY1pjbS2/XMEePvCO0amvbvrDKADlB72XDf1WjTiCn4Qqj/3bz0FDtilTvCf\n",
       "R9bMOSo6+pC6UNGP/Dqvz/gAA2Ly4XtDUg92XIuEnT5pn7X57li9kvsSxGh9GMGlms8krepVsMW4\n",
       "dIpQBfCt6e+sGAcA50x1BBBHsY2nrCpb8pNUqkaX15lmT9kK3Zwuoi6qKRoQfqVX4+m12VL440cO\n",
       "7xlwhyXegKlvmlZa/cTL8Pt99BFLhr2RKZPHiah46YiYh9mAAAVwq9b8Q65tbPePeuhlAvtIYfPv\n",
       "J+ObfsMvMCsCj9cPs7SjzR0Ok1/L6gGkLt9uJCA/pwBjr/vHmn1p0Orn3s/M1GOf+Lz4Cke/OtNJ\n",
       "qRD4QcWWfe/FRuCnzjx45XsjUh7bCyHmBI5YfOle64K0fanvlV1s426ywdGlOT5wd54p+HuUWfJe\n",
       "uo4+7vGjAiRy0oRNUcIuAt5lKkWvUxRYwlUB/X+bTxID1PeCJUpQoeZX/1A2070wjnd1VJt+vmTx\n",
       "vlPQSwziHvl3R1SnK7B/aoOiIfWbgv35bINieW3zbkdZXNU3kPRwb/14a0Kk22la+dhOSCAA2SxD\n",
       "HLleJT6JPbyMC9FK5j50rTgyUnSMcRLfaKdbMPo8LXKiLf5ZwIpK+YtGn/5YpHKigDNJD+iZ/XBL\n",
       "vOFNaNwmnhOWbrSf5L+MqRYhmscnISV6ueaYy3Djy6AOy1t3i5eJBTpuEt4pqf28W7v6FZrIjdeg\n",
       "+nKGgh7A2ztE8JtL4V+Pth4xEtdqjRiCifTOf+rHtjJNvdS3W9II0oG2SgQbagGcpuvnGjAz+Kia\n",
       "VzkecoZwtjzf9IDc87tT6/GneP/9+E/PJcfkCwOtWBQag+JNK+awyzeGEZVdjXfuK+Bn2UguJfLU\n",
       "GvIDoXzECrY9JDOecibI9gTzMxT9/JnSXiWfPZaJsgLjOyckIi6sTHdoNMJg0fLdR/SlKAc60KA1\n",
       "m5P7rCS0PD2plkiX3JHdfANTz1PLK8wFxSBjU95DlZ8Lf8ZxPPOwwEDeQMTrnbbcg/XtK0WwhBhc\n",
       "0IQJXnM5wOidgV/naz0R9usAHwONYbEz1yxjX9IvE61IoA0JSNWBHBiMq5zoi84//ZCL2s14YlV7\n",
       "G7sOqqmIfhajLQXiKLjV4LeZwA3hpPPstNAd1eOvMT8XzGnNbcH5E1ltfO5UZCxMyg21l0kjUSPE\n",
       "CVBoIFfjVG14Ofbb2NYLJW16WZhpCrNgX/EOmUORtBKAlUOEvkonT4hzDjqxJIDyc7HSf7ocVKbM\n",
       "VPyRDExMOqeRA/EO/mtb8z8w+mrpRCyqqEL+2vOiW6TVM9KAc9/09fq09Si+84UI2hWWa8EsF43n\n",
       "fgLkSUT3RkOkqABcSKdkCpqewPc6G9Uep/Tj2PenT3a1KlduFT1tD2wTNkKY9N/MCywE0c0TebVC\n",
       "I9mx2n0pAiQ/b8tG4LkMhnX080Vy3hb149WyCYRWpTWCpJDFPpkcA67LJP5sgungMohbhBeNIqlX\n",
       "mRpN124dJGAgkOb/T2aS6i/8T8sY7Dej1wuCiplT1/XdQ5RT/ifcCGTxrOGSMMxQfG51t7jbgv+M\n",
       "bnjseTathDUyOiYXfk/ivcX+jyM1Uq4PoOKMRlOrGZ+8DcMjxytu7VMyXEZtbOvK5bNVc2yTU57m\n",
       "dwf/ZWBUauS7pgqg9K3gfVEHWFgD1Az9U9fLKAUF4UhMJf0JFN/fI21kyYlbDqWC6FoEOEY2kkX/\n",
       "0ouDbMhu3j5AVkEvEvlRqqmiY3gDbjGmSgbD1vY6VoyLej7ihZ0iYmE+/48HtH6XzLs/ROJOZsOT\n",
       "HsQ6jMn/5hWSaW6U/WgTlLP9pCzuIkmtn7W2iywdOeLjVnjHHCAHPH4GHEl3XIVxocMzxaizb55j\n",
       "jXRNq46mLTKrECCvvoG/xsbkGb0e8xsIKVq3XorEW0/vNcGMw+ltRYkwazFPX4ZvK/ptbWjyPGAC\n",
       "6+6uYG3XQDUlOOe7dymd6NqW6vH6RTtgi0/VYV8gkzMGakYLJ+ZSAbvSNzM+B4iBv6IdZ9kLdpm9\n",
       "jFFufQoOrySH0XQtyuVQHeTdnGlBZSHOw1ehGtsEPdlGz1CJQ75F1kb0CQPpkjA04jsjWodHcLcQ\n",
       "8uoyr7KeEOf/L5sRSJ83HNTJzrscINe+5O1G2Cplu7GS7ii/Kdlsc0NZzKDu4KFvaJtIEZKgFwg6\n",
       "seUTBah6xUmu+1ipbo0LytE2vYbkOEPU1u/u+NzfpNf0Tg9pKq8Kg/WeyagsS2u9oSgriAdoC/n8\n",
       "AsZHNQo4NMHwhorXb0DCJwb2CKKJcL+x9kyOwl2Fti8jQYrHTAvo6ksGc6H+WNGqxxenJlBCbo5L\n",
       "yTPok+OdFPaIiWH3XksoMz6RpDGWHUp/4jGOXoIAAM5xAmoGt7z3imFQbz3FMCvh9fBQKvtp33xH\n",
       "ARWoNbHhC1+P6dRn0aDtUU5oI3XQYlWZnoQTVhf9X1T2+O5of/aorWZLEufvwYG/gOe9I2Ae9Guw\n",
       "aON9A6cR+qTy0pU3NKbYtk0HKIUhtKuyLSXLSp3x8QYGJ0vJElem2AF/+P6fMP5/iv9N8SKJQsrO\n",
       "fV0W2ozRU4/2kYYdibdkK8pzJ13UwPRk1LDUFtS2hQ7TIPAKeXg3uapPI2ZLaYLxq27vl2rVCGZ5\n",
       "5dbtkZNNqVx2myRHH+8pcqLuxHgTJxbgHWypRgTShc/Y4tt8BYlha+HbUMuhufdg7zwZiVpdN306\n",
       "zGUXhIFTp0gG/jPNHL2/2gtG1xYGepnCyXZURjKxAPrVeJIMfTTFlS0LYGsGlJ/ld8a8BSN9oNWl\n",
       "vzs9qu9/NmkcevAeCTE0PkFbOgJi2tRG9bdNHYJt9NWcv87Ya2Hobgj6chcNDOeJLnMcMHV+v2pH\n",
       "RuMTmH2RXol8RS7e8QGldHx1FQDQC1IiRSmttuL6eHrg9ipJbwe9bz5vG/HsIgR95Cw8GRVDr27l\n",
       "n90hDKXLPBhwhLXA2CEvMWn4yBMsojSNmsE8ROGT+vGNcbFshGzS/neXXuA+k9T5ngqP2Gw0wtUX\n",
       "j7eHNCsmBlql9Gycnltv196SCo75qD/uyu1DoUSDirun6Prr+uGkn+Aqne8BMXi1P35js02Czlxt\n",
       "qIFkfZZWHYuAp7KPLe5IYliYxkZmYk3eOYUyEd7pPk3Zc/Kzz1ChSoToJyGq1bwYTS+EU9rZhXq9\n",
       "F4mq6Q2P2L1JmvD3cr/3HINq3qdXqm992ap/fy68SZi0zObwzz8w5KT/fvyV2PMKT2TWHTwnRiak\n",
       "ebFmuIG+WVKBJHM5TQEsCJHr75Wya3mpZ7oFPQnByZMebgiXLVHlmVJmqZcrjAZm7p6SyN34ksy2\n",
       "tuijNPBz+TOnb5zTAAHwG68s4nDK6lzyt9F5pGlGcdybojsD9PZw78bZiZhkLhl89hqwInoHkS8U\n",
       "H7DaF3TF7KES7gK2hbm1a3p8KoOFouZUfP9KYSSgALJ+hasGLI7C0Va/jldYy5pUZI3Vodv9jaB7\n",
       "ljN/pMlERdfFGJ46Urbjuy/EdEsYus6uM7rdYy4SiN0IfEv6Vk1aFd/X/LMYQWO19Tyq53gKbDW4\n",
       "3mcl5wt6xLoP/XllcLbdpZbxPymETQ9KwP/dg3gS+6ByE6UgIlnEVbjjMpmt899LAYEl2muCATSq\n",
       "yCVdr6RApBtXaWq7em5aiA9fXb//uXE9ruDq/fGL/yyGN9r5BKByIjaUUcDW+B5tPmIpzutWDwu3\n",
       "/aUJb/dJqZsE03mH4T8qqIWKM/snNX7ny+ejomJAgyywRzU6199qIvSqL2sVWnleWqcTkaLCXqM7\n",
       "KNBpkUza3+O7xP8wgTnZzYIbeQiVCYWSTyKjLifaFGqvq1lh6qEJFnC4KjV3cnL+eiO6TJJZYA4/\n",
       "OSDxW/yrDf/5BRcLXLPR3hCszuNfGkaj1ffuCaTwpAfleJBcmt/n/x/t6MXI0syJOO48lY9AxOPh\n",
       "QR6N9zqxooyADGpoEWqh+rY5yehyH1VYKpefTTFo9ILzWzyAe14TT2a9xYc8qBvt3rgY5hcag/IJ\n",
       "N0Tppr4uoAtC2KWRgZxULlXS+c9JmHyAQuF/sjEbwbdkxemm25zzZPgcmXJeuSOSdhsSnEcUjNXR\n",
       "Irn2n/prbo79HlmwJyD45RXcXvkR9IcrkdUhLk/AcaBQipql6UjXvQmZk0FxaYSM3xV9PGl/bMyx\n",
       "9NXp9+9P8by9CZfZI4rCcLAWGnzkVQeh1U6Prtht1TIxVqZFJGUKhCGXvZv8reytZCx/y/u32UeK\n",
       "KaXefZnPjbU4Ih9RylQDL+gW2mmsFohr/4DzVuWrO7LML89+PqwPKR9U0KLT3Ctcg4xNmB6rCGuq\n",
       "8oOJLdm2tIlS/kBuK/HZ82YLsbD6bDmTzKw09o+XcvBgGU3hnHk8Na4XIyCwWjCESMg+iz2HHfzj\n",
       "s8usXbX2qrokgjZ1oytF6o6GMNcx6qWu7eY8AAJu8rjxYJfJml1DigAX4KOMH6z5CqBhiliWGtaq\n",
       "QLg3tswCgsXfFcrSnpmI+pzQHBgXFbvVR3hEIy2vD/WGE2M6/JQqE5wrD7YvNuzYcCxtuXI/QHUK\n",
       "kVeCxkr8VhF7UVoRFQKlfLCHEOaiO7ekSysVnYRfBO1diuHiYzWSl53Px2UlwgNSbUcNwJbrokzD\n",
       "0Cvf6DgdNmlkNko5Fms6dTGMSHrm7JJiG2SPUc6pNbkVZStpeo80Q9Pj9uB61nsHUqNtKxRDfvSS\n",
       "e6q8USqT9Cvpg6Nrh74PwkEY4dFaJ9AbCd5VxipcKY13aH3p4/faK6d5L/Pv1TYKa2wEh3tOsin7\n",
       "WOveIPWyhz8GNRpppxZGCdFVx/O+sbcafJim02dBJasT0EY1le6vxY3TRhtBc0pUfQJKXSP/Uo0w\n",
       "rB4Q2/XzJ43ynoJWJIAwv14e63pHhmwMsty5TZA2jtOgRqhd1i8YyMCNqAk59FaaGWv+K1rhUt9Z\n",
       "rLzFhePIqNyWAceEjdq2LqZQXtdahcR6lMnH5t56hgqZsOq3AlNAiSat00FdT87BBtjh5fXSKWnv\n",
       "Cx4mjVcr/PYxdH4KY7VJA82AM45g2t34Zrw8ROoO/9FnByzJyljlKePsKV6G/qHrYJmf4FoNksQp\n",
       "gXxGMcvPgAAg1R3UexFpUtmFzZF7qgqBzmdnuYrjsdf7iN70cVKsNqVtmJywoib7u6NfQXIMp39v\n",
       "20+NGSFU7YzsCkakRq6lqdbf277Www+h4lRzNZAinoFg0K5vISzR+YrpDAFNTP2dVdZ/jm+/XdgX\n",
       "c+EyKVonR3WSE4cHTPmQcKSaNppXI3jVjX0P8SPdl/qnyz3pMmPpoMmm2XsyMYWYLNhu92XOLTaL\n",
       "ORfe0qxlOTbAN8BR83GiIImTc3ecyTWuS6lTHU+YNjC26EdHrbRsfhkZp/vQY07CSV3Zxdw1lh23\n",
       "mkmU5dm2hFm9zWQI17iganWoW/oYdd/ojUUti9AcJbJNgahISaKEufGR3gzfVm7nnMZ9byyIH2Ra\n",
       "IbvPSgAP1RprY6/MJkOvUAiCf7hDO7YO+JRHad0Zk5cacRKiMkd636kDM+Y3fiULTBfTXt4I6t2J\n",
       "G791jvgt0DVDMUpFL3u1QO4MBiwhfSFc9kFCb6RPQhOtqVb2datWOcIs0/APUE6wRPVE5z1zvJGi\n",
       "7rTInuBk8/Y+ErT6eL16rpmlrniSxqgqTqO7Dyr0+CDQO0bElLE4Qqkf/62wmoLtLb3YMs0Y9CbF\n",
       "vpQBbpQfWFz7Ff42D6gfwP4lh2leAnpzk+0V9hOxmPjIOjKWx4uQTo/firmKa8QIA05vW5tS5rlX\n",
       "KV9c7x1a9ej4ci0cCvoYje76VasD6TAEzS92GON/LbQEE4mfwG5CiuErr7MEI4XKhJlhqlRIzr3R\n",
       "5XzpuKRerDle6I8m6aKXgxpAXwWEj0m6EmbD6meODTpSkhRg8/gXTEyGkJ/dIj34uMIbpORPOK5m\n",
       "m+Y5cNOEMneED/VOpNJvRlEU1yt6mAAaPYi87cLPStzOBBa7/O9PYwOGFW/ynRslMqSEEeaNeG7T\n",
       "66Lq5dwlfbxr5esAdul0XfcwLtUwHP/4DddmPFh2JEpqBzU8o1yzCM1Lk3t+jrPp7KuZDoRvbz5K\n",
       "TEpjseBsYRgb0kRg46ZHKnScGdusODHRSA/wKZYXx2WVrFBIe/P/jci31Lsl0t+cvbHs0oSi7LMt\n",
       "IZ4ZFSBOPgTbUFT7UMfTLh53D49l4DaDWmi3o9HnHsJ6xiZH/joba7nRb2KU5c3gA92InW0Dpj6C\n",
       "Xn8hvmCEGQwBPbY5T8VFoJe0RpfiEaJiGZyxG/lW/dk5n8VEFNjvau29HCmDlSrwwTBIjotWiG15\n",
       "SL4hlE9LAKotqEsgAAAZwmz9qtWi6D/xsAWBHqxoJesURrRDYRjDctVSrvEvG7XBAcDJyuTiJ7WI\n",
       "uE2UDXWyXJMEABIoEcB7TtJ++Seki95vzqGlhkoqDQCD0czZuMToecgX88pBVRcv6lG2f3FP/63T\n",
       "1gG+HZ4EotPyFtdOFHdss/r3n/IZkjfaQKzQKGXgaQV9/eW8u0igo5yUlTd1L8vxNh2ZEnuTCe9k\n",
       "GsjBnZle71xs+b/gJ9GXd6ZaqCAeICunQSz2KKEfK4mI6DxQaYFtvBLGwYlacRJznqfgiUMSXr2g\n",
       "5Dyd9li1j1OzkpToPjZnoI8kpfxayVaua4eAZeXt4yO1mDV3RUD3u2osUv+P88/Z+F8Yo+up2QqY\n",
       "PLkjki6ZAY1IemD+NF09GdNu7t+TwqVlemIqgtZ9QP9nAI5NqWlWtOmAYH75usDG4Uia3vBKWvKr\n",
       "LIUYtNDrOWGWD3G7CLnRTJeBMCYxNa/zezj46WpeRPkcOh8wg4wChqva7pe+rQBwnozvXU/SuT25\n",
       "AIh3q55z0mzzUzJvFMHSLpIzU/hsBXUSpSUMgbHF5JyoJ9xhphXWcVA3Z8lbCfKyCTLTOS7n8s5P\n",
       "IjsO0qA/OSC8QOUVQbz76B5R1bxB1IawtWQSYZu8NE+A0rKzsDuLK0K+VrynSTKKPo7o8drJdi1j\n",
       "IHBhwRc6q/lokGhV4jELyRzX7X1kQs+fQWKUhLvNJSs60yVH+aH2/pKTshEypz0/Q+WjRUI0yBGC\n",
       "r+nLa7LJy09z7aVt5rYJbjHOjUPgAu6IV6YhY0HLLkgczNVGjmhk1qHC/9O1uR/YDzpTb+Ci+FkK\n",
       "loaKEga5ySjxdPkXs7g0xgF+PPELPPsHQAl2lw5hjlO8zoE5hO2qoxpXv9ZiG8vfXiN1/Kfm3eyX\n",
       "m0CiOlJB82JlFv8BjgsCvurMLGu+5TCBuTo35wEntlzrwZdah5581dWQkIMx+GYMyD5lUqA3Zn6W\n",
       "6oqQdj820vHu2XAW7i6BNC7wYd2LIa94nEDNb3CTXnyHIlAbvY/BFwxYYtf+9BKQw9Yo3JzWMl1R\n",
       "3gwAAQbly79ddc3WEloeHtTK+6nxf9S5QL+LoQHK8wFxSBjU95DkzmmKhQoLXNsMBA3kNa+LF2SB\n",
       "4nyMh6xfIoL1ldncBeNAsZZ+dNFBx7eidmSkIZQg6t4bU7o0fcAD4y2lDW8KrS6IVTj0pDyBVgp5\n",
       "NJn7/fKvcu581AJooRWvYSwK1flN5KGWReWHMs7U0AK6wY++VVKw55IPZ6ks0Uuj9Hr8AInXoYxh\n",
       "aac6ds+FfNz8SHhjre8akwDPUR2nR9pCGf7NPh3B6CHUAYfqyHXuTLecshDLWwUq9A8vhYxMqPzZ\n",
       "MoPiXyo8pqmmlVGTSrf+C780g06/0Ig5/7K2bGG9QRjVpjftBdrd8OD748LKc5dPCN4t3G3GwyA/\n",
       "fAdCPh6yk/6qgxqgZ1wM5LAh0YREzchBHt/SpiG/NcZ9+sV+j/feL5a1pw28ZHbP3IASuijWeiC6\n",
       "1Vslcgi6UOxyrgrnJvA9TCGfl7HCuWVwDjZaOJ3mbMl2oyTdQoDNbrb6nvk0/on9IshEJg34D5E8\n",
       "A+qgqUMAvdbKNqqs44mCMia6eMQTIvoLtKjR8i2WzFeNRINGAC8LFVo5SEvkTPfYbrv+sKjJ4WFh\n",
       "Zum7cr2KnRqG8f9XrnXF4c9P+uzw40H4JcCHU4UHs8F/VMSbGzV5w7yA+HteXpvN5F/DkOIeFbe1\n",
       "Q+cZEmrLzXCjKHRf8802ydN83NmgGEuWZnuYw+KoaGVVqYryOdy5bWXbYLKe1D/qw2rk7ex1TcO8\n",
       "9hepEQxAQPmcv3Xi7I2ARagG94A9sWdv///FR1tYVbQKIggL6YjLo8IqU1SxcAGZ/Rdm99R+F5GB\n",
       "lO6IMxA0A6DEUvQD4fZ8Espr6JTLJVnsKGBHivJebSw6QX1RGH47RBFevywr9dCpT2LqGIT9OZle\n",
       "I4SeYdIPb8ie+NT9F8+bm3IUPuCGFRslTvpE4Xr84vQ70r56U92fUZ/rElq2HXJczsjUuOqdxF+O\n",
       "KNX8bNessJyhkLilEY4oGGFHATN/cyAMCDRsFQx8yactG11kyozDJDkex3mUvuoquEE92yjDiuW2\n",
       "Okq/i+zt2z4WelG7azpVjk3gdECcRGUWgmO/dYSz6D6n9C8yooDn6TysccHlde9NLOOTfR+j/jl4\n",
       "AQsAlg0xZZJJDPgMJAuL7V1luYmngybPkXZmbnoq1Lr5HRRz0bfBPW781yW2q0R2l87x7mb/XbCr\n",
       "JCJnY1SQi47A6+0ovTpc9d/SvZjquThCfGDaTBdneRF/uo2njEl+n1A6AXUO+ylUH1vPs7UOEHvt\n",
       "smi/zyQ0VHaz+e5BfeKD4kHayx6Ly8u0VEhbdamcFtmA1Zh4vIxHCjVZn04eBG/hC5MibssxOis/\n",
       "LAcncIhc9zFdgj22Nf1BLoxO9TvbGTFooMw/TnpQnhmf3CB7FENeYL8FNuWxPQLv891fWEXhhCSN\n",
       "ujS5qJUwea6mG68bomenjSnt3mcP2Qn41DitBExUW4G8S8HQBEFiOi3wh9vTzCB0qCcYcpziCkbk\n",
       "8aPwvZlkiQYkrRIE2MMnOT3kCl5ZFdL34ovAvP/i7yv/ZDMdPgjD+AEsKwVQPiaVZV1lG1qefN/p\n",
       "CEC8Fx80csRr7RVfFm+m1MvxfM9gVuGG4MEWShEs4gQ5DSybsIEew1uLrp59aGjArUv88jBLTaLM\n",
       "T4My5kt8pdpC3e5+LolBr9FnB/E4617cYo1Rh2HGWEH2sc/eTShOftyBAL5qEaZwyR3ohVEdv9ve\n",
       "gyN5NxdnNQbglUF0cY5c9YpaiCeyuV/2z4s6Zt45vOWBwtbifp+RJbzmyHOuPyRBjBRYRDCoJ/Gk\n",
       "h2UHbkfM6wpmnwSbaAQ2O179FQVJwMDp644dRcEMseQJgMktNC97oX5WV6S6qIgr3mMF30BYjmDD\n",
       "SFJWNYUbwqQczstUwLkhOKEPti8B2dZyufQJRcIn6e3TIdOPNuFbZFL/CDHpzavPvhGVpWwAd8Bt\n",
       "9oo+w9M/MsrJUREXJn/5Fnik3kYhYvlrxFj+1lNvjEobTReWZg0Gj2dO58FW8WEt+gPWZJaeNIiH\n",
       "i3dHmq9NK3qFoLH7gEtwCIyjp6zNQnF0QSCET1im1Gc2DMzY9aDlZtjpll7hbEeWwhxGWJhoVy3u\n",
       "K7z2Mu42Wy8pYKwrrrdC6oCmaQ0X6e1XRNlnfW4L2dd3C9ptWUqc6piqMQS998nU1a5uc877jJKR\n",
       "L7QJ/XlZ6zjqKT4NggUzJXdodiLlCFpgrW0oW5JXomWhkLNvm+sZ8cdHpp0255JJQimwmf/pdi5H\n",
       "vIWz2qh6u0L2BlykKdznNpkONTFGTTzPk2/NlE/Udmm0SuHJ1Hoc1h+AEwQyEc/BcgN5N+QhWh0J\n",
       "Gjz9PF8TZ/l/qXwyR/VxhKoChn/g5m3t2S4D54G60T7A4XlEpigS4+A/tm/+FWkLCw4qhSdwezW6\n",
       "H78rCrwKUqng3JdHVyupTK3IpLFJeB76IzVMf/GWELWMa+eFkqtgZER/p+KO8+Ssf1W+3U9WTFYD\n",
       "007V/fv5sR1HGA0HARlj45EVz/nCqQnFU7uz/AX+TBBYu913bpS4LMK319vJjY0pMKmLNWVcF30H\n",
       "S0t5mKIJdQKPCt73dWD/TcV2kMogr/pJI+srBVnJQpx7mRdQikkztM0UKDz5kW0gq27B4Fac9fWx\n",
       "uqTmgClAu7B2Vw3ogt4DWyyNBgPfc0cwUgC7VYwkkI6wVFLQJVk/uWjNd/JOpEVe/d/vTdpDugfo\n",
       "egNoMl4B8dV4r2XC/GVWRNWQtVgvMzm/mzlDQSQQIFlWvE6u+0+VDGsO5zoslPd5+b46VW/4Irmv\n",
       "Y3jQghTwVmZWiHx+zZhRF73m9d4hBOWpT8JNB+ByCxL+PW8h6I7+Kqzw+w1HH9c1PJVbBp7OWm4k\n",
       "JqtscXeFUoCAUAqjx0/DhapIna6gCOlK4vqbHBl2QD1w/u29p0caObe/Xj+Daclw2jGSPH1GL+Hl\n",
       "6eHY+t2AJ8M60n/KhLQNBxc8jtEGLq827jPRpn5HahlTUSLjrc76/33Y/6z3IFrUjVL7Sya58mCv\n",
       "0LBY2jBuDGNebm/n9J1Bt7JVLdDKwhZH5xripvwCkL3c/3AzUo0O77MdyAVNTD8CiavMvQN4cTb8\n",
       "HsMgkeDDxjRLkiMzRoBNndLo7RzgCxZ3Cjxnr5X/9Y6jJp4GX1bPWbSJtDfne2oA1upy6kfXGMsS\n",
       "ok9ayPiKEzI9IpWWBymMLxAwQd0//7bhXzUzehXYpi+9pwjbaUnhzbyk1j/uNm2mqAhTiwEn9dCz\n",
       "l83yfWrOHzgn3TuCX8OYtMmuDczDr0RcUYsrXmgIAASQkNBVkT/o09RE3+xvWjYVXN/tjgkmKdb4\n",
       "aBqgEm/+pZd0Vv4OPxt26mxLjtrYvxEBIG0PTv7GJ5cGFtt31Ap/swKTDJm/Tt6UOZTJfrGQTgXg\n",
       "VdyVO8w7ZaknfMUp0vNEKOmIyDmdlqmBjhOqnQ3PN4BlSwfpxjwk5cbC+VJ6Iy79jmMU1rICkRIl\n",
       "ozmFh4/hQuhFD4rSbK+1GSFctWdeHhTVZknprcq2XgDMn8RM0mgvsy52RPvh0DMpHArYGaIN30lf\n",
       "KM+rl6dPNYG0i472L4sNXRjC8uCQEqN3G8Cn22T/4EZwl4AMaq12e6LaJu9T/xnF9NjsXijkqyV5\n",
       "R5XaY0bIw9Dip+Qlwt9Um7Pe+Ao7TZdF6csG2Tjs3vgaQpmpa/O/5Q+/ojxtLAP6/gHZSlORagyP\n",
       "MvHm6QA2KMAoSx2S2VYi5tjO2IxwackYgqDS0sDnUe4DQmR/kWOxZDzolzqockwpmUwyjyrEKQD0\n",
       "rmBmOqyoTfXb9pHLJG0s33sBdp+vRA9IkVoZ8y5FId0H4N+ig1IOBK4titBYaxGCQ/Qgr9pLPIWe\n",
       "gdmiphIMOYFpHeHa5Cy8zQ0J9gfpqAt2WrMxOjzm/tOPL5fgwvXTtgw9YsKXjG1FG/ZOhzEn5j86\n",
       "k9NOECxuOhv7XSg/v9o+7iaY8kYMn9ls+SKCekHxKLsn6RgosFsoef/fZDiY9awNHHalf5VUeujH\n",
       "AnTPtufO6UvugTFUajG5bV9K5NVaSgoIM1IkN+yDViVhxFCAZBT5KHycKo5L5vVOTu8Uc72JQJ+c\n",
       "SOlMWKTsVz3dGo5w3cQTN6x/LnEZoQK8Doo2Lqk8MiZ7Ddi5pDfILUBdZ3Wm/AdESmWaCneFnMRW\n",
       "JGxZDRCiW9YZkRVXxAiAkLoQAvQS4RrrYTHKULuvgNd6pAUTph0jexMs+oWNg9mJ4LCp9+W5rrgJ\n",
       "BBcoXcTm6IsBeDW1FslwjK7s5B/m7yITGVgQn+Q/iAmsmivNT9RROtCwXRzubPFaCjcy3J68p6dO\n",
       "UdaXAq2N/v3Btk7zwB/8s2xQpUvjJxb1KKVKIZ8W6eJ9rCQ/SRRrNETW2bJm/Z/5aZdq8CBW/vaC\n",
       "5yuCp65LoDgl1xR8X02YxQR3ljkv+1d+yv6kHX0cTelNE1S3yfPVxEZ3DQzeTZKOAavrgpHk6amQ\n",
       "YYpzKnL3UdEDar1HDc4pomyJz/0UUnQrPK/jdtweMZz6o/Ov+MM77RTDQ3W/PxedeNUX/WbcKz74\n",
       "M3CN9zgxLvmUXoT5Npu8a60wBONkcHKkOx8QkLSViFJGuSe+fAbqBligEHtc1GE1p0CGA2UUIlkJ\n",
       "7etWXgFzXigg1zpl/1tPpcjt/qHzpGDBeilln8MXkhnQ6tH/XCRIslgPLAr3bxSZo3UAf2gWsoyL\n",
       "bi+xVeZXAUwpVqdABpa2z67dshDS+8+WiTRYpzYvIK7r2Xjw5WzyBSVobxM3Sp6aDK9UmYdkDwhT\n",
       "S+oumZlj403BcofDGH+BlU0nsZuy4i5GHIvcQwp73/kE8srbLyw3RWFUUddDDSr89fsEXuT0d2HT\n",
       "LzV5GgZ5S0aY7A7CgsKzR54QyrRbBXi52V7vVviQBXRrcLvQBq7XJLtJ6Hkxl5rix/bvRddOAcgp\n",
       "XqHC7o+s2dLt3KUOHc8AUiBsYxG88HuaTwy8v+WADmtKFf3sams2yOOOnzBoq7N0E3jtbxnTivFy\n",
       "p3xbnMyJuZRQFkNfiQ57U7xLDw5xGyLlI5l6WXIq0cAf/43fi3QfGPjghz+OaZWdQ25PYGOOgGHM\n",
       "r8q8xpiVDUEcjikgU4+q0S8BfPLbPV2fobKhtzXfL6bY0sD5sVA6qJtEgeFnOrvTeGwxeY/3ApvS\n",
       "Pq8kkxDOoDOCvmPbAalqV39EE59ClF1IBEyKQNUrjT6kQsvgtrJ91kJqZD3h/5lmum6mAS1SZa2m\n",
       "R4PyGYaF911KiHtN4YEnF6NSMuW39ed7/715K/ddWXboDfxu7o63tluTq9Ld9VSlA1w0WZNZDC84\n",
       "qtNoafvIPTBtpvRRkV6cNI7NWDxzVA+bUil9WU9wbxnn8LagbRG5P24xtsFtlMn8VnIYXDLkWMYx\n",
       "sR94Hru17sXwQnjDHlYob79hBpZkdygQRYJDGz1k/uBnFjZsfIQQfD46LIIMnT0QshcTcupgHg4n\n",
       "r0vKwCl2pjucx7CvlIYEoAMjh9QRoXnPXqglDIFtNwfFA/Mti/idcdHVYfWWXv+HdsbIrKcmzS7V\n",
       "2vLXzHnPCd0H0St84JuocSxs0vBf1y9ifMj9IGV6OyWAIFn+3ORMx6v2NF3Lv59/vf4MwC4prJJk\n",
       "iLWkE0FEFkjfMdOCEQ29SReUiRufDEKBeANAACJC+fArAklmh8ciJZ4QWZgS/xLXOGfDuwp6GtPa\n",
       "789KCyGLX7Kw7S/kO3Kc5ohAeaLbKnc3ZCUprrE14DSM6fNbfr4L7QmmHuLOqLAq5chU7GnQDWwZ\n",
       "fox/kSIlj5fCUQdSnfWKvGX1ZNQVnKYhAjtX5XF8NH/I+JbB/7CX/sL3weCLQWF4Tfvrg2UzbgOG\n",
       "fo4lfsc3pQqqvJj9COdapAS8cbz5EVu22/AfTF0SMYln2QnSr3BmiB6cp/ws+KXjfSyh7Nqr60YF\n",
       "4+3ZYJJPsXr8OiyId7pkvp8226b6xx0YhQzeCUWtatZRAZGippHze/tZohAwp71qOPmOgPWfQES8\n",
       "bwk5Wh4gPNePmyZPtgNeUfCwMMS+PRGxcgSUGRMHHkCrC/PNGhO+IB8qut26D4MX3du0X0x+PxuG\n",
       "FYrpz/CViB6kJyL4otyCLf6aoGQqSBawIyx1pR+lS1XfDzZ4tyQjX7DHknHkbRcbRtFAKWvzigXc\n",
       "awtxnyw5HOiseneqlXp6BGpqIlcjqSpxF93oTHUtPD2EaUShxwik2pq2zeuFzJBJHrtZ2rJJhdMA\n",
       "J0zLSNtVjZQwG2fQ8Ylgn3qw6Pg6r/Exj8CyFPAQ9hzMwtIgDEk/4Ztz00OWG4QUMNBhu3VzKhLe\n",
       "RHjjVD4S5Sru2MKmzVh+nFoDbJEG1l6RcWdB5+NVMxK1yCSsZ3clL8cxiF60CRPbvBUd+/gkXOkQ\n",
       "XnYKwin70pbWjzfV5WtJegKXI3zty5GW9THbWUyxlGHqAJaj8t0BC/56+BnzeaCfOz0WLOvvNEXL\n",
       "FJQIURJTGH5C1WL2lMfHCGdIG619s++s/5j85WlFHIZpJzdK0jKmagUFXzxyDEroQ7xyxXyO0WDJ\n",
       "Wv840N1thfz9P9onS++56INf7lPP5G/KJQ8PA7zTO2AB18VEHiRVo7PmAhW15IXrMPcROYoP5iOy\n",
       "lMVShGw0TiD9wGu0o0PpgJ4JcViBFInz+PWh324sdcczqJA5jietQRbEstPJfij8hYJJ9GMBRghW\n",
       "lXzM0T8cgFVE6P+3Wim5eRQsQj0xbrvT/EE7TbRWxPlwJ+TXQmjAqAqGHxZWEWqqOCYtjvXof2mP\n",
       "rU83v0d/r/IvS43ckzVRMmhXvqN3L86ZaImeFHuoVY0V8pGCNvLw2KVt2ZzI3HVzqCAAD+2qR9mj\n",
       "v3cuskpPkfRjzXJHCLRLbKSfdJ9dd5h0Hnaw0fw8AYFn9D1/LEGwSsRxt4eTxrFmoXR6rPlqpyNt\n",
       "iI/LMveculEKz3zODHUF3nY3efrFdqcDTb6hNMfFPZaC1yr24y46AEDmr//7MdUVq2bdB1Abx879\n",
       "syVAATaK8O5crYnZhI6bN6KA7j2/f7PpQj80iL5y4J7V3L//m9oYBI+WKIzhvbMB9a2FXMPMeehY\n",
       "9cFJZLADV/1KVeSq17dCOUrA+bxLl4CDhYUlEf/ad89W/mC8FzWzQ+ARvAGVP1RnvavMSxReBty3\n",
       "zyU8bkHwE2r3GdbA6xmPBXxzQIrvVek4hXARknpMPRbS2vKUOlhJpQf5N/PtQrboJhYx7SMKwCo6\n",
       "reDHtN3MqgpcKLGl6ew2jcdGNfqyvqimrZZUqIqCiw3hqCIlr+Z00UvlpiEXxLfyn9Ll8uj41F8f\n",
       "BuW+QW9D1i0ntcclqYzHCUQry0MuPbA1h0oBeXs3/zt6uwLx/3Qz5z+twritoID4Vj1khdusugrC\n",
       "WEQkgqRSCwZ8oPY8S/DJe2ChZXAJrZmFfP9ZgIAWq0fn6JDaFoo6ctUWXZxMSdZOQ/NIOSonCSNM\n",
       "ROdlJDn74ToWvwTEf/C3rJG9hmZFjDdtOwURzHP5SSu+jyHOhsmdcouCPiPBI/KVgdZbb3lWuxy1\n",
       "GM/9dapCCRzgC3rCwDFsIrYmHVMZ8mEEQPNhLye8VUpo+pXrsLvl+4y5qxvtOP+uLdKpBiHh0csH\n",
       "PprGUDJoDWjsisgx3g1WJ8omUsB8PQmRfwLXba5nA4ofhqDHqw9ek+neYwq9lAvr8YzTElAb2vK6\n",
       "2c5+Pf6QpveL62DWAmt96uD+gY0wO4mo3+GQGF4ydZ5Ee5n0zo5lt0A/CNmTtl8QNHoBYVRtMICc\n",
       "vUr1x5/evjOWEGa1LfJy9xa0CnCZ4PcIW7LOk+jeGZZ+lDBjfWhAYTvPqqTgk3IEyTHCwBXhkZ39\n",
       "hVaFtBgZnm40vX/SU4J+zFf4sKGVPDt0hkAe9yXIQhcpPz8zekTVr2PQdLErvYHXB59A/DOkieM6\n",
       "DbhD5b93dO2n0cYfRNpDt//jvlqGduKLxzvcT+tXtFxEjXCpWpZXNlU+rmyenVONhJ2mYAwKKAqa\n",
       "Vvia0bLFKNOUFACv9u9njJNlPEeubcXs9PTi62FUSEkKLlutD/4Q1xA83t0Js5MbkopDh2Ly2P6b\n",
       "sr46XCuFkIdmtbegCXj9eIWpDBKTuPqUwKFDEs0QOxWGpeBIF2ylBQnwGiNyaednaQEh/PLBhua7\n",
       "VL90RIZNU+RYs7TEPHooKSGajpYWvXiDVMFGsqNmMG97l8zjLkjGBVJOw9BYI0ba0hOu8du3t3Ix\n",
       "Hl+GZwBnmuicg7iJPus3efeVI1XumRRM+JYQ32RhbbO6eU/N7rLeS/oHz/5CehfRVWyWOOAIefFg\n",
       "zLhlJRmsr9pa3nGJa/aseK8LP5Aw2TfBcMFEqO42DJ9Rkv7jIsxmp2LwzOsncpgx9iZoefeGgiyk\n",
       "4gIdpGxHxzojAeaLBbERFo3VkYOr6hqOU2LazOc1sTx8o5UaYeRrDeP2BebiO3oQsHXWcBnLUuEd\n",
       "CtAkbCN2yd7rYstTTV8LDa+w6MaGkM0J2/xD0hMsQDdW/ltdgtAefsb8d8W3rbpSbFuMTsdaPVbl\n",
       "LCOPparZU55A4ZTNyMAhaHCQmAAcQilWsyHD1ye8/j/3SoPixYpRBGtvHUMLziy1j8xpW0tIhrak\n",
       "LaekAjMKFuh2nrFFHb9opYnGkdnUQlzpKcBnTxiEKuz7vEESMxU5fdnj4S/zEsJI8XzaC4VWQRmL\n",
       "f596oG1Tq8tAohCaPnv+lTwvpARaYgEgKTKvjZwyPlYx25g9BKl4fkwVD209YHdaQm3+vo9FWbpX\n",
       "Z5qYT49JcBgBbj2+dux+eq+tDqm7h5wk0q5yWhsKJwV626RGmQPuRnUCmZX5DZm0Pt424Zh15jPY\n",
       "6gY8o8zhErKPLiFkbNIu12YFqsSWvNGbVT+BHEl61RU22eEGGqh6oytpdXypu0SbYd6SG0FyA2YG\n",
       "vNhYdEsRhg90qh8+Oh/yifuitjM+cBQPI2UvZc5UkaJxwfeNZwBAyF2RzTmWuKg23UEj/maLI8G6\n",
       "a21tebmusgNtssIgMMiIxiw5PUYD/JkKXJFemwncsmpiV7b/1lPiMnjNEBTfpuwtbYHJlybUjvNO\n",
       "RCFY4TfUNUjWIlwo69OGJYSF3H4ja3VTATH7D3dw2kaPQqt/SYZDxDtH55uIvS4Tc17d8h1B8tMZ\n",
       "Ar3DTX2B+jKpYKAOdrhvzoOEdsnBp1phQJIPh0PHhWd2Ism6tXtB3v/TVKZfFa9bL3J8fp/8pb7Z\n",
       "gu1+02otwSZ2fmgaPSmxbFUF4A6m0dIZcXedfB1Jv1aTd84oHERL6X3HwUEJPTFN8Hk5n6R2nvMN\n",
       "9QyXVbTOh/8m0IEl7gSKzsL2uDxnYgglrjfzjqW05aJI0V2YvitNxrWWV88N1YAysNjYrkIFN2yP\n",
       "jIsNJLwGLu5zTPnWuE9fQCBMdGjlkzn0wOjng+KZ1KrjQP8MIpFa2zS2tWsl9u/wjPlyTij7DKGR\n",
       "MVwzlJKOWOENkdQuPcpFiJy+9JzeZy8usbEogVXestQvR8oTfcJpIAhtmuzMLd6cSVvgDTMpOQjv\n",
       "jkmU06gEUFEFseIiwly4Xtjh8Th0KKjpSGonxdN/RnemHyRHQ94llxgFoyBD1qyH4UADqlR92eHE\n",
       "MiLGWVvoAhGVTaDe9ZG/vccTn6X2aMMynmDL8HaB0ShjeEF+MUwJM9cJsAmw2KMKKNuGOZKP+GZ5\n",
       "ngChOx9UKpBf9puGx1DuSdlsvACnL6CG8I3FsKgZ+DIkX+t0v3gPBs/jSRvh4EIIGtr3wro0jLi1\n",
       "gvROrV69ZnTsKwpm0zofmJlH1d70QtMp6Bz+ED0/2UVjq1swOIAsHYA1TyDcsHCsYrng0ZU9p8JE\n",
       "x/8+Ev1RvbY5U04SEpfLjG+ZGmY+DcUUuTtx8ATFJYkEv82n6Ng0nr4vQhvUKFlRCHAGtjRjSW6X\n",
       "jAvsc33/AB3szFqbfdLoaRaX7hTD417+q2C52T3cWmh5+T1IPcO/pRgnmOJ8jLyLNvRNJmsfJR9h\n",
       "oE1cSNlSujY9lBYC8EvQucAT7pXOFAxckrdAxuPEnoByM2kc7amx2GqYahfI0vHgvNbobdfVotZJ\n",
       "oSntvI9ot7Wj4LFneOLksxfvFbZ8WnB3GF/9vKnO2sQjoxyDkMr1cS4uJFjsqYCi2FKoczGxYnZB\n",
       "78AN0qjPlxRtWnIFIlf26dxkbqg2qAzEcIgSvqUsurXHLRG5ncb/XcaW4/37v8gInvoKW8d68wsp\n",
       "ePEkM5BDRITzM/VkZZjbw3mtykU1pF2fx7SzUNE6AAqqQp/tkAmYb4o/zCYtirXhNqJphepE1gWB\n",
       "PUvSLB8+CsMIy6/fX+wUkqFTNfn76/18i1M3v5XgZK6Rxg8b0FXSVNCNJvcYbH/ztgfm00gsGNZg\n",
       "0qbUgte7g2XaUhojTnJ/+CALXjqfzmTn9ahttgKRaC/5sAjHLbYR+pxuRtAwzYyfumTLG4GikdQw\n",
       "x+i8CYkXlhKp/w/OmKNSSiIO+jeHi2NTjwFTnIehdHkQLM30MyhNvmyA/wmO27QAz3xFO5nd/ppa\n",
       "4juC5LWlYZzqQhMfmJ/CL1ziEjotl3qs3AkFtFzxntaxbupVPMucUvuBd2JiqJBD6aCtpY9Lq2mY\n",
       "VUCClpD1cqseOxYaRZ0nIn7XnkO1CilJ3Raxk+jNSi+Fd6O17oBQiAOcjqsNd/tb+PuKGtG9eCAE\n",
       "I41KBZ8ocwfBV93kwbiQJgDK9fZ6OLyKqVcm0qF55vKG2/lKgbCT19eSmr0sLFoGx9Y55RPrUArP\n",
       "/ylHd+4TRTwsAEToe3bOerQbH2kMxasN0b+5G23a19driAEiOUrhDaQD7NgAv8hACWq2dGTv2X0B\n",
       "BMlzVCzGS56dSfHx7UKh21O3gbyqjuZk5I9iueOMGhJOl7UfNTrY85GK6PIZWAYtaEU9lAYf3+8k\n",
       "wdjHnxIhUhJJQxbiIdlCVEzDWzihc6xq7kBS6CNijlKvf0eEq6jnpdMC2b6H0vkVti7yFKzCql9C\n",
       "Fv9T3PrauXUtgRJyTmvNwGOxz9xbpIVnCuT0DmKNGIPK/FNBkRgKH8LoBuJaGYpts6gfgdbXrdRm\n",
       "e6uGZ4E3O7DVTkcBD2pmtpNPgz4FttTr2Lt2JJ3GF7p3z2jK+2oZm6tJJ4lh28PguURgH31i6HPW\n",
       "vylBzs5vKz4KFjgLaRtm028Veh4K4JWSX1CU5XRbczM3g0hNDXD4N/rsw0AyiUa9O18S4q+i+nPQ\n",
       "8J7NqcjqeOdT7buR5t7zm9pjRlyUdyavMHhMqNFLdiYxWGYBC6Fnm/WBIKYATq2gc+BdgL4ZHRI8\n",
       "3PMAhbfNcrHIOybXQvQSjp7BIww5/F9/SLjo3E+g6Neqmjsf299OQMnxdRtnqFM01UNS2BCxMz2m\n",
       "rgo0Nb3PHKKxZ9xQy8MzFeNcWmcUvwevh8RlRA75wv1PDocy9OE9+aViBgNdNqwaXQyT9IB4x1dW\n",
       "Ogb7HJgDo9jooTF40dcqH+KXjmE5RzxRnT7UVB73G8xXcJO+0u2u+TdORMOQxGK+zETkLzahhP8n\n",
       "IbjQfxqLSvsTdHPifvdLVammAgxOI14V1+LzFgMgo2R/+zfJh8SO74XoqWWeD9cyyZon6MPB6RZt\n",
       "/OL8ErSfOSb74LCf/BlkW1LHEjEgsQHu0IlhO/oyZdQrBVvzguAZphHif/9Tr34DG80dvUQS3kcu\n",
       "SZ97+8vHWMsmtr9HQjpvjCXZIUwaxmkm7u4tY3v/ixQobXhfjfYDXj+AJ67CPSzJCvxdQJsbCT7Y\n",
       "LJe9uODzA6A8flW6/PpGVzrZ2hKH6PdLHlciiHwe40HfV42+Lv4UeSshtF27BBwelRbJXEhhuVMQ\n",
       "qHkaMn648pjRrwDgmjWRNScIvh/gykFuUorKQq83tgR/rIdAgztq/KUJdm4naurUPi9lA7R+MI1C\n",
       "pZNVOCwerYnbgNSj+fFIw62Q+WZCMm9Sdx8YT/UJdZ0gxuWKpHZQfeH+j1ZwPZGW8qC4b6PvfALd\n",
       "7n6T43x7UkQG+2Hk36tuZFg78elHoXSEDa+TVLSmaXy+BRCBGLKQIswYYjHUPUlx+AiXP/1nz9d/\n",
       "/8QfUYaITFEpq6EMZEl2FZHFHu/+KqQhigFwa8Q0bUDXGMn0U36DKsmDPGmL/j3gSHt2x0cY0lus\n",
       "FFOv47IRbFr0i2teGi0kihX0OAa9EKoAZmM77r8PWj2OBbYBZ4achug6UDUoAQxOXbkeRGErZ7oJ\n",
       "0ADwY1oKp1O4TcOHsPhPyTxCOd6Agr8t4r9eeGj4Z3DUVbnfONmjUvZbVwDFJldQmHmiQjPteBNe\n",
       "zAKklWv650EvvzOAF7rUryNDPZ1z8VSlQBPjG/CbQ/rEh2iulPQ6Rfy0Ej4kTzFoupHk5H0DhCRf\n",
       "+chjBS21nduxQqpdecePNQI+D7F7jLHB91MtfdBEvpbiUjh5gWYXHG5RMl51/5RSdHCSNrfX0f29\n",
       "mM47uFO+D1gT4b54/9R72HX9ip2TQtlemllehLjjBXiL/u0P2pTu67fhFhJSJEaMVX56rJZAoF9F\n",
       "JUdoMxR18RxroQ9rI0PX2AFld3fMZzV2vAKy07FMaOky+X/ykdYhPQxLENG1q/y75F21zjthHxTY\n",
       "JB+Q7bjjMl9Cul7qSZr/fEXyqawG2YYYTPtqHewM/W/6mjGGlrgFGxVuteTQgBktAOC2nv5zpjk+\n",
       "CRzbqmdRS3m/3q8VNU83OSXlAAJFPLYOugB8JEthhdKhnlc8/HzUXzBV4crqP3R97tnezHiR4CGI\n",
       "INE63yiNCSJpeJ7OSo6bb/wvBGJ8nMIKXY4kLg9buzpsUiIOVje+nlRbq1q+vd3g+XTSbL4T18vO\n",
       "0gOCdjCxUQZBNJPGRl31DAl2sun7uQ6ti0koLvUQYsZ+VfQ5axtp6KQI9+VOVfzXNM6OekDjbL5x\n",
       "733O5gMvDnKnGqnLBQ/6PnZ4v/3P/5UOpNh9tB95h9Vy4aI+gpXEtCXHEqRrHO7f01H0i57ZFdG0\n",
       "0eQsBATeniFrorvq7Np3h70/SxHj6yPwLe5Wv0oWnRAa92jv9IXg/jVEw8pA4Z2NzcRA6ul3nWg2\n",
       "qwNuEEbnLnv/VPLUMPWunzjtUqGE1v8ydjTaCBFeA1rXd1eGuHmUq9Mhw1O86ZsgmfKkGWkdhWRh\n",
       "bXTWoYb5oBqaWgYoqaN93j/WtZyQrYtGiMiuD4Ki0ZE1zXWEcUKizJllucTZuyro6LMpfRq4FVjI\n",
       "QtgBukkYIk+Kq/QZ7Kb57lr7zExaSXpshZx4hVvwM5fMfSaQXyPhLSEHmckqcj+CUZRTwF/56VJg\n",
       "mFAsjWoizp2Gk9d1ufYQlk5Hz0oFqJyKf0aj4LNQ9SpUC02wwsz4X03NN9ktT5pJiRy4n2RAOWb7\n",
       "2KTHiQF8b5ggn+Ic39bgGBMzfpRuB37Co51yWUXpVMEpAQclNZr8BhZJzCzObga6oI9XzcPvS9/v\n",
       "PGB6KVTpCwtvcHWI6tyoTyMsI+02P1vA5yi41D4vSYvNXGDvcJAa2uVJ6L3TyOqEx7wc+Q4nMbRu\n",
       "keJt3CEX201ov8GvKSfWZL9tNB+Jt9xNP/GX8+PK/sWGHJG9h1YQspably73D/7wS6GfTe+qa5gh\n",
       "wnZ1osLLQFXWbajb+CBfaXfB0IBisEk8QPjQRbgc5XWJf/SxEmemNtrSMoZdBHJv4bMSGdo6OECN\n",
       "rbMHbSLJCk26BxXDja6r+zUsKycyr0XBzczXMzlKMXxT9LfRUyaGJV5I/jvXF7kiMT+kcSJdob95\n",
       "+ZbPSLXKR+Nva4FExLYMGrvgQiKSV87AcBTtlPSPYcrbVG6WZNjaY72xzg5wyW2LlS3+D3NCf2JJ\n",
       "1DLb8T9a5t0gxvqmcyLI/tmXkh83hBGvsO8t6owmTqgKaRC4rORUWbRxgRp+JdzJ9jBc7JQ7KWo+\n",
       "CDNBA/nOxepFBiTJczO+Ipd8vF2qqQQFuyArXlC37CTp17RnBQW2afQ0DdDf3zz3IJbPzNPkIX7+\n",
       "9DQbRE7KjR32qgNvw/XHTsc5tZC1VNmpOggKr2zPyxdiHhtS0YwFs0T9UUoe/Df4impKW3x7VDlz\n",
       "kKyRnJMzV0F2ogXfsvOOL/ec60wixeCxYS/DaFHeY2jpUKNmXwl0sT351BF5qIeJXtO04PDkau3u\n",
       "oWWV9SPR6sXWew10ONgjJZGzQbVwerTdiXAY2SQM9qxwKp28LHw2lgk/BenloUpsuCmLXs6qrYSP\n",
       "0uoamOnKKx5qTJo+ILjtbO+b/Sn8frnZ8kTlCzq1fwl5cO3PyOvgVFP8Av3+Ql93cTa9+SxuCnmJ\n",
       "rgANMFa8DKxqM0se5U8NoKaTqZ6/xk4det2FJmOpsEZJsBBm4tBQIB19Vg5aHOggowBlN7FaHzp+\n",
       "aGC0fz82a6s/ifXHe/Q8L68i/9tHALr3Z8X1GEnGYrn5vuG1zVkA/6+nYL2dL4w9HQN1HEg8K620\n",
       "4OB7G1YGeHd5QzSdeLWwsjbod9t/U3WhfWAWYcCja2kIyPl9ahUnu6yKSJydGk7mgM29yBzTmrFs\n",
       "11ltZV5oG1OoP7nOwlN6dfIKokhdkAERijdQkzTbzV9bf8vEupQhokDHfgcZP+3vdwFQxkIvJW2I\n",
       "WSv/O9FKxCfPwJDH+vSun7Vn7+ECNPMPQtPLHw/oxz9kaMKC9/h+Jnv/64YpAg9OIPe73JvqLt8k\n",
       "B5Lac22M/ME4rwSW5yul7jDaSIb5JDREPiR8ww4qbIJuYU5hV6wmNXourWLdBVB2s4kGansw1viL\n",
       "uC/7XZazjk6VVCpENgM4kKEpTNDhmnRJ0a0BeQpYHEVkUyKTINfbZvFXdemQRiQq1NoF1Tl6Gog1\n",
       "zyfxNjiWkjhJFjqMU0UfyZR0f8ZoMkJDpOg7tVAPqLky0pbtDnt67pQ8ilLdQlJMkF4BD9f2qZ8r\n",
       "wOjC9p0rJL2c3eh10APhIlsMLqSMVVFbI958uCDi0PoaR71IZ9qyJuG1il0Sk4veOa+UysKmnlku\n",
       "4CGrnwJSjIWRKq1cjYJqjLCoTn80lvIRLcELKggPak/rDxIQrV5I7BCoEyCTvB2FqvBObKLscDNo\n",
       "71f0wpiaFDqa5OaU9FRWL1VT2/n2mjCwhbQsb9G1QdoFMIchs1m2ScmxkXBLxVRFzrljD+vVULBy\n",
       "YXnSIdJRZA1iR6TAUebZSIc+b18Ys2u7ls7Nm4BHb7iErZVRxyLbcOpDHPd5RVGXtHg65xt/njmz\n",
       "zhy8FjBZzAJhf/wX6OP/JDVymKEXoHUPc0Y17X1FeueItFMaZ3v+mr0ExApegbCaFlrpttiRMhv4\n",
       "lDnAPPdFTY+0b6/Q69al2Ygy9Epou63SKASybeQ/B5hecjeKaM1ExXkdpr+hazkhWB1L7rNCdHRj\n",
       "FFOieuWOgWF1M2lTiwmgTVwd0J7Rh4zfwtIrLbVQcnh4UBOClbUkUfg638qmIqgH6uc4lhhaNdXY\n",
       "M7eS8VNKJcvShXtxbZCZct54Aom6SxXoUkhx7JreaL1pMzx1Y7ZzcDnf5Q2AIVPyGtDsJS8bDk+g\n",
       "OVD3cmms9fthzZ4m/5XTQ6Wkp92ODI7F1apIyiug4xQNyTnp78Nmo/Ebsc2RzSNeN/f2zYddHhNI\n",
       "Pco4nykeA4eRbBJNXEhltEMScUpSEywUYuUujF7o+Mu7Lzdkpc7FMiX0V4XJUUz5lyKKcmjtvb6G\n",
       "WVdLVZp3eWEJF8ItWlmm33ZCaW5Q9CEf7DpNTmwhGYn19BJAetEAS1zyo77CxCkFvozrt5CHHOQn\n",
       "xxir0bZ7mfg/y9LutrKZUS68K6afrOsG5hff5yMUWRPMIILq2djZggb7TQl9MnL3zaLr1+y7d6Ma\n",
       "U9qrKm0coigipYS+EIeIFW2lYeIQ1vnXSqGcSurYKMZeY/b60gCdE247WFiTUTAKJsWkhA++E/Bl\n",
       "P5//EHkCWNA/7jIIuf7orfQUSpS3eehRCz1/ni14nom9mpskDywIERvPMcMgGgomDTFGsY/gb0tL\n",
       "Kpo6fy9h1Ya8wGtcm4Y895w1ucwoNaQw1ypc4pK8Zf87fRd6UCKdHXYXEGj8BRtftC9B1KIhIwK6\n",
       "9+u+IuvwxgXu/K7lnZslNhcwDFxxZ4bxxZRSmy6HyDQHmX1GwMj3d1zH6baFfOCv2w0V2JgD3zr5\n",
       "+G4b2JpfRcHYSO50xyQfhrj2h5zcdkp1DjGbm4O9eQ0r7glql56BBVXF/6LN/WlmClIfrI/LOgEx\n",
       "nX0ugM13IDtrKSHdredFiwgG4ok80ai3stEOCElKl4Fdh6S8Iy0RINHuwzNq7uTscTLcdXBHAj3H\n",
       "IVwj88NAtnbAw8lnkAr1OqvYn3Kq+exWpeziqvdJCj4qwux7Tp8xBWw+oy+5EBn6xqZK4isM0TCz\n",
       "WR799EetkcsdmZFXPa5STI6xC/SSXGKYZ5xWbZIGg7vwsEyr3g+JYZ75xY9Af3dQyAUiENGQeP24\n",
       "z31z6wHqck8Nyo4XSJ27pv/EyQhDeTxJHQfES8IfJnMsO/L8NhKPgCS0YuHPJF237V7DG7ufePUI\n",
       "KuiMHR4tK9126bae5UhwJYF6unFbOxDsPABjeQZOBn3GjCj4lI3SLhyioMfoGFQyG8dawRV6bNYj\n",
       "hvuaeQqwn2NXdEckcbKbaNws2Eq9g/0WZwo05eB8YYkUuRDMYzqllrFZGwdiUC9R4qEBCyU3i0xr\n",
       "HpKd56whJub6ohzAWV9oSsOgGsSj5NqWNnvFFaJikig/fanD/N1zJCXjV0HazYwwlA/sRhFvYwzU\n",
       "RMthpP8e29OLosMRUCN59+78EtqmZyM74E/QNYinytlFFbeE3a2AxBycfIZc591dLS4AhWEbm7Xf\n",
       "JYUIVANNDR4H3hMsRxAzQO6QIMUzbnIBLY0DGut9CoygoNN1Vyjnu8+OXdgF3+Xp8PdVUeaH7eff\n",
       "ppYckRYY6O5dXklFkwUbj2Vqvmjlq4Ccm3clQixUF0F6eYUrEkgmbLLAxsqw1HtKVBqxMSYxJ2Pu\n",
       "j06+AVYScJEbBxVMOoacXmsX0czsEY3qH667lvEQDYOb49MVLzO3ohI98HVGHb8yQluLZ9WVJmhO\n",
       "HeYUhz82BgxhzqUDMchOAE7X8gEjYgi4z/Qcfw9g8HFok2jBGtPo9SwK69+umad8U9W4btzo3EhM\n",
       "ReIRcTEIaHf+tnCeyGHXZwQtM4P52tE4m6t1kfAy/KFIo2T00G95k5vT6rP0HHPKfZJ/XnPUV8ad\n",
       "OeltpaKv4uVk5f3K0l6j7TKm7wxqYODuYRs4UOZ0mPLWV9iUMNhOmP32ZzLTK/9wLV+rC/Wkzf7/\n",
       "z2vA8GZFWvr+eNCbamiRKMjKbxVfKrTClMKsmqV0jcaSkdDtjSrgyTpaYupZDh/rhU4BaGrX6YJz\n",
       "ecREiqx2yNf2ZCN8tvKQH7djt5OWePo7JYJU1FmkHcKzCgNV9w0hT6Yep+mO09iOdRij0q2Co4V0\n",
       "lbJZRXO4H2s2f6ArVFzfn/w8Ulb8GpOZ0YR65guweSu7CFuz41cp4nN8Epracq3Vu2teOcBKkcvk\n",
       "xgQkqEAiEzoZZV0tVmgpLlXiY2VODDl+c5h1PkWH3PQnKXT5eJaRGng6kAULgyoHm+fKaksGYpCv\n",
       "d7d8WAdkFhqZapkQiPNN6HB3gTY+XdO6ngU01s+0it4vQiMmfKJ+IqWz6VcZ5IxvELV/V9akaYHr\n",
       "mNrscph1NIBMH9yTta1JPo1BXaXRfV5TGtTJ6OYm8T+jBLIaUTNMmM/C3XuIBVaNSFVUg65ajqkl\n",
       "OxyN/D48Gg3+U1QtvJp19JuExd4bKPcLmxcqdubEaX/clUaLs0VJvpXW2JMXpIHifIyHrYuNKkVO\n",
       "/Y8yOY+RuAShzUbK6VqyriWf/AslfOEhBPb5lqtLOi/TDbvs227jtiVjHFuSGfX7Firim3IergJz\n",
       "p9KaEvaF7OmUol6UGQiTnf4Ed++ke6FLSCCb1Jc2vXgA3J78XQoEVn0jdgn/ZdvtUknV9pEY+3o8\n",
       "+alNbk+BQyN74i4SRhyDi0TEyW7vIHiGCsHLcC8vfOOcoNxAdli9qAOdi5XTqes4k46MAFaJWUzq\n",
       "TK0IvzG1aeRU5P1H6vHkNmtt54tGc2D2qXAiE0yxB8lMLOdM+8YR0RsA5tyocPmgAiEe0lpMIkdx\n",
       "rn9EaPlW23Bxt5/C4M/gU5auP4PdbiMgrOdvA0aqL1hHXl/+OoYCf+c8HvgLSxdsLCix/FMaA+XO\n",
       "aD8YcZ5zfsWpgo8tYgjMWQL5+geQQAWmAEE7Q3P6GlkXfcrGXq3O6FxWb9MZexu9q/w5J0d7FFT6\n",
       "+Mrx6PP0I080O373spj5z9v7Ocj3gAMcv+LA122187Osubvpoti5TVRLtQb1PTW/BoSTVqW+jhJZ\n",
       "iIAYSJl4WKRFMJD+dad/if1wyVggOYtCfRfhCF8URIwEEjiimyvGiqM+/jeJZoEqdGW9PHQsKRAd\n",
       "QM8P5gPk7RM8RVp2cOhG8EIRZbSlbqCHBffeqjUhKAnjfpRSyauKiNTjoEutLPQ3NWUq7EzhoRoR\n",
       "GmrmTall2JKPeRcjazwJgfRj3zUcOPLkJEOzemhKGkMA+qkNyd0QPUP8OfSrJWtKj1YttZeEOU3k\n",
       "8BEXN+DcTWCu4wFdQAm33hwPxY1TwkbJ24tQjp2mcwb9JEgjlvyxmeBNFgNTW0MleSQFl17DONkJ\n",
       "kE+QDckj17yvNCqMxhfS6K/+YVM6fOaF723NfygvrVgdxh1NyW2h0CM5olatyY15m0clFjHpY+NC\n",
       "hUSyaN0lB55HBR+YBgdWFurioNwYj3/yErISq5Dy6ehbInQSmG4dgnje/ontuAKLFmOBdfL13it4\n",
       "WmyW48uQs65rHfX1DWGL+h5zEdYyin9S60p6wuUEGRwYU/hRnGvqK73rSrUs1JOPOtV4Z5bN5LzH\n",
       "F7eZ9j/xojzmqHS1vmXtEF36ASt9Yh/JmEHlxYPnCesMWHUVSoSP9nzKt6bgtGwfs6Rl/ReXj3nB\n",
       "a30LdJ+j7zJQGui7SU1GfM90fRSLtSj3b768n6PTKMNsNF+It1f0ozjLPDd7uYz8SFgPSyCTbQ4n\n",
       "ME4uzH0Ih8MR7fFVf3ti5gEv06GHjdJAAAADAAADAAAXcQAAD/lBmiRsQV/+1qVQAAXcWfMFwAeR\n",
       "m4UxyyljNPUBrG7X4d1aWJ7+4yQNfmpz9NUD0/djmPTFX4ko4HmBvYlK31ad+BLmvCMRqW//h0X3\n",
       "DB0yFMr7UuT5Uqua9eMJ/mLdC9w5lsgI588TVsdrYQNqUTRlv9h74PqhawDxx2940Z0UuIAA+Mg6\n",
       "3Esv375MS4hNuBVzhGWrsPZPmEdFMi0cE6WWqZTxTbmhFL4f8PuYvZ8Im4aW5i2mBKTsgJd4Jw6p\n",
       "QbHhOkdeoN71A1uZaqhJkkubJiFX/4RqF/5bpqwfi3Dn426ULWldMMCN1C122BUK9NoI6QFhO54C\n",
       "kiKu64LX17cpcP49ANOYBOrv6ucmIeR3ABQU3veSY9jkMmvFYYGvvCKpq6HksVMXVhi9URtfxg7v\n",
       "qzChPG8WHk7SqSVF3LQFe+WujMCaoHglS7yBm12VJNjkQXr8MFjV+vX7ipaScNvdshS0M8kwvR/K\n",
       "IZj4FJqWJIcDBHwViAmBqPzxiQokYvXxtdFpsBiizc3xCTINySB6wqYl3E16nr34Vcsl0lqGemzY\n",
       "j38FkdCxBAM+SBRKLPGfb3lf2gzAgOBXWwqOq9i0Rsyxt6FrH8pee3FtsNVR4tIhgo7QnIFUIixw\n",
       "XC7aGqTAfQjzwgWPS2Kd6MDlBJi6p3uDxxQbM6iS/yqQILbfoBBzVwTgMkTF7Uc9YzkcygjAbKAn\n",
       "6tDANDshT0zx+ZCF1EkUCBBjt+fgMRdyvueK4x6tHQg8AJBp8uY0N7NSk57Ex72XLpuwqHKKyjJq\n",
       "q/optOvhMcam9aIsu9uHM0vEBcIvNBzGmmC+Q1BbyWfKfoLq13lCUIAci+X3lKSMtnVRdVdNRKk6\n",
       "aRfyPjiF4WEzD/K3H3fAfYPxQzLP4844BnkJABbqPC4LkSJKsfJxfW68XT1wcAtowYpSZ9tZHnXp\n",
       "XsirOSPfKVfnBCrnkoQspVoHVufqctWrEimm0VV1NvJMSVs+P0DTb2w4OLtECLRsWlhvbPwsH3c4\n",
       "b6VOqogxFOpKWVum/2ZJyAiwJNYNZBl5hA6EHVyktRn+6axpJUIopXN6olZ3RXodHY6yMxGoa6yH\n",
       "rTDJPLbkFXUbvBOabLqzkZH003oXfflVKhw5e2TJ8qSRHi997IPy+CMBUC0otRr/SYiGOuHi3STh\n",
       "NK7/og2I4TAJqu0K9MUp53TnQcuSJgQKXCevFlEvFskbF4aeXJAJOMg6HmJ4xAt0n0nkgPldqwXW\n",
       "dCa4Vi0ctj8SI0s97fHjT2fPoIk4gzsBdeztvpq2Iq8VUUFQRVp5G1XTM6ZnAYBZU7biZlv92OyZ\n",
       "NgAOHR6NAaFXAkXeZKQmIHoDkSB4qEGsYnoc0LK+4ya+tlREkyVcrVj3+FO64tgKTuGpmNQB3a2V\n",
       "vjxtkF7Rb87ONETUk+SSQSMLNhBjr3jMHd0ILbG6PAEPiBN48Sta9HVWsvfJQLANLSg8ajU1xOIC\n",
       "qfXL6zePMrd+WktO/1OhuRD3/KH9gTSK6quzVY3Inc0y43ZwUBZ0SDbs/gBiGk/oqJaxIJExWIi7\n",
       "QWBofApop6dbf+3andDFZgXAlEXqiF+r1l58LVJoNzkkKEEdNt+4aNP0FSbczSUqTEh4tDxAeo8S\n",
       "XG0SZ5ZH6e3/eRONjf235VDZi08nEFnbhQ4EUP1PnW7sYJAYsxXOyV736LoW1lpkwnd7aj80UIgr\n",
       "dwuSuHlQUdVyYtgj4RBC7U5H/TK0TF4QPAMuibI9QEZnT8/ysfERr52Vbg1s1qnwcc8H6Ijo8/3N\n",
       "r6AOoeFW3Fj0uYj9Ey+dmFc71g27Fr63hmax0UKuwkJ1vhRZwLBvtj8HMUPFmX6Ygs4+3DrwA5vc\n",
       "qIfovyXdmcPtyOcjmJ7W9UwDnbXdCmQBqUwGUMtiFH8U8K5r9ZVNwzVa/XYcmVb7OBXkmSyuLAki\n",
       "dNxskuy/CFsbVz/pBein910zKS3OZ2r15jSw1ap4G7MZU/gDd8IepqIF7nCuyEDLhFiY5axk2dKN\n",
       "44p1+SMnaI6bpUGFtLX+MsWLcWMCE9Qn1+wXzgqIjHAZSE4Wt/ZAP45EeekONHM6T+oXbIR/+LyO\n",
       "nJP3zNMluGWvhyP1mAF6PR8SbCsBW+h6Iya5Rhun5l3k6dFGBAoYUJ15SqbHP3OEl1TJttNdMuuJ\n",
       "/jjIn+X3fl+oAtYyBANbqm30fkKNDKSo8xrgt62ROPA0ONqKeMuZ5+M/J7kWp6zVYqtF81NChoMY\n",
       "kSALhsE0IKoL+ZRC0jqlKnWUCaEp2XyWcKh4rlGHIvV8pLW07NZh/3gAZbO076bEwj+FZQnVtJ8L\n",
       "HArjEKrJaZuh77JV8B0NbX5ZeZT70rNTEZF29jZM0OuaMb/2fZrcqtPgLnpP/ScDWocGVE7Pco0A\n",
       "ZDoOLPBDIDw7hfjiOvsDQO9oVEZJvi5QfLdUhIlrTE/nrwFrKRn7A1AU5dd7WQGwtJ2MsjlG9L43\n",
       "5bB3mBFr8ZZtX1j4+6quXDdiEnbOx0sEbmM7noy/fV8lQ0sM4QQR0mJsYjgBiOU6IleN9G64vRE2\n",
       "uYBUSYahoccFnkTRbR8VhZUrEcw9vsEz96ZApzdUXdJwd1MJjXKx5snGGM3zg4p+EVTW3yQkplBa\n",
       "PPNdQlo6pJu4YFWOoGv09ImluOQihjZWzLe//3lK4bmHLhVmuemoi4ik/k3EXAiGVV1mNWiLyubD\n",
       "gUlHc78FcLPxvvaMGY0NhscaJ7snbqsSlQ+pnnM2UOL2PSOxYypiw80XOe4aLqhx61R137q6/uCV\n",
       "kfebCv9Omh9jCcq9OjVgwyf7I+ZaVIofm7zdMeB/FKrHbQdIpp/+GPfm6hLbv7+YjmlderZGV2td\n",
       "GFoeyFlcjBBGfbTX7Bqhs5ha8X93MpiDBbpjKRiuBUR54weo96vUKp4bd19nHHsHAFhErSPZzuic\n",
       "KKW6AJ1W8N0R0iWSTl3TRsLBkURMJ8a1Pw5gI76Sf/v0ezwKGwaZV1oafnZreLiO6PaYJ2o8KlWU\n",
       "GCR968boa9eELRRH/bRn4HP08uU+1KMwc7kgc8NKXn04n1vadeaHFQ17kR5j2+icW3pJN1+FYGGN\n",
       "M/vjx57URoFXsooI+bn6GU/31qmjIs93opcvI+PaM9RiwIp3SFNMSYa2F65qjLg8Ra4mSbKuiabC\n",
       "FhHnYy1E3D1IPVjHG6N4+eor0wefd6ABb1dPXOvLtONRW6yVxlT1+wFABV9gy4+yJ0T+6VfhpYOo\n",
       "zO+/M0i7J1MZcBG5thByCoAbrzNMGOtOvP6AC9zo2Lyc8UFVJoBEy1hPbMr3myf0g83yUTIjOFKc\n",
       "h2e9Rv/PrNkMslYuTqFS5ldZG4sXYuzYs/IWj+gus7zBBYrsynw2OKj1w8dcFZ6RRY+UPPZCz3rx\n",
       "l0m7cos3qVZZQ3Q1Qpaur35Bp/03JKiHLmWAEAZ0b4d7zCHvolidD/84LRJsu8rkqdJy7tQq6gSI\n",
       "6BF28zaoS7jq++ZyUyzbD/kGzIEtM63MpC7BmAIUOW/a1TrwUVKskFD1iR5o/W92RREYbhMlDmhK\n",
       "uK4rPk7RLKdo9o+Vl1RF1qPPy55UlWGhYcdKhSbZW+7Km1vqEtGrUSnNOg4dA6cLk8Uiw5IOgB+t\n",
       "oW0JWIH5vvWwAstiw3k3xH5MdFmNSLvzjp+2bSEqs1MnS5GSL05OU6Y4h3y73AMK08t7ImvjnoCA\n",
       "B+qzLdmY0TvLze6OG146pUspXR9Dcvh/xCrOz4VAuDHc++vZlw/TtheIx+Oe+WZtS7AzTTMrHit/\n",
       "MJ0cujf959RpOj+OjWYcTZfMMSbyqf2ZVfjzGaSainme8bd39x6M0J8xEmxSJTLtDhPgKyd9EPBY\n",
       "F3zHlsn+HS65QXKYdPdt7NwA/0AC59F3KmaHPfrTGAUwE4cgPQCf6Cc2u2D/S13n0yrmEf+FtTiy\n",
       "NZkstjU8YRDycRsl4W+ubXPWkWOrGMM8LvNGU2f+cox2aOk4p0iHj1bhCrqltpvgIZ8pMWpBK8wR\n",
       "FYNNBJe+L34NhIhbddZ+2ubT19rIsRu6fnBqUEXqJiXsd+p7W7huq8pzHLYPNoopqi/lKOKl3U8m\n",
       "RXNyrdZXaijaLzsyMYcWd70cgBjpLSQxNK1Avd1+cqQekCFUOaXGYUFiNIOZDf6T51Zszu7VyqtM\n",
       "Rp6kIZaWcszpKBHu6NCc7/mWZldJQvQM2YBR8RHQgMI3bASEW2Z9zoD5dnlGzfWY0UnHtVi+KWQ/\n",
       "fzHv2VU0ySygD/hEsS2t6yuTCYjVPk5vVcqTOQBW8P4+mjl/wA4yQ/14qePQsiPhn2tq3Tdlriux\n",
       "jm5Srvj3zgklrTs5hIO8WfwE8naZ7hEnBUUIRHCRC8FC3FQloFRIMnvElsCaDKgMX7C2iDIwUuD5\n",
       "ckXTrl4oxrgdslyX0rBnw69fobuJ/kffEpizFI/P0c1EWJypfOQ1mvN31b+kYUAsJUFH8caoCu4C\n",
       "2zbQYkDVaNwcT2ZaclOHLKDTggaAXb6YmIKtpbvfsWAfkKIKezAbG+lj1/HruHIUQlNQGF+MHMpw\n",
       "nfipxINn3qjwfxj+Ismk+SwOA7Ucc+sFl6eCMwfVUGzIAjYf8EBbxLIkI7CPLZWGfV2og3dIA9bs\n",
       "WNyFs72rkkR0kKkqXFQCB5cGdgDq6WYsyNa1fG7zqdpZjG6CKY602aDLR0RCxYmb22BTJNowlhlT\n",
       "x2Ph6lyylPw1PQ5evr+P5jAsb4pKR+KBsedbW4M+w9x8y4xLRgr0mOM/bYlGmH6yGKI1ZqeQrKQm\n",
       "GEzIoO4Cqki93JotXrI2VOLyOzeAPMRJI/KLyBbvdNVna4O2CWwE6cpuhB9dPVnMvXNDZ3GjutyP\n",
       "Hx+Uy85mRv8b/gtBwbud3hR8i+/CaBXotBaYsWgJfd9HnyfrRf1Par98Y+2sYNthg09wx/1Dq1r6\n",
       "0lg8M4u8LNpwNbH0lXNMsetfMk65kdhtJG3A2t1dodaG1pBggn6mhAM7rluT8rckhYzwxRuNEEMR\n",
       "vhOsLUakI4iZ0sMslxGOl+f8wKe7D6uxiXtcmtb5mUvmjEXJYef9AUkCMpAHBnwyrjpm+ARi/Ix1\n",
       "MJg5W0TKRlnYPOUvOXvtm074xfrcSnvBZr64zekFCfFHp+guoqYNLlgDLC315e8HqnZYhVWejTk6\n",
       "/dfTcI4pb6ZtJXAfSc+XmbEauD/xx0qoVcB5zK8CUwWlPXxv5Rf2R2eb+PdSMvtUBVX5734gEpXn\n",
       "HpP7LVFVKApk5aiIw8gG8aCJPwZI09QCrpaoEphdqtJYiRklJK/mE/OZQYOkj6X8a96GiBkj9O/u\n",
       "MchIm4kXzD0q4XrL/nh+L2WZjd+2QWayEGCoXDhpRqHqsl6JM1A4T95iELgVS4eWi3glMQUDKCOL\n",
       "fDfg2NbJ/D6xPXR1hmf1VNilh1K1CCCVQ0Hzk1YOWZLb89SQ0xvHXvni3KcXf7InLvsGV+keVOjY\n",
       "1xyCQX833HPitJpykp/KM3CXuman4EAAAApJQZ5CeIKfAAAH6vpFg1qVlb0e3csQHd0/fFCY89mo\n",
       "wAOuGpr5qZ2v9iXQ4uIsuGnMoTI/KaMpdfTdvEr2wqBFj6GDxJyetfJRVWp/66v2blNiM130POJ0\n",
       "XsuvXMPmS2vUWITNy8OjpxaU0GlvejqxRVrfCV/kDtIYwCPwUw6MGl9AoSRirfY32vo2ZSuTQvlA\n",
       "yjsTMEqXyp7HhUq+ITYn2yXi6HKvcW0EZjs7ioyEXwu+NYciPpNoWLj0TF433Ud4vz9Qa4fx4liq\n",
       "0gAkr+McJ9I9itBVWyiuYP9maL9OI6Hv0/Cyh6J48BghouNWpG5QCUCXUDwkid5PmgxRdAfcuS3w\n",
       "PT2MxvAVe4VOU/07zf6WpSapYqTJokU3JLjOJFo5hwgKfZ4N9RfAYZWp3yiI79kSQqtkr36qAcYf\n",
       "Wr6pZeR9Qx4TefdmgKflYO77pC2Y8fHS2EPM1M75P9ROE6U+xe2DEjuTIo6mSEJOvKCY2mavs8o2\n",
       "Eqn4hM5ylG1NlVBNhOopDjkjbHGsx5YaV0b9lxvAqTbFnUshNE8zNLCFhvtKu3rqigQei3qZltbE\n",
       "PuUeFylCLS/Ctl2QrKg3HMlkL2ISIczp5Pn0NcDE9/WSnr5yezt3wltZNvyv7rTBbaMragt0DVna\n",
       "ZjrXhc6STYJiFe7N+ha7FPiAF0KhB9JMgFWtHHCn8/goxugU9kOIqsWDZeo5/ebY5vhkQmn4y+9y\n",
       "5aPBOLLYZoyqzZsRkVHrlykdbJQ3m5NwarvZK16ioPPoytYZURDUF90yKpwQLsFBBGsEPiA/EUy6\n",
       "o4QRtqhWB23lvOk0huJYVofxOUU8+gUWynQhk6pDx6zuh8U8rYh85JCno2rlwmx7uD+AwBO3NR0M\n",
       "AMBv+PU8XB20pPwsGDBTbPbRBNJ5d2CJeFz0i9MqL0VgeMpHNLzkoUzP5a8sRJT6pSVzK2bvE29b\n",
       "O210LxAp95u/ocw1i+g/AMwPo3SZ1zAVg2juiXqOuVvYggKVoh8XNBnO0+QIxioUXSZShdnPSAcS\n",
       "vWLsV2+nn/0kJG5xAtpk7hD2PJqGOaRSnqgf2cwKcB58u2UflsGAGqUDyWisml8ZNtBpWaNnBO8c\n",
       "as3PSRgeBj4LV7jONn/C0r5MlFxZkmlJJa9lcrto0AxsTi4YeuSA1x6DgL8j5/iW06P2aky3gNdV\n",
       "HpAegkjRhbIRIFJUEe0CgOYRSvNicUsAZKNmWDMnMi0HAhgO7657+vsYMqkyguTbECO0Xa7aazpa\n",
       "AItw9lxUGIqBHPz3I0XQknarnYt16ZogcCP8nt1Ix9tWKgQWySWIMUSAdUE+yETjxl7MyX0vJ9P7\n",
       "TogV9j1FOooTowcqKKwf2SBJiQ8fHsoj8GzTEmWsa/S9QzZLr74Fp/E0R/zo6P+SR5GlNIgf5HPs\n",
       "2si3zeUPNbPkg6njvk6IvBKk4Fi1jZ5nZs63tl17G/eXqOzfocYL4D2LlFYetNxeUhJ77z8rRFjD\n",
       "1FQYDG7ZTbKqAzC52T2F25lHpGCajSDeLQb3yWyb3vcltvyep6hMIstWGo0CeQzoiaBXWdsrS1Ka\n",
       "kDXBVqOCbxn2FXHujmk/N8qOa+EuIVIcm977zGeNbQALtlHQPd1EtQ0AEJut9gW9VWAXyKgxCqLE\n",
       "Jy4pcKmPhKtYLuKcVcsuJ5EaoP12qrno+Z2H2xlbvqv1Jli3vl/LYFV7e9fWs+mAXwyQy1khQhCX\n",
       "FM7oDAvCoY5prKDMRlTKouSCCjzhXsfnINRBIRV0331DhSirxoda3TlDbu4s5qx4IBrV/QW0I56P\n",
       "IWIhJzzw2Kj7yBC7/+2IiROiaHljyambzXp25hlYoMVkmEbzFXzBU8Z6BCSN1R5MQgWgt2I9T2WB\n",
       "Onh4V/hNUqynKrImde49zYl98Dnnp8YL/Qvb/tdIcvmZ90j6E9AMOhy4Uf5FW1vjIstiz39wdS1F\n",
       "KUBqPEuozPrfjvLyxz5X8zWHA0ymgpMQUid3AmpQ8kSnxksnRG4Gs9J1u/FYGhfYk6uUP06Os3nW\n",
       "pNwQocra/qOlCjwoUFf8A/Pyo3jeV6NCl2d1PldBbEV/h35Rb7KlZcqaJunFtrhJsBMTm7dVwPvC\n",
       "VeZIWtc8XTzYAVqKspoJki+7pwehJPdFPmuDo+rhwoDK4x9HdbImv2ynpL+zIbQOVRFS8cDoDgD6\n",
       "qgb6IffgIxM0DKwuoBQX2Y91QGgJC1NibiL4FE9a4z/5n2fNFZ8Gkcj8x2TOcW8EordZxVwv/r6/\n",
       "qf4s2wA2W4HtYw3z1WUzUxp+fUm0LGNLgvYoo4qd0FHdJNEqdSW/MWOHxj5WSdZ/WxRgp47Ua7ah\n",
       "1LBAZGsWLRM034E++XTqKB6yLkXPUQJ3T9I4aBAdnfbxORZg3HydF4AP9hQp2UXwOEXFzoiLTj03\n",
       "Z0xEE7Mj1J8wNV/7K9jOwe2Co2wVS5hJwSWWHW/8D0XGQliiiZXK/qiRF41NmwX0dQk/2stzFz8b\n",
       "57ODc8nmOuOKL2tDWCipwShjchABsIysb7M5jvW72/bO/fG3+2A9ab3ublR6Tjc7nla2RFJfSJ2V\n",
       "RBfjfaomP/vOLO7sXZzKoVOiJXaflxhBLNu4orl/ZCyHN2nCYKFkZVfD50K1lZ2srPLhWg4Ssb9K\n",
       "AElj8m5Y2AGfM8r1rwf0iOYe2VJTaae9/qO/sVKTusc6YH8nTBlut4P9BlaflgWhN5zg65KbLs/5\n",
       "ixi88Bbc1Milrf0avw/Susp5EgmdvWVN/Z/1bxucC4o/rS/SU9xjr9B5jOzLm1gDmjaK6Ad1vJgT\n",
       "faa01m2z3PQtWNssw2mRZkZmuWOI8cPpSCOzwAgh8iLAwxF6aaIdQfegaZ0k5HJUC0qykLSkRHRn\n",
       "Wi070jaTvs5zBN27eJ6RE5bW7lYcohhKY4wa//nFH7Si2iqUTqI1Jo+eI9DmHufr85o6D4eMKe7W\n",
       "X/41jZjGisZikJQ3GVqSBg+fS27ITxPfZWQoXmC7if4ZxBoLIjyFdtY8aJktRnNIHjEoBPaW9sgQ\n",
       "Bx0xOJ3iIhrRqPHwUJytEPVKDUPuLEIIxjUmOjyO/b3ZwEreYlkm2mp8ZG9pHaky7AaB6Epz4sn2\n",
       "fIkv4QQmKlZ1OQ3hvpc2sdryiNV0K71BuYjqHomYlxU5mi6WknyQU62jpHDDnaUkVFAYHHrQ3vED\n",
       "sGyMRbY63G8QEOovnvEskbYpEZeYELmzMBWK7yEIZ/j5r0ZTcVEjX/CgAuFDJ3NEOxzCikVG+0Vd\n",
       "BM7iB+5WPKEzhRJOl1e8u2gRbNZP6zPiqLzqSfBQNLpIOsc+DK4LkXRlcPhN4yERq4bLIRQpjW0Y\n",
       "FmTM6T8fhOtse6b9GOWCQbYOmEpsQ/Gzt31Ehm3nrb0S5gaWxdhKfM4f3BgkPJzyDYNtnVxkD6lU\n",
       "+UBXbmgv2WMv3j1fs4GqjxGT4oYGb83y/fHgje27JXfaZsfw5QSxHM8n5sUWmxWYm9F3oB+XFPbS\n",
       "QYTZTRjhUtG95Q81YuIBBB2eNZsm+o2QEm3RMPRAgVFqNP3QMCEAAAP9AZ5hdEEvAAALVkdh5AA8\n",
       "sA3gNhAZlUqcx45AKEti5K0zqg6H4oSA6kf6u+kf3tQbWhemCBODzYt7cAHyXM+L1Alo7thPgwIX\n",
       "FVVF1Edfsa76Ff/6Tv2Fb5F1kXV9RBXmF+hUQWjVFjPOcYpUIAK3DVBCWzh5T9avb9kVebpwY8kz\n",
       "uTsE/VUu5Bv+v6Dzqq52/tJbmDBQTN7DWdz1/QqzulwahhRvzNLbQxybRF7K42JYkLYfVf6lzIdn\n",
       "iQWGg8Ja8LmjWMGXzjsV7ifiH3rU2yRCDKpht75ukVqOUC8uxNNeaI27zzVDWURu4v0Ds8+fKt0/\n",
       "Z1/tyEFKYQU9wJWDvZTv+7h4Pdwv0WZ1kzAYiAPmdT1hOueIGqoX4NxBqMdaPkt/XSh9/zdAzE4A\n",
       "LbiTHoDQ7egcNsKA7MQEMwlyM126HKOB/p3ioB8LbnBCntgCnMWfoKQnOonCtWug7mZvp5SVLhrc\n",
       "xAnuqvOhKQdbkTfoVYYht2dKBdEPL9jbhZZBsuxPPKdKvFOX2i5b2FT55BnpVDQIWCGTZAv8NcEu\n",
       "z84VX/kW/X8WmLw28KgflGj/twg6XMllN2bjHoFDl3/MWcqhaSEvt/EbLVoeaqNJ8rbbWG82G6XY\n",
       "eHr+y01M9DvPta0I1OWWOF9zT+39uuYf/DjV4P6ks41keftjUoFYjqT39z8cfIfcXK2BdqPL3YD4\n",
       "xIsRug5BcyYF2iD9qzhZU5KBvBQlmNeFz6sVN8bYbXk+AQrGMtdy9xZEJjN47xq1yDU39LfdYOtS\n",
       "jd0d3XbgF6rnWnkc6216kDvwoHZKDYtWqCUfeNWmhIJw+2zqKYIIcKHmuiDTtsZwZ1fgAN2ZhOs+\n",
       "UliU8OmVXVsfH2f90JvO3msbecXfgRu2HOcRFlPkEGCTDFmrdiB7FgDEL8unHNn9yv3uNXOARoIl\n",
       "PKOQ470dKt3iaXNLYneb3NtNutuyDY12HovOUxa2bmGDjG7eZ12W6W6WbzCCeW7scsgV03rCUXC1\n",
       "xxfm4R7RpnJJz/Qs7FG4HQ1qXGFvn2CeILRb2cvxGTkdfzSs11DiU09RENKboIdAqIHKO8ySxBsF\n",
       "Q2AgWKC4EMlNH+IltKncZcZK+InTsKb13rEQy7WXKLi+dHgEdRE5SS+h5rNTXJS02qfn6AJtbWLW\n",
       "dP1o+6xRrSpyw5Keel2C//RDz8NVhOi0uOqxM2pVFihAG1OFDZ1ib4whdPokwBYZ4EPwopzB5WZR\n",
       "PDStwi6CwYgC1VU/Q3snGsw63ikqmfFCQI/Q8utuZI1peQf189vlkwF6/QXYkkCE+LqQio0WpK4l\n",
       "estSZ3gvdRenWIDdPe/hhz1lYOPT4ehysJcGYaB9biSWGFDJgAAABjsBnmNqQS8AABdEYgAf1uck\n",
       "HQHgTFQ7XNDW3JycjLTYhDx8XYej04ajgfvtsoJYO+NR/x/mhZO1K/sRvZJTwtoc+YHc/RRd4NJC\n",
       "+hd+yAo7Xq4m191JuA/5t2P3yWVOkNEnip1+lLrJMEUv7wrL1nd9xNQThinDdx49btHhFHrrpY77\n",
       "I3dofeukUFbm72bHs6SIxcdK+H93RMuRVSy7FsxZX5Ba5lOqVEhLQhQNSNlYM+of+cQP6F30Xozw\n",
       "38CltUFi5tfTHzLh0cgxVwGwlZ9NvDS1OoYvMgRcp6Ix3EBo7m7+2hHqfIYTPopo0NWYm7IDCM1E\n",
       "JYtvLFutsLU9x3c7F32UKd1wIU0C45LYI3cCEV+Yzd7i1bJlmF9ZibxjFcHISLAjPbaDzLshKTk6\n",
       "xntJ+vBmQV4F79Y56tqrvyc3DOuexaQCzI8YITa2LScS7HV0ycLBSkg9+sSuggc2cRGmuJpcQa4m\n",
       "U3F3zuF0Zijx4kjQBLg+SERnnl00HuStx8rttZOQg1mVk63zbhS8scGZZ3BPqPAQw+C9ZiXhepeq\n",
       "IAWBsIBHtQsmCjHCSQtcTK6RFpdc1pQfFzRVBWoQi2PA3yXwcVMF/AwE2DftgUYvyghqLcetCtf3\n",
       "eB/VHGisycldJsqfX+c2d2Sl25MasZ5uW0GsKLkUSY/Dt9YbxuNKIKCbujPbNXXLXQxnR7z0sITJ\n",
       "W6luvP/Cd2CsyGg9qCYxOfQ+Jgv4RDHtwN3nxDRsTDtwVk/LICtWTTkkq9cxuds/DpWyTqWZS2lJ\n",
       "Fn7Qnq1GCC9n3vB2EAHExb9mSIW8LDpXlOaEAHkaJo3evDLTpJA9NUsMAzQasMH6ntJGV3uDNEP+\n",
       "4783t37lWZee42BvRLqkciGatWXPLV5aX67AWIeMTRpDHcA358ipQAZrE3OFqOk031rYevgeVn8O\n",
       "In8eW/B4xBnQBmKhxjHtR6zN1FYBALgN9hmdv5SLnaAtCv7Ir57o0qtToo7Cuv/bm4z+uJo1q+Xn\n",
       "VsfWYv3klg0jRInHsw6KnQTaIt130B0KxwKFTVS0l9I4FA5U5O3wKZdCkPq4xJJj9UdlNqgcW2qo\n",
       "LBLj8waOZPC6kcUrvjnvU0tSStNaS7EfAxYI1H6UzxH0ZobQrxJOHa+NSeJYwGCVXxnN8h9WMMZd\n",
       "WelQajPViLcQlJoykdtKd6Z2a4J/+2R6B/3UQVttYT/1WyZgPi1OBs7yuGh/4In9DXNpDAF8blC+\n",
       "BYvp785qfnHycgiaxb41uUKmKXifx+LwFTy3jZLXJ7NoSdQlXcoPPULSRy9tVQ+ceY2oeDfiwqQJ\n",
       "fddo2CIli/5roNmgUN5QrXnk1M83N8TQdt+mjYFt6SxkM2hP4qCCqjLq8Lp6rmDVEvqgEKtI8wDr\n",
       "9pa8VOP+qTQUAuRaorHvh+w+L1jcux4Roz9IZ+RCSdlmq+QR3OG3974qdyi+mX6Eu4DlbiQFuGY5\n",
       "hctNxNky2aAzgk1w5mP9rtcGol85yAf3OZreblsAE7SZFulVExQWVt6gb5t4+4Dz3j43Lj+TKpw/\n",
       "EwAweqFdYWZScIFe1F6cPJ2EG1Enb1SiGRE8V7Qc3KNvMYhTEuC49dbmeW973jTCy935/yggBoZN\n",
       "nUCMeIx5whd094Pv2YaeD5CunM7Qu2cD0zN9ybqgLWvBmH7cfmZuviSmjK/kvYN9WpONGeGqndgK\n",
       "kzmJSaxVaMxdsHScP8HQ3LdXCPZjuMSkKOXI3GEAlu8qZGNySVrSK+BWq0Gcx6LNlMFZ3cXAaVRA\n",
       "i0w2q8DGkwQejulyrk7dc9CAO/Wnrkx+Hc0hkrcQacRfxhH6jU8O0xKasqb9JKkfSh2bwdO7Hue3\n",
       "M9Nw33Sha7IHImM1H2jRjEDWKe2jzu7pjwgRzT+5QCjYIvq+nSK4ppLCsA/WfTYSMYfOklRubYwB\n",
       "m99nZvZxo7WBFXytkwAXnc2CGCr9+NNAoPCCoZYaobz8lV+GYES/i0rdVEj4MXJWQRFCPQqUa+Va\n",
       "4vfecEVKxm++f8axsffidGWdoZ7U0lfUCKbIRgx8737QypOP1mIkaGyg9brH+z05tAt6/oGrA3+3\n",
       "JoRR4phgiVQLcQCuWL4hgNuRjV2sRFBRuQgU7a/KTYFlEAPhAABIwQAACHlBmmVJqEFomUwIK//+\n",
       "1qVQAAXgVLlWYATUdfP7w3KCfiDspKUuLBf0tPKKOv2n93M+ku0UFu8rRanYtvoAxYklX9H+/rcm\n",
       "5caZn/UR14m4JKyJuKbYz1AEzhLYEB8KdcAwMnFibPX+1Q5b5gpPdwS6/zLgLMY2yKubT2Euq59t\n",
       "K7kFf9kDLfzAXJUl7KVfi/UY1xhLU42+8H/m75floLzQb9SYFMrL78cwaazPdmxxHad7qkHpnCcj\n",
       "Ksahf1gV+dtn2RvOCA9i3VPFmDh/gDBRxktYSCT/zyp/Sqp4iCtm0vQMAl+wVH47WxlE/k12EJZD\n",
       "NL/3AhBnaj4p634YQ5R37uvdCWelV9a3cihQfv9meADFQN55UIkz36a8NfvzcxrXF7PdxeMEZaTE\n",
       "3diix48yr6CI+O4c9MX+4My9GDCbV72NXw9udAcwDoz/O+Q7e5Bau3bfLw+sMy+pXhQe+WOf9piJ\n",
       "oVDMX1Irmbe3YKrR3p/1ite90Iwte7AQBqE1EUvvfnhYC4FGYFYJCA+wDMTKEQ/unF2qq9ad2iFr\n",
       "2ZzicmoNquiZz643z0NjWmLukMR32xTXV4RjqUwsy3qxhRdrCh2P4vLKU2mMhorACouJ2D70JZFz\n",
       "tu+s76HkkAzuVylz/rJvXigprl+QPqrWSnJArujufMGokr+M0JNtEC2kElsBEUghhMZ1eB/1SXbp\n",
       "Qfv62AeX2CyukEzqqqEtRT/KMR/iWmZDEWetoP23T9nTCV0KjN8UeUSJmenmbbOB5CYIBNVS/qSa\n",
       "hweu7/VGkFpFjbanyIFsBSIIJ8uFvU7xiL5JP7kb64x5NZ5a1gf2TwENDbiN+Qam+5wnNg9s44TN\n",
       "kD6GqZDhFCDMNilY9SrRaXwuJApbEzUBAQ7q+5jAAZ+NpJsTGbhyylxcNEUJciAy4ByjjMQSnGSQ\n",
       "uLsbG5KXAMEzGBlD3AE7vUfAjYSoGn086mLNHW0qT9P8HpczYg5J42hIASIPb6uQ3IWdlYZmSJeF\n",
       "W7GLm9oE5PsCXoGEpcqu26VYsNSj7qNdWdBS9Pfd4xeM0I0hxkFaqkic7YXwcrIljUHqzLN4S0n3\n",
       "gT+wWv6hPnB+vNPogFte1/gN1BbasUWB5JjxiW2P2FXBiNibCwb1+o++yCehyZ5/9v3O9534/CYT\n",
       "gL84HUEZwOU6iGTPPtFavCjBe9JlT0B9SEUopmRvlv4NSfGcHLj7r7YGd0MNbaYyyatoA9cIXCXX\n",
       "Ov3zdSqh+XQHdMnrM1DT9VytxbrZa8j5aNamg1avsllIK99HmpMjQVx5thGq3xpRzIdw+yLme9E0\n",
       "yJjooTtActm6pPTQm679+6ZNe1z0USXLajo2T3+iWByeTmf1rVuGzNNe+OkZSIQdW/atIrFt/CeB\n",
       "iNEa/G4zTLj11QWRDQwZtJRJPCjJGme0fZX0echuOWLch3WxtQ8sap4OnfT2Kv1pMazgQWtkuwq/\n",
       "VUiCuBPyY2R62IOFwSYt1AmEUI0h7iPZMv8dFlHICXSFweIsgYX8vNJivHmHPOxiuE09Xy1c/f0k\n",
       "hF68CZT/gNQi5DTILRF5bleuwCptvtlwtZb26oseujfirPMODOjRjcw+rhQzjJfUsbxD8qTfcQMR\n",
       "bKvO4jgSCn14Ez0y/nAMdbVjZ0MfxJpdSq5L6vc6LLGDxl8F4RuIZ8xEez3+lgQcRs2EnAqTh7RU\n",
       "BXWWCE9f7NvG1vr7s5PTAuu88Ok9VQEeFSkhWdaIfaQx/aXFcKzzsRLQVUuUeO8QOY900MH9mNKr\n",
       "Niug/tEA6olgXl3YrQaAE52Mrx1QujS/FuewgPdwqTYdJBGtUlOUw0frUwG9jew/F4lw90w6iswS\n",
       "rvm7OSgf+leXeY+T8K8hmzDBhLDNpsFVpRqo2FvPuW8UQsVv+oRhhvpYGWyqqqVzHIou9V21xxAs\n",
       "L/2946GSuW28IszJtkz9c9Juy4L0OUOg+4/UcAEfJ3QB5fHSK69lcFovA7wV45TQmqqp9tZdVu9w\n",
       "Mmq9dTx50dpItHNaQFRyEL3Fn8dLb/S9rRIQZ8VXgdErFU6RjqZhTsPFS2z943XI4tkzXEBqnVzI\n",
       "sjvgZgaa8NeePzjklgnXYyhgigVhtzWa6q753+9gvyIk6iiIk7rLcyVExMcCaaV5NVmhLC2BplAe\n",
       "0VkST9tslBmCd7r/oW8PmHOtl35gzS5gKkbsgOKxzXNa6RF4gz1CYgwm3a1/vo9l7weydOfB/khD\n",
       "7au92aR5dzzFr/viLlgmdvvfqbrLugpigQn+Seit7Adj2s43lVPWXU0DtA9wdZFcfVDCI5se6Lpz\n",
       "1FwiR2WVoIwqAbzYdb4mx8NLom/p+sGR0FrD3JuByEfNr/IqahCuqDz/XDjlCMFLoCu6+cXQh9lW\n",
       "PA49ArjDCefnWYwZL9fTsINgj0saRw3YHmSnL6O+qPzjqwXNeubvqmnHKlMfvu6ZfJAU641JzyTp\n",
       "NvMk6s/ptxl8ySg4yTXrQZnYizlbN3TJEwaONioGfV4xof/iTbvBJ8rN66aZWmjkihp8hJf4+mQD\n",
       "v8RqCEmVtNhis71+2WXA8MHPUF9tJKpUritD/ztqKLxTDEQj7Tt7mbOu0NCmoGQAHl8zTziRyyTx\n",
       "ChQcjdbFmQK7z9q5A5JjrrL5fjAho+6kRSW7PiUriqowgkOklJfjjha+TA+VDp2t6rKeh+CDUQLM\n",
       "J5WGKlivH9ovPOV5/zM+b0A4d9IFAf3YrLjUfBad9mYYNH/1boaDOzasv7fDRSTZUZA6U+W7H/HD\n",
       "Hh8llUD+K2dgrYiooEOuqN9Frz8E5wCIM1CSFmsIynqw/p2q76xzdk3PnXXn3QKcr2NO78Kh9fJL\n",
       "pHeMlktEzY0RZ+A9gXG0goy54tu277kw3ittlUh5Ke8JmruYLP1HyUT67x8QAUUAAAcGQZqGSeEK\n",
       "UmUwIKf//taMsAALuTMHyAAWMIzhYSl0BfxxO4TlKkzOdwyLxNtKpY4czafQH9ha0S6fGLnJzlWq\n",
       "468S74G+FQCbKhxJDIe90Z2Fku4Adgvoi5qmd8FOX7SqaWw+YHTzZBd9TWIJhRlXKifp2oOarbUc\n",
       "SfEihy4T9ZLHcbT7UdUoPtk33GduXKZOiZgciXhwQCw7dQC02hzUPKCtwve6HQIaUqCUtCw1NZBp\n",
       "8nVWOZdJWJ14f/hsqdQs1ebkw91hWdakq7W8mgrk0w8j/j95EihOhoCjlz3QjE82suCXs7cqKbtV\n",
       "GTIumuiealqcuYY+pk74rWsZgx92v2+XwK4CCsuxoA2VK3mst+6/OH8dQtjAO0x1dHOMBV/6vcYP\n",
       "ETLqw6SMmeESBidcGtuqrHaH9mfkm+z1KxhnxOA2bBupWa2VOUnNKyWd47ADV4T8lpD1xqjyvRee\n",
       "DuwLxLd/EGKmBqlGM3sMOBXwdMFt9YAnWVKz/1m52DqOh6wBgwJWz0R03nibkDe/eKVUgGWXHi83\n",
       "j4FIyw4LVxnDAibxI4H4Qm32AzOqJQKoAJt0J4g6JlVd11+BHW/tgWmRHofbNKZAON9EfA0axUPv\n",
       "0EPF68wKdNRaaQEcHB89O0Blgyn7gsdmtKUcd/ZyeQRlwTGotPvhZFHoRHGVWCG+VY4jCfOKopFF\n",
       "W9jd6lIZC3vC+6ovT/ngT6pZaE72XgN/noJvlLT2l9tyksau0m37tc0y657JfBUOVdCcEeDsbDGi\n",
       "1DfZJlz3oAn5vzHAgA6JmNcH8MsqEfdLkt8v0YN+hu6Rz/zpxwY2zeZlBkoCDgxVa81q8fpmWnpM\n",
       "cJfEqgiTYcnkxjYsR7oL14YcWjUvNhrdDPT57eYu9QW0RqY1BT9HlQWb/jnd59SEfdsQxTZM/XLc\n",
       "T6A1lYmynBkqIKZdlGmXbqXUTVqiu1aC8sHD6nj8f2fcQHh/QmXZFxWn6nNLA0+BOXzbAw1Df2S9\n",
       "/z4PwXSWFM7Pc8hmaST0L+Js0TjH7j64AJ4bZil2P5tssoOUevIfXd/i7MLOYV2C+U86+H6m/cOt\n",
       "wHZ44MO2p7/evkNCBf4hVzBRUJYYXmHx6vnHUqsvk51s+usiRgkeaCIpxjgego+kdEegsjmJ/KNw\n",
       "iSxXUiPEH8uL7GRD+9zm56hUxhanfGCMppdHD4nGb567McKMHEn0rYNvOn6CzhSmA7HTScZx4/dY\n",
       "rXl7+kMytepvlOWL0TUSij42EF3VmbWX29IHC4XNLTIk8/ItMi2vf0QP+lmMw6wg9TILRapdD5Ka\n",
       "R5IKylQZfNKWNrfbu/4jciJQrEUB/Wv+mGe9YtpHBQf6RBPYkUxbM6+vkc33gy2I35Bu0e/6UCKf\n",
       "M5imsaopgI4P9iAfKrBARnGKw2buz74lDeQJIONQTfGAUVqGyp+KHGeyP14epuQ2Wo5qBsYMhAOG\n",
       "OeDGJvKBLBL9fx8Z+t2TyaZamz+KZwuZOehCT4fyhrgPmunQM2V7GIqqFn+xlkwu749MC+tVT283\n",
       "Wrn508xuv+jRniIxgkmri5wmNEGulCxh9A1Zmeb//yebRplOMTap0dr1xBXBZBv20XLsBdZ8po9n\n",
       "o3l6zzLjBS2V6bmLeHKKakEQIFnCl4XO/FURi4tJgyHARSUrpQs19JgFkvhrBWd5dgLuVz5ia7Ta\n",
       "k3vlonJu4XEUJzliUOZYG8361yTRCdQtBQNwTQDE0+K5+BMa72tOQbtfVzkhHq0T1WeXvgCU6ZDk\n",
       "OZNrdfiKj3ZtLdoN+t3DK2VDsjjHVHPwAwSUwZSu3p932RJLv4sAtRpTV8J+LBgzoiIDzEm8UoX4\n",
       "diDuyPjxsSPkou5+ivUasDJtWiKDaesd/UVdWFnrPrwzIellpalLKhPSn/XJmEKBlCMvpd5ql7UO\n",
       "eDmcLtP91UqFqHbyMGSl9Y/T+OerzG6Nk9I2UKBgYMjLp8b0THhXKK511uCVyv81KxFJfZtM6i7i\n",
       "h+bi0fpixis82j26EbJy6zylUzh93wp1/mbf7gNXezWptemdjKJJhkDjIqqVynHbdTliEkuC9MLW\n",
       "lzoqiOUE3Xj3ttAtlcJAVo6iQbvJ7FsDpGp8bX5CjYyFrCsH1YsfKmLxacVAT025JPdlmvcAwAoU\n",
       "uY9XbYB2+/fjRmcRaHYl8Lhr/3wlKp+DRjSYPHi8jGs1Qxn1yIUgpBOUF+TuKcPANTMev11cYznl\n",
       "6YsbpemmdYnur663sX85z3/jTdgkqyiKoxyIFJDTLBxXNs2EwYVRzFQb6HF0hJuyE2mIwvBn1u7P\n",
       "xkmY+ZxG3G0WL8HVGjRnzCXFOpw/sVN50eEvTMNN2CtDV+fveNL0OKZ7rxIgOXuyb8d3n7zTFUKO\n",
       "WV1c14Xx1KNKaiGio7bUyokexQWZwlQBqQAACLpBmqdJ4Q6JlMCCn/7WjLAAAbLnJSHt/FBWNVNr\n",
       "M02rsiuKN89d9dp7vDijNgXEpU9B4AJa4FtNF5JY0lENKn3n452FwEHksMNt/eko3AbAT072g+a9\n",
       "dfYKNNN0JI1uo5IQ68sAZexbTVr0M6pWk/+zbjKb+lyGEF5ThhaBLA08w3YnfV/G43QgcVHZRe+1\n",
       "xM6hy9R9cv6FVMwR1FjXdiYjeH0q8sCSxEWwm/Xrsd27wOJwZayqF/BC3ECrhSCJzeCY9eA+m3iK\n",
       "/0C6IW8Fm3o0+WcByWPGeuPXumKTMy4S5DlldC2TfjComDditEtVePDTipfjMAaGkjh1rwP1Nz/o\n",
       "ADgfugc9oQjyyyatZHy95OZI2wDDX9dydPc/orG/fbAOVvKshngQxa0j6Cv0RWCKEzgLXV3ShRyJ\n",
       "9bF4sjsiCHT3KLhDgqjNKeIslvcvoQ5gukoBPXHz+ZImG89UMcOhpUN41ycNDwfo8acPCyB7PclM\n",
       "vQPCx8SzVScSQYuzzrMEdfSD0oLeQ8R18s1KslKOa/v7P/rgmKAKOFhq+7U/eQwUBbWdM99CFwoG\n",
       "O304bYQvB6L7n75raUPg5R0WATstQFpHmiYUJthRjRahdZldnXwbb/t39GIcVEdj1xjJArUVxFHV\n",
       "ZH0QjiLfA/S2BCQWT54iDMgQHeXF6HEFAOM5NlLHBi89Y1LbqD+m9kt6c6z/LrPKnQ91Vg8wY3I9\n",
       "3gJ4ZCtnTF43ZnnBmk1KjdDCKaLI3pX/Rc5HCaMuaHIvIRw9AzRdgdH1i8dWhSoylwpxBCITKQWq\n",
       "eUu23sYe4GO7MbNpaIPdWJ+XPEds686oMt7jyP8bKR2TN1aGVH0xcA69xl29Dm4/lBkz2fQLtSW3\n",
       "4RoVYRFJJcUWvR00kNBUi7lmVKrk7+ZMN4an0YXqQ//lVYmGYCeQzrlQLTmvUDAaFLZyzn77vI6a\n",
       "EoWSGtFsY/bg9kyggqzCRfWT4zy6XADdqNGKVk7RtoDo6cQ96BPwewDcY9BOYV5JRBgl/Y9l4a45\n",
       "fCNFbi2e4wTU//GWWwofljme9gKz0jSMFI7lamlNnpY/kVcDe+Oqu2lv0L5KEDB1Lu8bxT3Y/C/N\n",
       "1lwRGtvMyKs7p1QtfQvs7YQnHWRHvA/vP80PrNRFQ3Z4b6NU7g2nrLoiHgRp/xWF8sOdmv6qtWF7\n",
       "CHcnrUlf9cI/yOOdo4WLcWgghLGQ7NO0Pn6ONFhX719Gsg3NnO7eH2koujrCzScwTyXROBCve1BP\n",
       "FpqxOWEWsh0cQMxEbstzpgWMwVIV7gg7zSOV6lV4BVMe/jLBqixpAbiPFWX/LuyS9zoulePgvGLi\n",
       "GsuWHsIWcldqcmGITtJfHNpiQsu3NMCB+2RrznuxJGK22ql+nYHj+MXwPTLtJlIuvvpNaXGUeMy8\n",
       "HJlK833+lIGGo5uXLl06DJuCbPOekrvz7r8jd9FqFtXoQ3cGB6VVJwv3FMfon59sjUzsfCo4XyxO\n",
       "ep/vK7Z4CT2S3ZGbT1e40skUnZwci3CXgDFiBVCpmyJpmgo56zW6ZGaBH5tEO9tfTqcwIGeozyEh\n",
       "AT7hjoaaBlX1cQZBQwlahptPocEywzEa5hNdNCfXC8vW5AUuI67Yii83yiPkvyLD6CAFwcJZvBop\n",
       "PAT/3HBnRXLWOhlXuKYXTsZ6xd+amMD6VyR+5FnaUZfFxWkwTpAedISppic4zbZGahcrYt81Pbd8\n",
       "u5mkQsi6HNqHUAs1y0HAU6p+rcqeIYkjhRlWyw+u0kk5vZ2aFZUN5A81qhDnRWmVa3/syc1gjfOF\n",
       "JMBMOAEk+rscSpHSyPrMGAINq/GIyrhc5mHnXStEJhOLD5Ob8sGIMn8BkWUJzMXFYhdGaoQZT8G1\n",
       "ZHembnb3sjxRjmddFqOvxZzo0AykG0SgFEyVwd1VL+ajkEZqdNi2lOdDj0M9wvzegJQxnMeBuJIJ\n",
       "uhbrgOOwqZakF68hjvVyLfkc7WMUgmek+xC4xa1m1veGbnEuzFD3qE1cMImewaoCt3Oy0n24cFeP\n",
       "JrsmLeW/E8c6bWQoKMqWhMhitXSZG1Z4uhbeifRBaCqggYc+4xJa3I+Rra+tKGlJO9C51khLUgNN\n",
       "n+clRyOVHHIFglF5mWmzz+ODVAZbUWNZFgVGvTTM8H0D0vIeCSQXHwFEVDzZ+ux9Oi1wdsrlZKMV\n",
       "yJdXOPoXKOWmtUWlSQL5iKlCnPd/LTQSdpsv/8hgqJlZdCZgiTFurKD7mSygkV2gNRQuZNMQ7J41\n",
       "qNcVVhKO4gwYj56njXIKTmI82J80UFuwTvADNIv9xREAI9/ao93+XDvrqF8vey4EdKiNZ7bS9Yjj\n",
       "ipLidomushlf8LQG8MFILnTu560uefJAF/PrH0LEaQ2fCIRJ04mYZvqhGed6n82zhXVXLP6a+aEe\n",
       "OPeqzfOW6jH3PGk/T8IYilOLlALc1wdrJMLGFrux7SBn5H6Bg8JPPI4S94jJDgLOHAMqFAbg6rUD\n",
       "4RpvDmaTrTFTp9VV1/GRjDiWh4d8n4tYAXBbH8ywUoJXv+QzPtZbHxG+HQJkZKnBu8HPnxCmG/y9\n",
       "NpFDsOgZRFYQowQw7uA5NDWrV74fN/57n1rcCPvrLv5Zk3ZLJhhDS/VTuBODxtfFDmPrio099TxF\n",
       "6mcBKtCtwR8JK1Sr5e8/YXBZxdUBH/uYi09+Ax7AxfBg7xJ+CRJJ5erAcDI9gA6/fpF74u8iSOAk\n",
       "TauPUmmn+M4LDppECnWHnoyv0Y17mUvleMaKUpVCv86HZ14ywR3K4Kp0VwTdWIdJjWhl0QB/XtLE\n",
       "aU/QvrXBiuie76AmKkKBl/OcQqDFR6spo85e4cHamoqJGo6FblcDXpLah1OgpfeqyYT7BUUuDRCc\n",
       "5epZ5OJb8Dmn1gPkMk3yjO+US104aSAUO0RU/7Am0a68C1L4X/7sMI7LiMinAhA8dLW7iuKoMH1K\n",
       "jNm3mOmyMqrcH/4bX4UcKnwSD4J1EpUxRGCqO07jHpDQ63MxX4AoIQAACTxBmshJ4Q8mUwIKf/7W\n",
       "jLAAC7ltPgAbVHYmyxMV8YOqz8vzTAOc6igz1ENxHThOkx+yXvayA0Ny6tQ9dydgupiuDZrLG9jE\n",
       "eZI6+5BvrMVoK2B+0hrXh4IwcoEkICavfXOJvQPYrF15Jjlo2U8RBHpGeYsQMOoTZhT26gDNTLL5\n",
       "sd2H5k5HE+sSyVtVvTtKtodkUFzlTmLEjfuwfQ4lyAH/FX2/t+8D65+Y93UjqczYB9rSsFjkpxUj\n",
       "kRsy3Lyko8J6npanyBccmWzQFP5Rhk16SdzRr4r3dEZ6eEJTWjLZpdLaLYLQoPb5TdV6Lw+X/dLc\n",
       "oTUkXfQRRVA2bEtk7HxwgC+wyANILOUPPLeIyv+C7pDJ+4YqyU6pbuH4ousdShItAd4z0C2JQPc9\n",
       "PLkosRDU522ReHr1oYTjdxcg+fuLcIPKxsqmAG6jEkK0xLzqfCNgk1gvkBETsn+1sgHquOmMs4jS\n",
       "j+jeTWQsUwEfwDD6/ihl1MFnx7dLrFn5BuLGccMAIwsFBNMKyeprN15n89d0+xoZD/oL+feUBcvm\n",
       "OyU33yLK+V9vsSalCHNfVc6LgoSz16dLVHqliqdqe5wwIMa3J8jrO4EzfXV1lUPYtvyHsKC3tuK6\n",
       "TkTI+0916VFg3jwUU/ZMn/Si0OBL9VrIaA58rQyOUmmxmffEy+80/9MZzXxhZ5SNQEEbpY4tPH3j\n",
       "8eA7vhlPo+GPsMnkS8gh1U/FCLVAUnEzZLuBfhGgh9L0+3+kGG9TtvQpd6vzIzHJ2u0/RhJh4Q+M\n",
       "b4XRXhD6CQvMOgdKBBaZKRbDAZ2A/5vvyglEi62bZE0OcDgDxvgx0TVNMB7t056HeKMpv0AvaIdB\n",
       "LZubvn4g6x+0AD6VRA1kYcbBYmbSHGnB1uoIngIRFOpz2NIWUL+lYdsEpH6L9ewBnPoOT8BNlSdW\n",
       "ECZuoZcvi/uKw+OYqihulqPMABxm6UddmMUROsLtW+yVweh7YURdYuYl2ZU4IQWwRpp5qRIeD1Zy\n",
       "fIBknLHhDT0XDoSM5x/anOhVb5g/2YUCvAbCMAA95AHo2NP2kBBF3ZmKpvQ7zcJN8c3qIprUvVaY\n",
       "06THLTxnDGiCpIzexL9DLBT1nMygmDQ0e3gfTr7PovOAwNdV5tyJeGAjxDRSXg2D2Jf7ltQMuADI\n",
       "Qd5F15us3Jx6HpgK2zvUvsD3hmOWb3QPAHeY98bVITLMu3TYuQwElg1loo4tWCZNhgPIyrq1Za/D\n",
       "qGyA17w8XCFGwGDX/RzH7XbL5vTi6P4DUOcNnOstFKkqzk9mDdQOi1erRhmqPtfD/GAgyDFMbeKB\n",
       "RyaiylO8/t0YC7hBlxwZRO2C2apZQeIZ9a/6Zk5CK+usKcC3I6Lsbkcq+F2efEBAixaysb+O9wYQ\n",
       "tVUAyNvDOrKfnzfRKSHlpPkUJ4hE15AFB7/hY/pzgPrV5fsRl/IA1Oz9zHjKaTNHQDnjYHbuhx6O\n",
       "T/oXtbtqi5RbYfmlCMyjpIZ8sutDNQlNaHGRWVGMm7fGGrQbCqrBnmM3ZE+FkzYIj7Ar38s5kn6j\n",
       "kOOM59aKaF3La+iJMCU0US9w3KpaTjVaSyM9cKgwAUywsbQiwLUamCKz85Yeg3MHa9xfQvesd4u7\n",
       "QN1gvAPx+lVaY2Uj9Xe3E6/kEWC1XFANZvXffY6S2JFchDx0ITKC5818wVpD/35HonM96NtYHHg8\n",
       "bM/ocOAkHTWusGSvL5/euJvg16xPNdlePtVFz5wHI8PMIveXrrQq0wvoCFQCSPBvPawofXJuqVm7\n",
       "S9QnzWUYAXyAeER/jvlHSmzCgI3fUJJEZkT1AI/h6RiaY8n/buFi21NU4WA50eTGFKpCNlDbMrML\n",
       "B/py4MRj/fiw66aKg0y2mXKOd7/Pe5m5ShMd8syXFx9XoWofslAZVjzhe7C0q9YKXwIdKP58C7Pp\n",
       "Z+OrE89Ei6KbFsjUVzciTSp6Nhyj1Xe5VDaDWInr2DGmJwvUtB9pVqgdSlD0tvSMCjImyzeXkWxP\n",
       "tjYkS7aMAcY+a/BouEzU+lQTkSwC2JxkfWBe6I9uMau9PMOwtu9uaETK2is69ViCPMx/2xwR2uf2\n",
       "acZIbAyWMmgPFY9ozvBPz8NZDyoAXSe3j4wlx1NJt9Amvtca5d8k8gmDZ8KRMjnmJ5fHz4tTRoJE\n",
       "XX7VFychYzp4ZRtEpw7yK/7qlOM1yPPhye/k/FhHNUOQtY2FLdftbztOuGamxAMdI+9haYTiKa+F\n",
       "iyCxBldi4t38wzS21P0886nzNMuDPBqwyDhOH7Tpdgoc8XKk71js1WHvk508k/08Efrmebu1EwOQ\n",
       "O+evekcLfbAzfCL9trzRaEFdRi5/mFhZbnVkcCG7dV8UeywHQ+LIbMt9Dzp/BRdES2r5O4v+nbcT\n",
       "ut8JSUYy6pe4Zep5fb8frEM+uIgIgLWFCm3YiImLOsMHXGoY08GhvezVoxq/SRp0s86GOcuXntgf\n",
       "Yg9oREYOSGvO5ihKTgOqRcplORDE1R/jLZAaQ/iYXWemyUu/46tD7BTxPIAaC2zsuBlWtVY1P5N5\n",
       "NjnLwWPqUpb8NOn9Lrz2+5Oti7nZ9L4813VgwR3LX5f59VFce1JJ418MYQPqV0B2RX2g1RSOxQ6m\n",
       "o5sSUi59817hSVjZdrIFcABafY/8XGqi7uQORCUtE98SQpXkrHxyewTqktSWXn76/yTkdqRKOG2x\n",
       "7iHQSUkql00O8id5fERMD39L7PzkoRVo+FOccF5IYHz3yIeUfGUY5UFMzgBsPubGCbnPsy5NBdlp\n",
       "QiQgZYSK41w6tu3GLlON9wfCUHb7kTzBhgB/GRzHvNUrrRPG373YQ1VmB9mCRb20eyWyTK/xDu7G\n",
       "pBNh1IWsMujRbbjGmZBKRu2NBeMyJFlJKbmFl/jBZlNaCIAAVtWJ4X1dLIxmvlV+VPsky5n4C3nc\n",
       "vDZXalVDXVkqh5QA1a3GFsYwwpy+GveD2MhPrI6z+tWcKfGJmjNnQ9sK6zKH7hhxmvs1sRVLQWEc\n",
       "/eAUawrv29rxHGtsKBLHR744eJEDri7dHYFqf+UEJJNc/IUq63bEE+Vi7HtoVi2ZsAyrj8WSjb40\n",
       "qbpVVgD+TpJXGU57ZPFwS+NaEicay39xc4eUdDGm1uxqFOz4KBEePNdMux0bdnAuBRssIyoJ6uzt\n",
       "K6Dj3ieqo7I/H6YAV8AAAAS3QZrpSeEPJlMCCX/+tSqAAC3Zn3aTIAD+L+XN08tgj1Yg/vy3xeXF\n",
       "fiy6MMEDLyG3DXkYaBHCku17Kb43fgFi7DvspWq4Wv+0im86a5n8TdudyygcQrs7wgjBqwvUql5o\n",
       "RlqEYjF2/oBhg5r5VJbum0aCmJZ/xmGBBwVMAezAuC/j8sAgboI7EoNus6WNEXDMtKk/ykr8ye6g\n",
       "H9ImL+3cPtG659FZfUBRYRAdAJckphP5wCjLrUISxTOgFXzsdXF4Rk3A5780UG3zmLfSWH8Llr8F\n",
       "rLcO+6P/EkqxEIFdFrnG8DkeK8JO680R5MUq8Poex/3WGAoUnYoSvBjSuzcV1wBJc1OJCvtv5s2s\n",
       "LAfKXdzz7Jsk0jbcJk2w3HuRZzwvUDcY40YNCLPDH7Ba8acHOps0MQzwQfwMXpQzSdPCV/36LUlQ\n",
       "sfO5bFoQ1OOVPyqNYNxaFfmTwJH8nS03LV1telIlHMuryeu/UqwlFhjp5mAVH6JSNFqdDE+92/fu\n",
       "bUX1LTGFgtElAfK9GOVMcu8QULQDaQeUEM7+RoERQUn9vUI6eIv3CEIMEiu9hSH+NDbPupkXDsHB\n",
       "owI75GxT40GcY1bJoFdg1cuDINx3Oi+ioroiTuyPLD+Cvjk/T1xlC0nz69SgFaSDuHtvQlBUteu2\n",
       "Uf093CBnHlloK0o0gZbCoworhjSqyqXAQvaIyFhG3SdV8eLK38YCQ+0ao36UP19vafOOM8YHAv0Q\n",
       "j16VDMLcnHwiIgtWh4mWligPoFmUWUjE1kJRixpRxlj4PAR8cDfMVIbU0Cvvm2TkpEcgMuJUhGp2\n",
       "5LVfYZETZBQCtcHRZ+eN2kxmrN3AE3cQyVYy03VIqJ0JHS6YPSd/ek9qkg7iLdj/22gB5mhFKkTO\n",
       "ZBIkDuodKLATuazWA24QyEkgqxbftOxINVTN/eaCtNhX3NE7slTh3okIZSGT3h9ZKFc0/URd9PR4\n",
       "bpUQrUCYtveX9bBFrwODOYbZKmliGVI/GiW+WkaNRlZd1FLLKJgZyqBrtPq1OxZgW902GnIqkyZ/\n",
       "7FnjtvR43plRXRFKf7xyVGDhbJWDumq5FxOdml9vsj7CTu8bV5YlhuX1eu3jMMiAmAvXF6aZPQ6q\n",
       "Vd0kbIHyk2WO5WVAJJ8PwYfMQrR6s+qFmUhAJDaUUW2k10x1vgfAihr1usQxmW0Zv1v/uIION+i4\n",
       "JFtxKnN5rbMEIl86h0X/PLikE0HOJRf6Lk90cxJUBc67/9Xs8WEU2elpDQG7G4mgFchHSSjWF3ni\n",
       "C+u+nSdIjFk/auqvvZuIGYO+gTikLNy4Zkh6L1T19F2xMGU3hYdHdG4PNRqXtdfYXRSRzwcvh2r3\n",
       "KQZ5WMhVNZl0QWihdx3L/Nh3hXwX1wELKR7mV7KzxTCWz/gq0mn36pn2j/GH7K64yKvzj+ZyZAS5\n",
       "8g3ocSWspZqjh6nS3pcCHEdL4m3I0kaLi50FaC2MRC+tXcIcVZBWeNV352t+4xH+v5a2enReELev\n",
       "54G96roaFLMNmDBvEckvcUnwV4oOyEnhqacw0BQDbrhOSv39id5eLykjxf0C2DCGWeGpXjY11bOQ\n",
       "FmgUGkkBKtzHCVgQgamgpe/Y6pSTsVm1VQYHzAAAA4htb292AAAAbG12aGQAAAAAAAAAAAAAAAAA\n",
       "AAPoAAATiAABAAABAAAAAAAAAAAAAAAAAQAAAAAAAAAAAAAAAAAAAAEAAAAAAAAAAAAAAAAAAEAA\n",
       "AAAAAAAAAAAAAAAAAAAAAAAAAAAAAAAAAAAAAAACAAACsnRyYWsAAABcdGtoZAAAAAMAAAAAAAAA\n",
       "AAAAAAEAAAAAAAATiAAAAAAAAAAAAAAAAAAAAAAAAQAAAAAAAAAAAAAAAAAAAAEAAAAAAAAAAAAA\n",
       "AAAAAEAAAAAEsAAAAfQAAAAAACRlZHRzAAAAHGVsc3QAAAAAAAAAAQAAE4gAAEAAAAEAAAAAAipt\n",
       "ZGlhAAAAIG1kaGQAAAAAAAAAAAAAAAAAAEAAAAFAAFXEAAAAAAAtaGRscgAAAAAAAAAAdmlkZQAA\n",
       "AAAAAAAAAAAAAFZpZGVvSGFuZGxlcgAAAAHVbWluZgAAABR2bWhkAAAAAQAAAAAAAAAAAAAAJGRp\n",
       "bmYAAAAcZHJlZgAAAAAAAAABAAAADHVybCAAAAABAAABlXN0YmwAAAC1c3RzZAAAAAAAAAABAAAA\n",
       "pWF2YzEAAAAAAAAAAQAAAAAAAAAAAAAAAAAAAAAEsAH0AEgAAABIAAAAAAAAAAEAAAAAAAAAAAAA\n",
       "AAAAAAAAAAAAAAAAAAAAAAAAAAAAAAAY//8AAAAzYXZjQwFkAB//4QAaZ2QAH6zZQEsEH54QAAAD\n",
       "ABAAAAMAQPGDGWABAAZo6+PLIsAAAAAcdXVpZGtoQPJfJE/FujmlG88DI/MAAAAAAAAAGHN0dHMA\n",
       "AAAAAAAAAQAAAAoAACAAAAAAFHN0c3MAAAAAAAAAAQAAAAEAAABAY3R0cwAAAAAAAAAGAAAAAQAA\n",
       "QAAAAAABAACgAAAAAAEAAEAAAAAAAQAAAAAAAAABAAAgAAAAAAUAAEAAAAAAHHN0c2MAAAAAAAAA\n",
       "AQAAAAEAAAAKAAAAAQAAADxzdHN6AAAAAAAAAAAAAAAKAABaIwAAD/0AAApNAAAEAQAABj8AAAh9\n",
       "AAAHCgAACL4AAAlAAAAEuwAAABRzdGNvAAAAAAAAAAEAAAAsAAAAYnVkdGEAAABabWV0YQAAAAAA\n",
       "AAAhaGRscgAAAAAAAAAAbWRpcmFwcGwAAAAAAAAAAAAAAAAtaWxzdAAAACWpdG9vAAAAHWRhdGEA\n",
       "AAABAAAAAExhdmY1OC4yOS4xMDA=\n",
       "\">\n",
       "  Your browser does not support the video tag.\n",
       "</video>"
      ],
      "text/plain": [
       "<IPython.core.display.HTML object>"
      ]
     },
     "execution_count": 48,
     "metadata": {},
     "output_type": "execute_result"
    }
   ],
   "source": [
    "%matplotlib inline\n",
    "import numpy as np\n",
    "import matplotlib.pyplot as plt\n",
    "np.random.seed(0)\n",
    "# create a figure and axes\n",
    "fig = plt.figure(figsize=(12,5))\n",
    "ax1 = plt.subplot(1,3,1)   \n",
    "ax2 = plt.subplot(1,3,2)\n",
    "ax3 = plt.subplot(1,3,3)\n",
    "\n",
    "# set up the subplots as needed\n",
    "ax1.set_xlim(( 0, 1))\n",
    "ax1.set_ylim((0,2))\n",
    "ax1.set_xlabel('$\\mu$')\n",
    "ax1.set_title('Prior')\n",
    "\n",
    "ax2.set_xlim((0,1))\n",
    "ax2.set_ylim((0,20))\n",
    "ax2.set_xlabel('$P(D|\\mu)$')\n",
    "ax2.set_title('Likelihood')\n",
    "\n",
    "ax3.set_xlim((0,1))\n",
    "ax3.set_ylim((0,20))\n",
    "ax3.set_xlabel('$P(\\mu|m,l,a,b)$')\n",
    "ax3.set_title('Posterior')\n",
    "\n",
    "# create objects that will change in the animation. These are\n",
    "# initially empty, and will be given new values for each frame\n",
    "# in the animation.\n",
    "curve1, = ax1.plot([], [], 'b', lw=2)     # ax.plot returns a list of 2D line objects\n",
    "curve2, = ax2.plot([], [], 'r', lw=2)\n",
    "curve3, = ax3.plot([], [], 'y', lw=2)\n",
    "\n",
    "N = 10\n",
    "bin = np.random.binomial(1,0.7,N)\n",
    "def draw(n):\n",
    "    xs = np.linspace(0,1)\n",
    "    a,b = 2,2\n",
    "    num_heads = np.sum(bin[:(n+1)])\n",
    "    num_tails = np.sum(bin[:(n+1)]==0)\n",
    "    #print(f\"N = {n}, heads = {num_heads}, tails = {num_tails}\")\n",
    "    curve1.set_data(xs,beta(xs,a,b))\n",
    "    #print(p(xs,bin[:n+1]))\n",
    "    curve2.set_data(xs,p(xs,bin[:n+1]))\n",
    "    curve3.set_data(xs,posterior(xs,a,b,num_heads,num_tails))\n",
    "    return (curve1,curve2,curve3)\n",
    "\n",
    "from matplotlib import animation\n",
    "\n",
    "# blit=True re-draws only the parts that have changed.\n",
    "anim = animation.FuncAnimation(fig, draw, frames=N, interval=500, blit=True)\n",
    "\n",
    "from IPython.display import HTML\n",
    "HTML(anim.to_html5_video())"
   ]
  },
  {
   "cell_type": "code",
   "execution_count": 88,
   "id": "9a90b038-e670-4850-9332-6eda7850acec",
   "metadata": {},
   "outputs": [
    {
     "name": "stdout",
     "output_type": "stream",
     "text": [
      "0.16666666666666666\n",
      "[0.16647 0.16582 0.16597 0.16553 0.1687  0.16751]\n"
     ]
    }
   ],
   "source": [
    "N = 100000\n",
    "cat = 6\n",
    "mult = np.zeros((N,cat))\n",
    "c = np.random.choice(cat,N,p=[1/6]*6)\n",
    "mult[np.arange(N),c] = 1\n",
    "#100 x 6 -> 100 x 6 -> 6\n",
    "print(1/6)\n",
    "#print(mult)\n",
    "mle_est = np.mean(mult,axis=0)\n",
    "print(mle_est)"
   ]
  },
  {
   "cell_type": "code",
   "execution_count": null,
   "id": "94205577-17d6-46a9-8fce-019335e50cfd",
   "metadata": {},
   "outputs": [],
   "source": []
  }
 ],
 "metadata": {
  "kernelspec": {
   "display_name": "Python 3 (ipykernel)",
   "language": "python",
   "name": "python3"
  },
  "language_info": {
   "codemirror_mode": {
    "name": "ipython",
    "version": 3
   },
   "file_extension": ".py",
   "mimetype": "text/x-python",
   "name": "python",
   "nbconvert_exporter": "python",
   "pygments_lexer": "ipython3",
   "version": "3.11.5"
  }
 },
 "nbformat": 4,
 "nbformat_minor": 5
}
