{
 "cells": [
  {
   "cell_type": "code",
   "execution_count": 1,
   "id": "e8611370-2829-476e-8b6d-b6ac44bcb86d",
   "metadata": {},
   "outputs": [],
   "source": [
    "import os\n",
    "import torch\n",
    "import numpy as np\n",
    "from torch import optim, nn, utils, Tensor\n",
    "from torchvision.transforms import ToTensor\n",
    "from torch.utils.data import Dataset,DataLoader\n",
    "import lightning as L"
   ]
  },
  {
   "cell_type": "code",
   "execution_count": 45,
   "id": "40b8b4dc-2889-4f4c-b082-194e5c847224",
   "metadata": {},
   "outputs": [],
   "source": [
    "np.random.seed(0)\n",
    "dim = 50\n",
    "actual_dim = 25\n",
    "latent_dim = 50\n",
    "encoder = nn.Sequential(nn.Linear(50,25),nn.GELU(),nn.Linear(25,latent_dim))\n",
    "decoder = nn.Sequential(nn.Linear(latent_dim, 50), nn.GELU(), nn.Linear(50, 50))\n",
    "\n",
    "class AutoEncoder(L.LightningModule):\n",
    "    def __init__(self, encoder, decoder):\n",
    "        super().__init__()\n",
    "        self.encoder = encoder\n",
    "        self.decoder = decoder\n",
    "\n",
    "    def training_step(self, batch, batch_idx):\n",
    "        # training_step defines the train loop.\n",
    "        # it is independent of forward\n",
    "        z = self.encoder(batch)\n",
    "        x_hat = self.decoder(z)\n",
    "        loss = nn.functional.mse_loss(x_hat, batch)\n",
    "        # Logging to TensorBoard (if installed) by default\n",
    "        self.log(\"train_loss\", loss)\n",
    "        return loss\n",
    "\n",
    "    def configure_optimizers(self):\n",
    "        optimizer = optim.Adam(self.parameters(), lr=1e-4)\n",
    "        return optimizer\n",
    "AE = AutoEncoder(encoder,decoder)"
   ]
  },
  {
   "cell_type": "code",
   "execution_count": 47,
   "id": "522b7935-35a0-43e1-b912-1a54578b7d6e",
   "metadata": {},
   "outputs": [],
   "source": [
    "class VectorDataset(Dataset):\n",
    "    def __init__(self, n, idxs, dim=dim, actual_dim=actual_dim):\n",
    "        self.x = torch.zeros(n,dim)+10\n",
    "        self.x[:,idxs] = 5#torch.randn(n,actual_dim)\n",
    "\n",
    "    def __len__(self):\n",
    "        return len(self.x)\n",
    "\n",
    "    def __getitem__(self, idx):\n",
    "        return self.x[idx]"
   ]
  },
  {
   "cell_type": "code",
   "execution_count": 49,
   "id": "9dcbc095-e33e-4653-9a75-09ad7849d7ee",
   "metadata": {},
   "outputs": [],
   "source": [
    "idxs = np.random.choice(dim,actual_dim)\n",
    "train_ds,test_ds = VectorDataset(10000,idxs), VectorDataset(100,idxs)\n",
    "train_dl = DataLoader(train_ds, batch_size=64, shuffle=True, num_workers=0)"
   ]
  },
  {
   "cell_type": "code",
   "execution_count": 51,
   "id": "18e11e8f-f896-49cc-a592-faee80e8c8e2",
   "metadata": {},
   "outputs": [
    {
     "name": "stderr",
     "output_type": "stream",
     "text": [
      "GPU available: False, used: False\n",
      "TPU available: False, using: 0 TPU cores\n",
      "IPU available: False, using: 0 IPUs\n",
      "HPU available: False, using: 0 HPUs\n",
      "\n",
      "  | Name    | Type       | Params\n",
      "---------------------------------------\n",
      "0 | encoder | Sequential | 2.6 K \n",
      "1 | decoder | Sequential | 5.1 K \n",
      "---------------------------------------\n",
      "7.7 K     Trainable params\n",
      "0         Non-trainable params\n",
      "7.7 K     Total params\n",
      "0.031     Total estimated model params size (MB)\n"
     ]
    },
    {
     "data": {
      "application/vnd.jupyter.widget-view+json": {
       "model_id": "f765a0b2043e47febee62bc54407d9b8",
       "version_major": 2,
       "version_minor": 0
      },
      "text/plain": [
       "Training: 0it [00:00, ?it/s]"
      ]
     },
     "metadata": {},
     "output_type": "display_data"
    },
    {
     "name": "stderr",
     "output_type": "stream",
     "text": [
      "`Trainer.fit` stopped: `max_epochs=50` reached.\n"
     ]
    }
   ],
   "source": [
    "trainer = L.Trainer(limit_train_batches=100, max_epochs=50)\n",
    "trainer.fit(model=AE, train_dataloaders=train_dl)"
   ]
  },
  {
   "cell_type": "code",
   "execution_count": 55,
   "id": "6580f967-026f-4636-8d6c-f0d273f7e6a9",
   "metadata": {},
   "outputs": [
    {
     "name": "stdout",
     "output_type": "stream",
     "text": [
      "tensor([ 5.,  5., 10.,  5., 10., 10.,  5., 10., 10.,  5., 10., 10.,  5.,  5.,\n",
      "        10., 10., 10.,  5., 10.,  5., 10.,  5., 10.,  5.,  5.,  5., 10., 10.,\n",
      "        10., 10., 10., 10., 10., 10., 10., 10.,  5.,  5.,  5.,  5., 10., 10.,\n",
      "        10., 10.,  5., 10.,  5.,  5., 10., 10.])\n",
      "tensor([ 5.0000,  5.0000, 10.0000,  5.0000, 10.0000, 10.0000,  5.0000, 10.0000,\n",
      "        10.0000,  5.0000, 10.0000, 10.0000,  5.0000,  5.0000, 10.0000, 10.0000,\n",
      "        10.0000,  5.0000, 10.0000,  5.0000, 10.0000,  5.0000, 10.0000,  5.0000,\n",
      "         5.0000,  5.0000, 10.0000, 10.0000, 10.0000, 10.0000, 10.0000, 10.0000,\n",
      "        10.0000, 10.0000, 10.0000, 10.0000,  5.0000,  5.0000,  5.0000,  5.0000,\n",
      "        10.0000, 10.0000, 10.0000, 10.0000,  5.0000, 10.0000,  5.0000,  5.0000,\n",
      "        10.0000, 10.0000])\n"
     ]
    }
   ],
   "source": [
    "AE.eval()\n",
    "with torch.no_grad():\n",
    "    xs = train_ds[:5]\n",
    "    print(xs[0])\n",
    "    print(AE.decoder(AE.encoder(xs))[0])\n"
   ]
  },
  {
   "cell_type": "code",
   "execution_count": null,
   "id": "07c2226e-a1c3-4d9b-95d1-32f6fb628de6",
   "metadata": {},
   "outputs": [],
   "source": []
  },
  {
   "cell_type": "code",
   "execution_count": null,
   "id": "d5e1fa77-2531-4370-9256-951b644550d1",
   "metadata": {},
   "outputs": [],
   "source": []
  }
 ],
 "metadata": {
  "kernelspec": {
   "display_name": "Python 3 (ipykernel)",
   "language": "python",
   "name": "python3"
  },
  "language_info": {
   "codemirror_mode": {
    "name": "ipython",
    "version": 3
   },
   "file_extension": ".py",
   "mimetype": "text/x-python",
   "name": "python",
   "nbconvert_exporter": "python",
   "pygments_lexer": "ipython3",
   "version": "3.11.7"
  }
 },
 "nbformat": 4,
 "nbformat_minor": 5
}
