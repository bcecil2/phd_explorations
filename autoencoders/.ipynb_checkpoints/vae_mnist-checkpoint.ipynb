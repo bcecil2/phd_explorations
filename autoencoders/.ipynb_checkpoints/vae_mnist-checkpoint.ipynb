{
 "cells": [
  {
   "cell_type": "code",
   "execution_count": 11,
   "id": "9dc9e7da-507f-496d-a32d-d7d3f14779a7",
   "metadata": {},
   "outputs": [],
   "source": [
    "import torch\n",
    "from torch.optim import Adam\n",
    "from torchvision.datasets import MNIST\n",
    "from torchvision.transforms import ToTensor\n",
    "from torch.utils.data import DataLoader\n",
    "import numpy as np\n",
    "import matplotlib.pyplot as plt\n",
    "import torch.nn as nn"
   ]
  },
  {
   "cell_type": "code",
   "execution_count": 85,
   "id": "0cce2283-91cb-492d-8ffb-c51ce66a6287",
   "metadata": {},
   "outputs": [
    {
     "ename": "ValueError",
     "evalue": "only one element tensors can be converted to Python scalars",
     "output_type": "error",
     "traceback": [
      "\u001b[1;31m---------------------------------------------------------------------------\u001b[0m",
      "\u001b[1;31mValueError\u001b[0m                                Traceback (most recent call last)",
      "Cell \u001b[1;32mIn[85], line 2\u001b[0m\n\u001b[0;32m      1\u001b[0m mnist \u001b[38;5;241m=\u001b[39m MNIST(\u001b[38;5;124m\"\u001b[39m\u001b[38;5;124m/.\u001b[39m\u001b[38;5;124m\"\u001b[39m,train\u001b[38;5;241m=\u001b[39m\u001b[38;5;28;01mTrue\u001b[39;00m,download\u001b[38;5;241m=\u001b[39m\u001b[38;5;28;01mTrue\u001b[39;00m,transform\u001b[38;5;241m=\u001b[39mToTensor())\n\u001b[1;32m----> 2\u001b[0m mnist \u001b[38;5;241m=\u001b[39m mnist[:\u001b[38;5;241m1000\u001b[39m]\n",
      "File \u001b[1;32m~\\anaconda3\\envs\\dl2023_cpu\\Lib\\site-packages\\torchvision\\datasets\\mnist.py:138\u001b[0m, in \u001b[0;36mMNIST.__getitem__\u001b[1;34m(self, index)\u001b[0m\n\u001b[0;32m    130\u001b[0m \u001b[38;5;28;01mdef\u001b[39;00m \u001b[38;5;21m__getitem__\u001b[39m(\u001b[38;5;28mself\u001b[39m, index: \u001b[38;5;28mint\u001b[39m) \u001b[38;5;241m-\u001b[39m\u001b[38;5;241m>\u001b[39m Tuple[Any, Any]:\n\u001b[0;32m    131\u001b[0m \u001b[38;5;250m    \u001b[39m\u001b[38;5;124;03m\"\"\"\u001b[39;00m\n\u001b[0;32m    132\u001b[0m \u001b[38;5;124;03m    Args:\u001b[39;00m\n\u001b[0;32m    133\u001b[0m \u001b[38;5;124;03m        index (int): Index\u001b[39;00m\n\u001b[1;32m   (...)\u001b[0m\n\u001b[0;32m    136\u001b[0m \u001b[38;5;124;03m        tuple: (image, target) where target is index of the target class.\u001b[39;00m\n\u001b[0;32m    137\u001b[0m \u001b[38;5;124;03m    \"\"\"\u001b[39;00m\n\u001b[1;32m--> 138\u001b[0m     img, target \u001b[38;5;241m=\u001b[39m \u001b[38;5;28mself\u001b[39m\u001b[38;5;241m.\u001b[39mdata[index], \u001b[38;5;28mint\u001b[39m(\u001b[38;5;28mself\u001b[39m\u001b[38;5;241m.\u001b[39mtargets[index])\n\u001b[0;32m    140\u001b[0m     \u001b[38;5;66;03m# doing this so that it is consistent with all other datasets\u001b[39;00m\n\u001b[0;32m    141\u001b[0m     \u001b[38;5;66;03m# to return a PIL Image\u001b[39;00m\n\u001b[0;32m    142\u001b[0m     img \u001b[38;5;241m=\u001b[39m Image\u001b[38;5;241m.\u001b[39mfromarray(img\u001b[38;5;241m.\u001b[39mnumpy(), mode\u001b[38;5;241m=\u001b[39m\u001b[38;5;124m\"\u001b[39m\u001b[38;5;124mL\u001b[39m\u001b[38;5;124m\"\u001b[39m)\n",
      "\u001b[1;31mValueError\u001b[0m: only one element tensors can be converted to Python scalars"
     ]
    }
   ],
   "source": [
    "mnist = MNIST(\"/.\",train=True,download=True,transform=ToTensor())"
   ]
  },
  {
   "cell_type": "code",
   "execution_count": 20,
   "id": "3907eae9-7902-4bd0-b78e-82a55e4be846",
   "metadata": {},
   "outputs": [
    {
     "data": {
      "text/plain": [
       "<matplotlib.image.AxesImage at 0x1db5ffffc10>"
      ]
     },
     "execution_count": 20,
     "metadata": {},
     "output_type": "execute_result"
    },
    {
     "data": {
      "image/png": "[encoded data removed]",
      "text/plain": [
       "<Figure size 640x480 with 1 Axes>"
      ]
     },
     "metadata": {},
     "output_type": "display_data"
    }
   ],
   "source": [
    "im,label = mnist[0][0].squeeze(),mnist[0][1]\n",
    "plt.axis('off')\n",
    "plt.imshow(im)"
   ]
  },
  {
   "cell_type": "code",
   "execution_count": 52,
   "id": "381b8ab2-cedc-440a-a25f-ee28ad088470",
   "metadata": {},
   "outputs": [],
   "source": [
    "class VAE(nn.Module):\n",
    "    def __init__(self, input_dim, latent_dim):\n",
    "        super().__init__()\n",
    "        self.z_dim = latent_dim\n",
    "        self.mu_network = nn.Sequential(nn.Linear(input_dim,latent_dim),nn.GELU())\n",
    "        self.std_network = nn.Sequential(nn.Linear(input_dim,latent_dim),nn.GELU())\n",
    "        self.decode = nn.Sequential(nn.Linear(latent_dim, input_dim//2),\n",
    "                                     nn.GELU(),\n",
    "                                     nn.Linear(input_dim//2,input_dim),\n",
    "                                     nn.Sigmoid()) # the image is in zero one so use sigmoid for final activation\n",
    "\n",
    "    def forward(self,x):\n",
    "        mu = self.mu_network(x)\n",
    "        std = self.std_network(x)\n",
    "        eps = torch.randn(self.z_dim)\n",
    "        z = mu + eps*std\n",
    "        z = self.decode(z)\n",
    "        return z,mu,std\n",
    "        \n",
    "        "
   ]
  },
  {
   "cell_type": "code",
   "execution_count": 56,
   "id": "8d76b61b-7a08-4d8b-8db1-e917e411021f",
   "metadata": {},
   "outputs": [],
   "source": [
    "var_auto_encoder = VAE(28*28,100)\n",
    "x = torch.randn(64,28*28)\n",
    "out,mu,std = var_auto_encoder(x)\n",
    "assert out.shape[1] == 28*28\n",
    "assert mu.shape[1] == 100\n",
    "assert std.shape[1] == 100"
   ]
  },
  {
   "cell_type": "code",
   "execution_count": 80,
   "id": "a2c56242-425f-455c-aa48-4239210b4bb4",
   "metadata": {},
   "outputs": [
    {
     "ename": "TypeError",
     "evalue": "'DataLoader' object is not subscriptable",
     "output_type": "error",
     "traceback": [
      "\u001b[1;31m---------------------------------------------------------------------------\u001b[0m",
      "\u001b[1;31mTypeError\u001b[0m                                 Traceback (most recent call last)",
      "Cell \u001b[1;32mIn[80], line 9\u001b[0m\n\u001b[0;32m      7\u001b[0m optim \u001b[38;5;241m=\u001b[39m Adam(model\u001b[38;5;241m.\u001b[39mparameters(),lr\u001b[38;5;241m=\u001b[39mlr)\n\u001b[0;32m      8\u001b[0m mnist_dset \u001b[38;5;241m=\u001b[39m DataLoader(mnist,batch_size\u001b[38;5;241m=\u001b[39mbatch_size,shuffle\u001b[38;5;241m=\u001b[39m\u001b[38;5;28;01mTrue\u001b[39;00m,drop_last\u001b[38;5;241m=\u001b[39m\u001b[38;5;28;01mTrue\u001b[39;00m)\n\u001b[1;32m----> 9\u001b[0m mnist_dset \u001b[38;5;241m=\u001b[39m mnist_dset[:\u001b[38;5;241m100\u001b[39m]\n",
      "\u001b[1;31mTypeError\u001b[0m: 'DataLoader' object is not subscriptable"
     ]
    }
   ],
   "source": [
    "lr = 1e-4\n",
    "epochs = 10\n",
    "latent_dim = 100\n",
    "input_shape = 28*28\n",
    "batch_size = 64\n",
    "model = var_auto_encoder = VAE(input_shape,latent_dim)\n",
    "optim = Adam(model.parameters(),lr=lr)\n",
    "mnist_dset = DataLoader(mnist,batch_size=batch_size,shuffle=True,drop_last=True)"
   ]
  },
  {
   "cell_type": "code",
   "execution_count": 69,
   "id": "5659aca7-4446-48f5-a894-0e869cd518f6",
   "metadata": {},
   "outputs": [],
   "source": [
    "def loss_fn(x,reconstructed,mu,sigma):\n",
    "    mse = nn.MSELoss()\n",
    "    sigma_sqr = torch.square(sigma) \n",
    "    kl = 0.5*torch.sum(1. + torch.log(sigma_sqr) - torch.square(sigma) - sigma_sqr)\n",
    "    return mse(x,reconstructed) - kl"
   ]
  },
  {
   "cell_type": "code",
   "execution_count": 65,
   "id": "239492fa-540d-43c5-bb44-c997ea594a0e",
   "metadata": {},
   "outputs": [
    {
     "data": {
      "text/plain": [
       "tensor(10252.3008, grad_fn=<SubBackward0>)"
      ]
     },
     "execution_count": 65,
     "metadata": {},
     "output_type": "execute_result"
    }
   ],
   "source": [
    "x = torch.randn(64,28*28)\n",
    "y = torch.randn(64,28*28)\n",
    "out,mu,sigma = model(x)\n",
    "loss(x,y,mu,sigma)\n"
   ]
  },
  {
   "cell_type": "code",
   "execution_count": 83,
   "id": "f7f53d5a-a1bd-4868-95b0-cc77ea3c69e4",
   "metadata": {},
   "outputs": [
    {
     "name": "stderr",
     "output_type": "stream",
     "text": [
      "  0%|          | 0/10 [00:00<?, ?it/s]\n",
      "  0%|          | 0/937 [00:00<?, ?it/s]\u001b[A\n",
      "  0%|          | 4/937 [00:00<00:26, 35.40it/s]\u001b[A\n",
      "  1%|          | 8/937 [00:00<00:27, 33.81it/s]\u001b[A\n",
      "  1%|▏         | 12/937 [00:00<00:25, 36.38it/s]\u001b[A\n",
      "  2%|▏         | 16/937 [00:00<00:26, 34.87it/s]\u001b[A\n",
      "  2%|▏         | 20/937 [00:00<00:25, 36.32it/s]\u001b[A\n",
      "  3%|▎         | 24/937 [00:00<00:26, 34.32it/s]\u001b[A\n",
      "  3%|▎         | 29/937 [00:00<00:25, 36.17it/s]\u001b[A\n",
      "  4%|▎         | 33/937 [00:00<00:24, 36.53it/s]\u001b[A\n",
      "  4%|▍         | 37/937 [00:01<00:26, 33.36it/s]\u001b[A\n",
      "  4%|▍         | 42/937 [00:01<00:24, 36.13it/s]\u001b[A\n",
      "  5%|▍         | 46/937 [00:01<00:26, 34.17it/s]\u001b[A\n",
      "  5%|▌         | 50/937 [00:01<00:25, 34.17it/s]\u001b[A\n",
      "  6%|▌         | 54/937 [00:01<00:25, 35.05it/s]\u001b[A\n",
      "  6%|▌         | 58/937 [00:01<00:25, 34.44it/s]\u001b[A\n",
      "  7%|▋         | 62/937 [00:01<00:24, 35.08it/s]\u001b[A\n",
      "  7%|▋         | 66/937 [00:01<00:24, 35.27it/s]\u001b[A\n",
      "  7%|▋         | 70/937 [00:02<00:25, 33.54it/s]\u001b[A\n",
      "  8%|▊         | 75/937 [00:02<00:24, 35.62it/s]\u001b[A\n",
      "  8%|▊         | 79/937 [00:02<00:24, 35.56it/s]\u001b[A\n",
      "  9%|▉         | 84/937 [00:02<00:24, 35.44it/s]\u001b[A\n",
      "  9%|▉         | 89/937 [00:02<00:22, 38.17it/s]\u001b[A\n",
      " 10%|▉         | 93/937 [00:02<00:23, 36.01it/s]\u001b[A\n",
      " 10%|█         | 98/937 [00:02<00:22, 36.86it/s]\u001b[A\n",
      " 11%|█         | 102/937 [00:02<00:23, 36.19it/s]\u001b[A\n",
      " 11%|█▏        | 106/937 [00:02<00:22, 37.18it/s]\u001b[A\n",
      " 12%|█▏        | 111/937 [00:03<00:21, 38.86it/s]\u001b[A\n",
      " 12%|█▏        | 115/937 [00:03<00:22, 36.69it/s]\u001b[A\n",
      " 13%|█▎        | 119/937 [00:03<00:21, 37.57it/s]\u001b[A\n",
      " 13%|█▎        | 123/937 [00:03<00:22, 36.06it/s]\u001b[A\n",
      " 14%|█▎        | 127/937 [00:03<00:22, 36.43it/s]\u001b[A\n",
      " 14%|█▍        | 132/937 [00:03<00:20, 38.78it/s]\u001b[A\n",
      " 15%|█▍        | 136/937 [00:03<00:20, 38.90it/s]\u001b[A\n",
      " 15%|█▍        | 140/937 [00:03<00:22, 35.88it/s]\u001b[A\n",
      " 15%|█▌        | 144/937 [00:04<00:22, 35.65it/s]\u001b[A\n",
      " 16%|█▌        | 149/937 [00:04<00:20, 37.89it/s]\u001b[A\n",
      " 16%|█▋        | 153/937 [00:04<00:20, 37.64it/s]\u001b[A\n",
      " 17%|█▋        | 157/937 [00:04<00:20, 38.08it/s]\u001b[A\n",
      " 17%|█▋        | 161/937 [00:04<00:21, 36.19it/s]\u001b[A\n",
      " 18%|█▊        | 165/937 [00:04<00:21, 36.24it/s]\u001b[A\n",
      " 18%|█▊        | 170/937 [00:04<00:19, 38.95it/s]\u001b[A\n",
      " 19%|█▊        | 174/937 [00:04<00:19, 38.18it/s]\u001b[A\n",
      " 19%|█▉        | 179/937 [00:04<00:19, 38.18it/s]\u001b[A\n",
      " 20%|█▉        | 183/937 [00:05<00:20, 36.24it/s]\u001b[A\n",
      " 20%|█▉        | 187/937 [00:05<00:20, 36.94it/s]\u001b[A\n",
      " 20%|██        | 192/937 [00:05<00:20, 36.61it/s]\u001b[A\n",
      " 21%|██        | 197/937 [00:05<00:19, 38.02it/s]\u001b[A\n",
      " 21%|██▏       | 201/937 [00:05<00:20, 35.31it/s]\u001b[A\n",
      " 22%|██▏       | 205/937 [00:05<00:20, 36.32it/s]\u001b[A\n",
      " 22%|██▏       | 209/937 [00:05<00:20, 35.69it/s]\u001b[A\n",
      " 23%|██▎       | 213/937 [00:05<00:20, 35.97it/s]\u001b[A\n",
      " 23%|██▎       | 217/937 [00:05<00:19, 36.76it/s]\u001b[A\n",
      " 24%|██▎       | 222/937 [00:06<00:18, 39.13it/s]\u001b[A\n",
      " 24%|██▍       | 226/937 [00:06<00:18, 38.31it/s]\u001b[A\n",
      " 25%|██▍       | 231/937 [00:06<00:17, 40.00it/s]\u001b[A\n",
      " 25%|██▌       | 236/937 [00:06<00:18, 38.22it/s]\u001b[A\n",
      " 26%|██▌       | 240/937 [00:06<00:18, 37.42it/s]\u001b[A\n",
      " 26%|██▌       | 244/937 [00:06<00:18, 37.90it/s]\u001b[A\n",
      " 26%|██▋       | 248/937 [00:06<00:19, 35.83it/s]\u001b[A\n",
      " 27%|██▋       | 253/937 [00:06<00:17, 38.58it/s]\u001b[A\n",
      " 28%|██▊       | 258/937 [00:07<00:17, 37.97it/s]\u001b[A\n",
      " 28%|██▊       | 262/937 [00:07<00:18, 36.87it/s]\u001b[A\n",
      " 28%|██▊       | 266/937 [00:07<00:18, 36.72it/s]\u001b[A\n",
      " 29%|██▉       | 271/937 [00:07<00:17, 37.66it/s]\u001b[A\n",
      " 29%|██▉       | 275/937 [00:07<00:18, 35.56it/s]\u001b[A\n",
      " 30%|██▉       | 280/937 [00:07<00:17, 37.83it/s]\u001b[A\n",
      " 30%|███       | 285/937 [00:07<00:17, 37.66it/s]\u001b[A\n",
      " 31%|███       | 289/937 [00:07<00:17, 36.75it/s]\u001b[A\n",
      " 31%|███▏      | 293/937 [00:07<00:17, 36.83it/s]\u001b[A\n",
      " 32%|███▏      | 298/937 [00:08<00:16, 38.99it/s]\u001b[A\n",
      " 32%|███▏      | 302/937 [00:08<00:16, 38.74it/s]\u001b[A\n",
      " 33%|███▎      | 307/937 [00:08<00:16, 39.35it/s]\u001b[A\n",
      " 33%|███▎      | 311/937 [00:08<00:16, 38.59it/s]\u001b[A\n",
      " 34%|███▎      | 315/937 [00:08<00:16, 37.64it/s]\u001b[A\n",
      " 34%|███▍      | 319/937 [00:08<00:16, 37.26it/s]\u001b[A\n",
      " 35%|███▍      | 324/937 [00:08<00:16, 38.05it/s]\u001b[A\n",
      " 35%|███▌      | 328/937 [00:08<00:16, 36.05it/s]\u001b[A\n",
      " 36%|███▌      | 333/937 [00:09<00:16, 35.85it/s]\u001b[A\n",
      " 36%|███▌      | 337/937 [00:09<00:16, 35.55it/s]\u001b[A\n",
      " 36%|███▋      | 342/937 [00:09<00:16, 36.20it/s]\u001b[A\n",
      " 37%|███▋      | 346/937 [00:09<00:16, 36.88it/s]\u001b[A\n",
      " 37%|███▋      | 351/937 [00:09<00:15, 38.23it/s]\u001b[A\n",
      " 38%|███▊      | 356/937 [00:09<00:15, 38.12it/s]\u001b[A\n",
      " 38%|███▊      | 360/937 [00:09<00:16, 36.00it/s]\u001b[A\n",
      " 39%|███▉      | 364/937 [00:09<00:16, 35.66it/s]\u001b[A\n",
      " 39%|███▉      | 368/937 [00:10<00:16, 35.23it/s]\u001b[A\n",
      " 40%|███▉      | 372/937 [00:10<00:16, 34.23it/s]\u001b[A\n",
      " 40%|████      | 376/937 [00:10<00:15, 35.74it/s]\u001b[A\n",
      " 41%|████      | 380/937 [00:10<00:16, 34.20it/s]\u001b[A\n",
      " 41%|████      | 385/937 [00:10<00:15, 36.09it/s]\u001b[A\n",
      " 42%|████▏     | 389/937 [00:10<00:15, 35.62it/s]\u001b[A\n",
      " 42%|████▏     | 394/937 [00:10<00:14, 36.89it/s]\u001b[A\n",
      " 42%|████▏     | 398/937 [00:10<00:14, 36.19it/s]\u001b[A\n",
      " 43%|████▎     | 402/937 [00:11<00:16, 32.78it/s]\u001b[A\n",
      " 43%|████▎     | 406/937 [00:11<00:15, 34.07it/s]\u001b[A\n",
      " 44%|████▍     | 411/937 [00:11<00:14, 35.45it/s]\u001b[A\n",
      " 44%|████▍     | 416/937 [00:11<00:13, 37.72it/s]\u001b[A\n",
      " 45%|████▍     | 420/937 [00:11<00:13, 37.82it/s]\u001b[A\n",
      " 45%|████▌     | 424/937 [00:11<00:13, 38.10it/s]\u001b[A\n",
      " 46%|████▌     | 428/937 [00:11<00:14, 35.77it/s]\u001b[A\n",
      " 46%|████▌     | 432/937 [00:11<00:14, 35.57it/s]\u001b[A\n",
      " 47%|████▋     | 436/937 [00:11<00:13, 36.27it/s]\u001b[A\n",
      " 47%|████▋     | 440/937 [00:12<00:13, 35.82it/s]\u001b[A\n",
      " 47%|████▋     | 444/937 [00:12<00:14, 34.42it/s]\u001b[A\n",
      " 48%|████▊     | 448/937 [00:12<00:13, 35.34it/s]\u001b[A\n",
      " 48%|████▊     | 452/937 [00:12<00:14, 34.01it/s]\u001b[A\n",
      " 49%|████▊     | 456/937 [00:12<00:13, 34.59it/s]\u001b[A\n",
      " 49%|████▉     | 460/937 [00:12<00:14, 34.03it/s]\u001b[A\n",
      " 50%|████▉     | 464/937 [00:12<00:13, 35.34it/s]\u001b[A\n",
      " 50%|████▉     | 468/937 [00:12<00:13, 35.26it/s]\u001b[A\n",
      " 50%|█████     | 473/937 [00:12<00:12, 36.88it/s]\u001b[A\n",
      " 51%|█████     | 477/937 [00:13<00:12, 36.16it/s]\u001b[A\n",
      " 51%|█████▏    | 481/937 [00:13<00:12, 36.70it/s]\u001b[A\n",
      " 52%|█████▏    | 485/937 [00:13<00:12, 37.61it/s]\u001b[A\n",
      " 52%|█████▏    | 489/937 [00:13<00:12, 37.23it/s]\u001b[A\n",
      " 53%|█████▎    | 493/937 [00:13<00:11, 37.17it/s]\u001b[A\n",
      " 53%|█████▎    | 497/937 [00:13<00:12, 34.74it/s]\u001b[A\n",
      " 53%|█████▎    | 501/937 [00:13<00:13, 33.37it/s]\u001b[A\n",
      " 54%|█████▍    | 506/937 [00:13<00:12, 35.76it/s]\u001b[A\n",
      " 54%|█████▍    | 510/937 [00:14<00:12, 34.95it/s]\u001b[A\n",
      " 55%|█████▍    | 515/937 [00:14<00:11, 35.54it/s]\u001b[A\n",
      " 55%|█████▌    | 520/937 [00:14<00:11, 36.70it/s]\u001b[A\n",
      " 56%|█████▌    | 524/937 [00:14<00:11, 36.25it/s]\u001b[A\n",
      " 56%|█████▋    | 528/937 [00:14<00:11, 34.78it/s]\u001b[A\n",
      " 57%|█████▋    | 532/937 [00:14<00:11, 35.58it/s]\u001b[A\n",
      " 57%|█████▋    | 537/937 [00:14<00:10, 36.77it/s]\u001b[A\n",
      " 58%|█████▊    | 541/937 [00:14<00:11, 33.97it/s]\u001b[A\n",
      " 58%|█████▊    | 545/937 [00:15<00:11, 34.71it/s]\u001b[A\n",
      " 59%|█████▊    | 549/937 [00:15<00:11, 32.60it/s]\u001b[A\n",
      " 59%|█████▉    | 553/937 [00:15<00:11, 33.78it/s]\u001b[A\n",
      " 59%|█████▉    | 557/937 [00:15<00:10, 34.86it/s]\u001b[A\n",
      " 60%|█████▉    | 561/937 [00:15<00:10, 35.11it/s]\u001b[A\n",
      " 60%|██████    | 566/937 [00:15<00:09, 37.71it/s]\u001b[A\n",
      " 61%|██████    | 570/937 [00:15<00:10, 35.71it/s]\u001b[A\n",
      " 61%|██████▏   | 574/937 [00:15<00:10, 35.90it/s]\u001b[A\n",
      " 62%|██████▏   | 578/937 [00:15<00:09, 36.03it/s]\u001b[A\n",
      " 62%|██████▏   | 582/937 [00:16<00:09, 36.03it/s]\u001b[A\n",
      " 63%|██████▎   | 586/937 [00:16<00:09, 36.92it/s]\u001b[A\n",
      " 63%|██████▎   | 590/937 [00:16<00:09, 36.36it/s]\u001b[A\n",
      " 63%|██████▎   | 594/937 [00:16<00:09, 34.76it/s]\u001b[A\n",
      " 64%|██████▍   | 599/937 [00:16<00:09, 35.26it/s]\u001b[A\n",
      " 64%|██████▍   | 603/937 [00:16<00:09, 34.10it/s]\u001b[A\n",
      " 65%|██████▍   | 607/937 [00:16<00:09, 34.72it/s]\u001b[A\n",
      " 65%|██████▌   | 612/937 [00:16<00:09, 35.56it/s]\u001b[A\n",
      " 66%|██████▌   | 616/937 [00:16<00:08, 36.24it/s]\u001b[A\n",
      " 66%|██████▌   | 620/937 [00:17<00:08, 35.45it/s]\u001b[A\n",
      " 67%|██████▋   | 624/937 [00:17<00:08, 36.18it/s]\u001b[A\n",
      " 67%|██████▋   | 629/937 [00:17<00:07, 38.58it/s]\u001b[A\n",
      " 68%|██████▊   | 637/937 [00:17<00:08, 36.29it/s]\u001b[A\n",
      "  0%|          | 0/10 [00:17<?, ?it/s]\n"
     ]
    },
    {
     "ename": "KeyboardInterrupt",
     "evalue": "",
     "output_type": "error",
     "traceback": [
      "\u001b[1;31m---------------------------------------------------------------------------\u001b[0m",
      "\u001b[1;31mKeyboardInterrupt\u001b[0m                         Traceback (most recent call last)",
      "Cell \u001b[1;32mIn[83], line 5\u001b[0m\n\u001b[0;32m      3\u001b[0m total_loss \u001b[38;5;241m=\u001b[39m \u001b[38;5;241m0.0\u001b[39m\n\u001b[0;32m      4\u001b[0m \u001b[38;5;28;01mfor\u001b[39;00m i \u001b[38;5;129;01min\u001b[39;00m tqdm(\u001b[38;5;28mrange\u001b[39m(epochs)):\n\u001b[1;32m----> 5\u001b[0m     \u001b[38;5;28;01mfor\u001b[39;00m xs,ys \u001b[38;5;129;01min\u001b[39;00m tqdm(mnist_dset):\n\u001b[0;32m      6\u001b[0m         xs \u001b[38;5;241m=\u001b[39m xs\u001b[38;5;241m.\u001b[39mreshape(batch_size,\u001b[38;5;241m-\u001b[39m\u001b[38;5;241m1\u001b[39m)\n\u001b[0;32m      7\u001b[0m         out,mu,sigma \u001b[38;5;241m=\u001b[39m model(xs)\n",
      "File \u001b[1;32m~\\anaconda3\\envs\\dl2023_cpu\\Lib\\site-packages\\tqdm\\std.py:1181\u001b[0m, in \u001b[0;36mtqdm.__iter__\u001b[1;34m(self)\u001b[0m\n\u001b[0;32m   1178\u001b[0m time \u001b[38;5;241m=\u001b[39m \u001b[38;5;28mself\u001b[39m\u001b[38;5;241m.\u001b[39m_time\n\u001b[0;32m   1180\u001b[0m \u001b[38;5;28;01mtry\u001b[39;00m:\n\u001b[1;32m-> 1181\u001b[0m     \u001b[38;5;28;01mfor\u001b[39;00m obj \u001b[38;5;129;01min\u001b[39;00m iterable:\n\u001b[0;32m   1182\u001b[0m         \u001b[38;5;28;01myield\u001b[39;00m obj\n\u001b[0;32m   1183\u001b[0m         \u001b[38;5;66;03m# Update and possibly print the progressbar.\u001b[39;00m\n\u001b[0;32m   1184\u001b[0m         \u001b[38;5;66;03m# Note: does not call self.update(1) for speed optimisation.\u001b[39;00m\n",
      "File \u001b[1;32m~\\anaconda3\\envs\\dl2023_cpu\\Lib\\site-packages\\torch\\utils\\data\\dataloader.py:630\u001b[0m, in \u001b[0;36m_BaseDataLoaderIter.__next__\u001b[1;34m(self)\u001b[0m\n\u001b[0;32m    627\u001b[0m \u001b[38;5;28;01mif\u001b[39;00m \u001b[38;5;28mself\u001b[39m\u001b[38;5;241m.\u001b[39m_sampler_iter \u001b[38;5;129;01mis\u001b[39;00m \u001b[38;5;28;01mNone\u001b[39;00m:\n\u001b[0;32m    628\u001b[0m     \u001b[38;5;66;03m# TODO(https://github.com/pytorch/pytorch/issues/76750)\u001b[39;00m\n\u001b[0;32m    629\u001b[0m     \u001b[38;5;28mself\u001b[39m\u001b[38;5;241m.\u001b[39m_reset()  \u001b[38;5;66;03m# type: ignore[call-arg]\u001b[39;00m\n\u001b[1;32m--> 630\u001b[0m data \u001b[38;5;241m=\u001b[39m \u001b[38;5;28mself\u001b[39m\u001b[38;5;241m.\u001b[39m_next_data()\n\u001b[0;32m    631\u001b[0m \u001b[38;5;28mself\u001b[39m\u001b[38;5;241m.\u001b[39m_num_yielded \u001b[38;5;241m+\u001b[39m\u001b[38;5;241m=\u001b[39m \u001b[38;5;241m1\u001b[39m\n\u001b[0;32m    632\u001b[0m \u001b[38;5;28;01mif\u001b[39;00m \u001b[38;5;28mself\u001b[39m\u001b[38;5;241m.\u001b[39m_dataset_kind \u001b[38;5;241m==\u001b[39m _DatasetKind\u001b[38;5;241m.\u001b[39mIterable \u001b[38;5;129;01mand\u001b[39;00m \\\n\u001b[0;32m    633\u001b[0m         \u001b[38;5;28mself\u001b[39m\u001b[38;5;241m.\u001b[39m_IterableDataset_len_called \u001b[38;5;129;01mis\u001b[39;00m \u001b[38;5;129;01mnot\u001b[39;00m \u001b[38;5;28;01mNone\u001b[39;00m \u001b[38;5;129;01mand\u001b[39;00m \\\n\u001b[0;32m    634\u001b[0m         \u001b[38;5;28mself\u001b[39m\u001b[38;5;241m.\u001b[39m_num_yielded \u001b[38;5;241m>\u001b[39m \u001b[38;5;28mself\u001b[39m\u001b[38;5;241m.\u001b[39m_IterableDataset_len_called:\n",
      "File \u001b[1;32m~\\anaconda3\\envs\\dl2023_cpu\\Lib\\site-packages\\torch\\utils\\data\\dataloader.py:674\u001b[0m, in \u001b[0;36m_SingleProcessDataLoaderIter._next_data\u001b[1;34m(self)\u001b[0m\n\u001b[0;32m    672\u001b[0m \u001b[38;5;28;01mdef\u001b[39;00m \u001b[38;5;21m_next_data\u001b[39m(\u001b[38;5;28mself\u001b[39m):\n\u001b[0;32m    673\u001b[0m     index \u001b[38;5;241m=\u001b[39m \u001b[38;5;28mself\u001b[39m\u001b[38;5;241m.\u001b[39m_next_index()  \u001b[38;5;66;03m# may raise StopIteration\u001b[39;00m\n\u001b[1;32m--> 674\u001b[0m     data \u001b[38;5;241m=\u001b[39m \u001b[38;5;28mself\u001b[39m\u001b[38;5;241m.\u001b[39m_dataset_fetcher\u001b[38;5;241m.\u001b[39mfetch(index)  \u001b[38;5;66;03m# may raise StopIteration\u001b[39;00m\n\u001b[0;32m    675\u001b[0m     \u001b[38;5;28;01mif\u001b[39;00m \u001b[38;5;28mself\u001b[39m\u001b[38;5;241m.\u001b[39m_pin_memory:\n\u001b[0;32m    676\u001b[0m         data \u001b[38;5;241m=\u001b[39m _utils\u001b[38;5;241m.\u001b[39mpin_memory\u001b[38;5;241m.\u001b[39mpin_memory(data, \u001b[38;5;28mself\u001b[39m\u001b[38;5;241m.\u001b[39m_pin_memory_device)\n",
      "File \u001b[1;32m~\\anaconda3\\envs\\dl2023_cpu\\Lib\\site-packages\\torch\\utils\\data\\_utils\\fetch.py:51\u001b[0m, in \u001b[0;36m_MapDatasetFetcher.fetch\u001b[1;34m(self, possibly_batched_index)\u001b[0m\n\u001b[0;32m     49\u001b[0m         data \u001b[38;5;241m=\u001b[39m \u001b[38;5;28mself\u001b[39m\u001b[38;5;241m.\u001b[39mdataset\u001b[38;5;241m.\u001b[39m__getitems__(possibly_batched_index)\n\u001b[0;32m     50\u001b[0m     \u001b[38;5;28;01melse\u001b[39;00m:\n\u001b[1;32m---> 51\u001b[0m         data \u001b[38;5;241m=\u001b[39m [\u001b[38;5;28mself\u001b[39m\u001b[38;5;241m.\u001b[39mdataset[idx] \u001b[38;5;28;01mfor\u001b[39;00m idx \u001b[38;5;129;01min\u001b[39;00m possibly_batched_index]\n\u001b[0;32m     52\u001b[0m \u001b[38;5;28;01melse\u001b[39;00m:\n\u001b[0;32m     53\u001b[0m     data \u001b[38;5;241m=\u001b[39m \u001b[38;5;28mself\u001b[39m\u001b[38;5;241m.\u001b[39mdataset[possibly_batched_index]\n",
      "File \u001b[1;32m~\\anaconda3\\envs\\dl2023_cpu\\Lib\\site-packages\\torch\\utils\\data\\_utils\\fetch.py:51\u001b[0m, in \u001b[0;36m<listcomp>\u001b[1;34m(.0)\u001b[0m\n\u001b[0;32m     49\u001b[0m         data \u001b[38;5;241m=\u001b[39m \u001b[38;5;28mself\u001b[39m\u001b[38;5;241m.\u001b[39mdataset\u001b[38;5;241m.\u001b[39m__getitems__(possibly_batched_index)\n\u001b[0;32m     50\u001b[0m     \u001b[38;5;28;01melse\u001b[39;00m:\n\u001b[1;32m---> 51\u001b[0m         data \u001b[38;5;241m=\u001b[39m [\u001b[38;5;28mself\u001b[39m\u001b[38;5;241m.\u001b[39mdataset[idx] \u001b[38;5;28;01mfor\u001b[39;00m idx \u001b[38;5;129;01min\u001b[39;00m possibly_batched_index]\n\u001b[0;32m     52\u001b[0m \u001b[38;5;28;01melse\u001b[39;00m:\n\u001b[0;32m     53\u001b[0m     data \u001b[38;5;241m=\u001b[39m \u001b[38;5;28mself\u001b[39m\u001b[38;5;241m.\u001b[39mdataset[possibly_batched_index]\n",
      "File \u001b[1;32m~\\anaconda3\\envs\\dl2023_cpu\\Lib\\site-packages\\torchvision\\datasets\\mnist.py:145\u001b[0m, in \u001b[0;36mMNIST.__getitem__\u001b[1;34m(self, index)\u001b[0m\n\u001b[0;32m    142\u001b[0m img \u001b[38;5;241m=\u001b[39m Image\u001b[38;5;241m.\u001b[39mfromarray(img\u001b[38;5;241m.\u001b[39mnumpy(), mode\u001b[38;5;241m=\u001b[39m\u001b[38;5;124m\"\u001b[39m\u001b[38;5;124mL\u001b[39m\u001b[38;5;124m\"\u001b[39m)\n\u001b[0;32m    144\u001b[0m \u001b[38;5;28;01mif\u001b[39;00m \u001b[38;5;28mself\u001b[39m\u001b[38;5;241m.\u001b[39mtransform \u001b[38;5;129;01mis\u001b[39;00m \u001b[38;5;129;01mnot\u001b[39;00m \u001b[38;5;28;01mNone\u001b[39;00m:\n\u001b[1;32m--> 145\u001b[0m     img \u001b[38;5;241m=\u001b[39m \u001b[38;5;28mself\u001b[39m\u001b[38;5;241m.\u001b[39mtransform(img)\n\u001b[0;32m    147\u001b[0m \u001b[38;5;28;01mif\u001b[39;00m \u001b[38;5;28mself\u001b[39m\u001b[38;5;241m.\u001b[39mtarget_transform \u001b[38;5;129;01mis\u001b[39;00m \u001b[38;5;129;01mnot\u001b[39;00m \u001b[38;5;28;01mNone\u001b[39;00m:\n\u001b[0;32m    148\u001b[0m     target \u001b[38;5;241m=\u001b[39m \u001b[38;5;28mself\u001b[39m\u001b[38;5;241m.\u001b[39mtarget_transform(target)\n",
      "File \u001b[1;32m~\\anaconda3\\envs\\dl2023_cpu\\Lib\\site-packages\\torchvision\\transforms\\transforms.py:137\u001b[0m, in \u001b[0;36mToTensor.__call__\u001b[1;34m(self, pic)\u001b[0m\n\u001b[0;32m    129\u001b[0m \u001b[38;5;28;01mdef\u001b[39;00m \u001b[38;5;21m__call__\u001b[39m(\u001b[38;5;28mself\u001b[39m, pic):\n\u001b[0;32m    130\u001b[0m \u001b[38;5;250m    \u001b[39m\u001b[38;5;124;03m\"\"\"\u001b[39;00m\n\u001b[0;32m    131\u001b[0m \u001b[38;5;124;03m    Args:\u001b[39;00m\n\u001b[0;32m    132\u001b[0m \u001b[38;5;124;03m        pic (PIL Image or numpy.ndarray): Image to be converted to tensor.\u001b[39;00m\n\u001b[1;32m   (...)\u001b[0m\n\u001b[0;32m    135\u001b[0m \u001b[38;5;124;03m        Tensor: Converted image.\u001b[39;00m\n\u001b[0;32m    136\u001b[0m \u001b[38;5;124;03m    \"\"\"\u001b[39;00m\n\u001b[1;32m--> 137\u001b[0m     \u001b[38;5;28;01mreturn\u001b[39;00m F\u001b[38;5;241m.\u001b[39mto_tensor(pic)\n",
      "File \u001b[1;32m~\\anaconda3\\envs\\dl2023_cpu\\Lib\\site-packages\\torchvision\\transforms\\functional.py:170\u001b[0m, in \u001b[0;36mto_tensor\u001b[1;34m(pic)\u001b[0m\n\u001b[0;32m    168\u001b[0m \u001b[38;5;28;01mif\u001b[39;00m pic\u001b[38;5;241m.\u001b[39mmode \u001b[38;5;241m==\u001b[39m \u001b[38;5;124m\"\u001b[39m\u001b[38;5;124m1\u001b[39m\u001b[38;5;124m\"\u001b[39m:\n\u001b[0;32m    169\u001b[0m     img \u001b[38;5;241m=\u001b[39m \u001b[38;5;241m255\u001b[39m \u001b[38;5;241m*\u001b[39m img\n\u001b[1;32m--> 170\u001b[0m img \u001b[38;5;241m=\u001b[39m img\u001b[38;5;241m.\u001b[39mview(pic\u001b[38;5;241m.\u001b[39msize[\u001b[38;5;241m1\u001b[39m], pic\u001b[38;5;241m.\u001b[39msize[\u001b[38;5;241m0\u001b[39m], F_pil\u001b[38;5;241m.\u001b[39mget_image_num_channels(pic))\n\u001b[0;32m    171\u001b[0m \u001b[38;5;66;03m# put it from HWC to CHW format\u001b[39;00m\n\u001b[0;32m    172\u001b[0m img \u001b[38;5;241m=\u001b[39m img\u001b[38;5;241m.\u001b[39mpermute((\u001b[38;5;241m2\u001b[39m, \u001b[38;5;241m0\u001b[39m, \u001b[38;5;241m1\u001b[39m))\u001b[38;5;241m.\u001b[39mcontiguous()\n",
      "\u001b[1;31mKeyboardInterrupt\u001b[0m: "
     ]
    }
   ],
   "source": [
    "from tqdm import tqdm\n",
    "\n",
    "total_loss = 0.0\n",
    "for i in tqdm(range(epochs)):\n",
    "    for xs,ys in tqdm(mnist_dset):\n",
    "        xs = xs.reshape(batch_size,-1)\n",
    "        out,mu,sigma = model(xs)\n",
    "        loss = loss_fn(out,xs,mu,sigma)\n",
    "        optim.zero_grad()\n",
    "        loss.backward()\n",
    "        optim.step()\n",
    "    print(loss.item())\n",
    "    "
   ]
  },
  {
   "cell_type": "code",
   "execution_count": null,
   "id": "3c934ea9-40b3-436a-aceb-a709cff3c11e",
   "metadata": {},
   "outputs": [],
   "source": []
  }
 ],
 "metadata": {
  "kernelspec": {
   "display_name": "Python 3 (ipykernel)",
   "language": "python",
   "name": "python3"
  },
  "language_info": {
   "codemirror_mode": {
    "name": "ipython",
    "version": 3
   },
   "file_extension": ".py",
   "mimetype": "text/x-python",
   "name": "python",
   "nbconvert_exporter": "python",
   "pygments_lexer": "ipython3",
   "version": "3.11.5"
  }
 },
 "nbformat": 4,
 "nbformat_minor": 5
}
