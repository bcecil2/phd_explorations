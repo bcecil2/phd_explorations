{
 "cells": [
  {
   "cell_type": "code",
   "execution_count": 1,
   "id": "e8611370-2829-476e-8b6d-b6ac44bcb86d",
   "metadata": {},
   "outputs": [],
   "source": [
    "import os\n",
    "import torch\n",
    "import numpy as np\n",
    "from torch import optim, nn, utils, Tensor\n",
    "from torchvision.transforms import ToTensor\n",
    "from torch.utils.data import Dataset,DataLoader\n",
    "import lightning as L"
   ]
  },
  {
   "cell_type": "code",
   "execution_count": 38,
   "id": "40b8b4dc-2889-4f4c-b082-194e5c847224",
   "metadata": {},
   "outputs": [],
   "source": [
    "np.random.seed(0)\n",
    "dim = 200\n",
    "actual_dim = 75\n",
    "latent_dim = 150\n",
    "encoder = nn.Sequential(nn.Linear(200,175),nn.GELU(),nn.Linear(175,latent_dim))\n",
    "decoder = nn.Sequential(nn.Linear(latent_dim, 100), nn.GELU(), nn.Linear(100, 200))\n",
    "\n",
    "class AutoEncoder(L.LightningModule):\n",
    "    def __init__(self, encoder, decoder):\n",
    "        super().__init__()\n",
    "        self.encoder = encoder\n",
    "        self.decoder = decoder\n",
    "\n",
    "    def training_step(self, batch, batch_idx):\n",
    "        # training_step defines the train loop.\n",
    "        # it is independent of forward\n",
    "        z = self.encoder(batch)\n",
    "        x_hat = self.decoder(z)\n",
    "        loss = nn.functional.mse_loss(x_hat, batch)\n",
    "        # Logging to TensorBoard (if installed) by default\n",
    "        self.log(\"train_loss\", loss)\n",
    "        return loss\n",
    "\n",
    "    def configure_optimizers(self):\n",
    "        optimizer = optim.Adam(self.parameters(), lr=1e-4)\n",
    "        return optimizer\n",
    "AE = AutoEncoder(encoder,decoder)"
   ]
  },
  {
   "cell_type": "code",
   "execution_count": 39,
   "id": "522b7935-35a0-43e1-b912-1a54578b7d6e",
   "metadata": {},
   "outputs": [],
   "source": [
    "class VectorDataset(Dataset):\n",
    "    def __init__(self, n, idxs, dim=dim, actual_dim=actual_dim):\n",
    "        self.x = torch.zeros(n,dim)\n",
    "        self.x[:,idxs] = torch.randn(n,actual_dim)\n",
    "\n",
    "    def __len__(self):\n",
    "        return len(self.x)\n",
    "\n",
    "    def __getitem__(self, idx):\n",
    "        return self.x[idx]"
   ]
  },
  {
   "cell_type": "code",
   "execution_count": 40,
   "id": "9dcbc095-e33e-4653-9a75-09ad7849d7ee",
   "metadata": {},
   "outputs": [],
   "source": [
    "idxs = np.random.choice(dim,actual_dim)\n",
    "train_ds,test_ds = VectorDataset(10000,idxs), VectorDataset(100,idxs)\n",
    "train_dl = DataLoader(train_ds, batch_size=64, shuffle=True, num_workers=0)"
   ]
  },
  {
   "cell_type": "code",
   "execution_count": 41,
   "id": "18e11e8f-f896-49cc-a592-faee80e8c8e2",
   "metadata": {},
   "outputs": [
    {
     "name": "stderr",
     "output_type": "stream",
     "text": [
      "GPU available: False, used: False\n",
      "TPU available: False, using: 0 TPU cores\n",
      "HPU available: False, using: 0 HPUs\n",
      "\n",
      "  | Name    | Type       | Params | Mode \n",
      "-----------------------------------------------\n",
      "0 | encoder | Sequential | 61.6 K | train\n",
      "1 | decoder | Sequential | 35.3 K | train\n",
      "-----------------------------------------------\n",
      "96.9 K    Trainable params\n",
      "0         Non-trainable params\n",
      "96.9 K    Total params\n",
      "0.387     Total estimated model params size (MB)\n"
     ]
    },
    {
     "data": {
      "application/vnd.jupyter.widget-view+json": {
       "model_id": "0ddb975d4d4e4d6d955e98727e19ff8a",
       "version_major": 2,
       "version_minor": 0
      },
      "text/plain": [
       "Training: |          | 0/? [00:00<?, ?it/s]"
      ]
     },
     "metadata": {},
     "output_type": "display_data"
    },
    {
     "name": "stderr",
     "output_type": "stream",
     "text": [
      "`Trainer.fit` stopped: `max_epochs=50` reached.\n"
     ]
    }
   ],
   "source": [
    "trainer = L.Trainer(limit_train_batches=100, max_epochs=50)\n",
    "trainer.fit(model=AE, train_dataloaders=train_dl)"
   ]
  },
  {
   "cell_type": "code",
   "execution_count": 37,
   "id": "6580f967-026f-4636-8d6c-f0d273f7e6a9",
   "metadata": {},
   "outputs": [
    {
     "data": {
      "text/plain": [
       "tensor(0.0121, grad_fn=<MseLossBackward0>)"
      ]
     },
     "execution_count": 37,
     "metadata": {},
     "output_type": "execute_result"
    }
   ],
   "source": [
    "x = np.zeros(dim)\n",
    "x[idxs] = np.random.randn(actual_dim)\n",
    "x = torch.tensor(x).float()\n",
    "reconstructed = AE.decoder.eval()(AE.encoder.eval()(x))\n",
    "nn.functional.mse_loss(x,reconstructed)\n"
   ]
  },
  {
   "cell_type": "code",
   "execution_count": null,
   "id": "07c2226e-a1c3-4d9b-95d1-32f6fb628de6",
   "metadata": {},
   "outputs": [],
   "source": []
  },
  {
   "cell_type": "code",
   "execution_count": null,
   "id": "d5e1fa77-2531-4370-9256-951b644550d1",
   "metadata": {},
   "outputs": [],
   "source": []
  }
 ],
 "metadata": {
  "kernelspec": {
   "display_name": "Python 3 (ipykernel)",
   "language": "python",
   "name": "python3"
  },
  "language_info": {
   "codemirror_mode": {
    "name": "ipython",
    "version": 3
   },
   "file_extension": ".py",
   "mimetype": "text/x-python",
   "name": "python",
   "nbconvert_exporter": "python",
   "pygments_lexer": "ipython3",
   "version": "3.11.5"
  }
 },
 "nbformat": 4,
 "nbformat_minor": 5
}
