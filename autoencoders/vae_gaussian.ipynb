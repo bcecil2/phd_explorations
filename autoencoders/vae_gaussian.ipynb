{
 "cells": [
  {
   "cell_type": "code",
   "execution_count": 3,
   "id": "bdb7d4ba-d2aa-4e51-9e53-9ca96f0783a5",
   "metadata": {},
   "outputs": [],
   "source": [
    "import os\n",
    "import torch\n",
    "import numpy as np\n",
    "from torch.optim import Adam\n",
    "from torch import nn, utils, Tensor\n",
    "from torchvision.transforms import ToTensor\n",
    "from torch.utils.data import Dataset,DataLoader\n",
    "from tqdm import tqdm\n",
    "import matplotlib.pyplot as plt\n",
    "import lightning as L"
   ]
  },
  {
   "cell_type": "code",
   "execution_count": 4,
   "id": "aaa0c561-0037-4ab5-903c-4ac2856de494",
   "metadata": {},
   "outputs": [],
   "source": [
    "np.random.seed(0)\n",
    "dim = 50\n",
    "actual_dim = 25\n",
    "latent_dim = 50"
   ]
  },
  {
   "cell_type": "code",
   "execution_count": 5,
   "id": "df1115d7-84fd-4b52-b6c3-ba591c9b8b38",
   "metadata": {},
   "outputs": [],
   "source": [
    "class VectorDataset(Dataset):\n",
    "    def __init__(self, n, idxs, dim=dim, actual_dim=actual_dim):\n",
    "        self.x = torch.ones(n,dim)*10\n",
    "        self.x[:,idxs] = 5#torch.randn(n,actual_dim)\n",
    "\n",
    "    def __len__(self):\n",
    "        return len(self.x)\n",
    "\n",
    "    def __getitem__(self, idx):\n",
    "        return self.x[idx]"
   ]
  },
  {
   "cell_type": "code",
   "execution_count": 9,
   "id": "4ec315d8-910b-45b4-9db0-e30c17370f3c",
   "metadata": {},
   "outputs": [],
   "source": [
    "idxs = np.random.choice(dim,actual_dim)\n",
    "train_ds,test_ds = VectorDataset(10000,idxs), VectorDataset(100,idxs)"
   ]
  },
  {
   "cell_type": "code",
   "execution_count": 11,
   "id": "55e9465d-6e62-45af-ae81-9141ea854cfc",
   "metadata": {},
   "outputs": [
    {
     "data": {
      "text/plain": [
       "torch.Size([100, 50])"
      ]
     },
     "execution_count": 11,
     "metadata": {},
     "output_type": "execute_result"
    }
   ],
   "source": [
    "class Encoder(nn.Module):\n",
    "    \n",
    "    def __init__(self,input_dim=dim,latent_dim=latent_dim):\n",
    "        super(Encoder, self).__init__()\n",
    "        self.l1 = nn.Linear(50, 25)\n",
    "        self.l2 = nn.Linear(25, 50)\n",
    "        self.latent_mu = nn.Linear(25,50)\n",
    "        self.latent_log_sigma = nn.Linear(25,50)\n",
    "        self.act = nn.GELU()\n",
    "    def forward(self,x):\n",
    "        x = self.act(self.l1(x))\n",
    "        return self.l2(x),self.latent_mu(x),self.latent_log_sigma(x)\n",
    "\n",
    "e = Encoder()\n",
    "e(train_ds[:100])[0].shape"
   ]
  },
  {
   "cell_type": "code",
   "execution_count": 13,
   "id": "fd03cd58-3356-4c62-99db-9c33f328d3b5",
   "metadata": {},
   "outputs": [
    {
     "name": "stdout",
     "output_type": "stream",
     "text": [
      "torch.Size([100, 50])\n"
     ]
    },
    {
     "data": {
      "text/plain": [
       "torch.Size([50])"
      ]
     },
     "execution_count": 13,
     "metadata": {},
     "output_type": "execute_result"
    }
   ],
   "source": [
    "class Decoder(nn.Module):\n",
    "    def __init__(self,latent_dim=latent_dim,output_dim=dim):\n",
    "        super().__init__()\n",
    "        self.l1 = nn.Linear(50,50)\n",
    "        self.l2 = nn.Linear(50,50)\n",
    "        self.mu = nn.Linear(50,output_dim)\n",
    "        self.log_sigma = nn.Linear(50,output_dim)\n",
    "        self.act1 = nn.GELU()\n",
    "\n",
    "    def forward(self,x):\n",
    "        x = self.act1(self.l1(x))\n",
    "        return self.l2(x), self.mu(x), self.log_sigma(x)\n",
    "\n",
    "e = Encoder()\n",
    "zs = e(train_ds[:100])[0]\n",
    "print(zs.shape)\n",
    "d = Decoder()\n",
    "d(zs[0])[0].shape"
   ]
  },
  {
   "cell_type": "code",
   "execution_count": 84,
   "id": "9de32988-836a-446f-87fc-cc96aea60269",
   "metadata": {},
   "outputs": [
    {
     "data": {
      "text/plain": [
       "torch.Size([100, 50])"
      ]
     },
     "execution_count": 84,
     "metadata": {},
     "output_type": "execute_result"
    }
   ],
   "source": [
    "class VAE(L.LightningModule):\n",
    "    def __init__(self,input_dim=dim,latent_dim=latent_dim):\n",
    "        super().__init__()\n",
    "        self.z_dim = latent_dim\n",
    "        self.encoder = Encoder(input_dim, latent_dim)\n",
    "        self.decoder = Decoder(latent_dim, input_dim)\n",
    "\n",
    "    def sample(self,z_mu,z_log_sigma):\n",
    "        epsilon = torch.randn(self.z_dim)\n",
    "        return z_mu + torch.exp(0.5 * z_log_sigma) * epsilon\n",
    "        \n",
    "    def loss_fn_mse(self,x,x_recon):\n",
    "        return  nn.MSELoss()(x,x_recon)\n",
    "        \n",
    "    def loss_fn_mse_kl(self,x,x_recon,z_mu,z_log_sigma):\n",
    "        kl = -0.5*(1. + z_log_sigma  - torch.square(z_mu) - torch.exp(z_log_sigma))\n",
    "        mse = nn.MSELoss()\n",
    "        mse_loss = mse(x,x_recon)\n",
    "        kl_loss = torch.mean(torch.sum(kl,axis=1))\n",
    "        loss = mse_loss+kl_loss\n",
    "        return  loss,mse_loss,kl_loss\n",
    "\n",
    "    def loss_fn_gaussian_vae(self,x,x_mu,x_log_sigma,z_mu,z_log_sigma):\n",
    "        kl = -0.5*(1. + z_log_sigma  - torch.square(z_mu) - torch.exp(z_log_sigma))\n",
    "        log_2_pi = torch.log(torch.sqrt(torch.Tensor([2*torch.pi])))\n",
    "        neg_log_like = torch.mean(-torch.sum(-(x - x_mu)**2/(2*torch.exp(x_log_sigma)) - log_2_pi - 0.5*x_log_sigma,axis=1))\n",
    "        kl = torch.mean(torch.sum(kl,axis=1))\n",
    "        return  neg_log_like+kl,neg_log_like,kl \n",
    "\n",
    "    def forward(self,x):\n",
    "        z,z_mu,z_log_sigma = self.encoder(x)\n",
    "        sample_z = self.sample(z_mu,z_log_sigma)\n",
    "        x_recon, x_mu, x_log_sigma = self.decoder(sample_z)\n",
    "        return x,x_recon,x_mu,x_log_sigma,z_mu,z_log_sigma\n",
    "        \n",
    "    def training_step(self,batch,batch_idx):\n",
    "        x,x_recon,x_mu,x_log_sigma,z_mu,z_log_sigma = self.forward(batch)\n",
    "        # loss,mse,kl = self.loss_fn_mse_kl(x,x_recon,z_mu,z_log_sigma)\n",
    "        # self.log(\"mse\",mse)\n",
    "        # self.log(\"kl\",kl)\n",
    "        # self.log(\"total loss\", loss)\n",
    "        # return loss\n",
    "        \n",
    "        loss,ll,kl = self.loss_fn_gaussian_vae(batch,x_mu,x_log_sigma,z_mu,z_log_sigma)\n",
    "        self.log(\"ll\",ll)\n",
    "        self.log(\"kl\",kl)\n",
    "        self.log(\"total loss\", loss)\n",
    "        return loss\n",
    "    \n",
    "    def configure_optimizers(self):\n",
    "        optimizer = Adam(self.parameters(), lr=1e-3)\n",
    "        return optimizer\n",
    "        \n",
    "v = VAE()\n",
    "v(train_ds[:100])[0].shape"
   ]
  },
  {
   "cell_type": "markdown",
   "id": "b4cfceff-cfd2-43af-bfad-286e6a2530db",
   "metadata": {},
   "source": [
    "This loss doesnt seem to work at all even though its the one given in the paper for real valued outputs"
   ]
  },
  {
   "cell_type": "code",
   "execution_count": 97,
   "id": "641f4554-f357-4043-9496-463baab115ec",
   "metadata": {},
   "outputs": [
    {
     "name": "stderr",
     "output_type": "stream",
     "text": [
      "GPU available: False, used: False\n",
      "TPU available: False, using: 0 TPU cores\n",
      "IPU available: False, using: 0 IPUs\n",
      "HPU available: False, using: 0 HPUs\n",
      "\n",
      "  | Name    | Type    | Params\n",
      "------------------------------------\n",
      "0 | encoder | Encoder | 5.2 K \n",
      "1 | decoder | Decoder | 10.2 K\n",
      "------------------------------------\n",
      "15.4 K    Trainable params\n",
      "0         Non-trainable params\n",
      "15.4 K    Total params\n",
      "0.061     Total estimated model params size (MB)\n"
     ]
    },
    {
     "data": {
      "application/vnd.jupyter.widget-view+json": {
       "model_id": "9c9297c91b9a4ace9cb150485847b886",
       "version_major": 2,
       "version_minor": 0
      },
      "text/plain": [
       "Training: 0it [00:00, ?it/s]"
      ]
     },
     "metadata": {},
     "output_type": "display_data"
    },
    {
     "name": "stderr",
     "output_type": "stream",
     "text": [
      "`Trainer.fit` stopped: `max_epochs=100` reached.\n"
     ]
    }
   ],
   "source": [
    "vae = VAE()\n",
    "trainer = L.Trainer(max_epochs=100)\n",
    "batch_size = 64\n",
    "train_dl = DataLoader(train_ds, batch_size=batch_size, shuffle=True, num_workers=0)\n",
    "trainer.fit(model=vae,train_dataloaders=train_dl)"
   ]
  },
  {
   "cell_type": "code",
   "execution_count": 98,
   "id": "212d6f65-a3d7-47b2-a526-3733e830a93a",
   "metadata": {},
   "outputs": [
    {
     "name": "stdout",
     "output_type": "stream",
     "text": [
      "tensor([ 5.,  5., 10.,  5., 10., 10.,  5., 10., 10.,  5., 10., 10.,  5.,  5.,\n",
      "        10., 10., 10.,  5., 10.,  5., 10.,  5., 10.,  5.,  5.,  5., 10., 10.,\n",
      "        10., 10., 10., 10., 10., 10., 10., 10.,  5.,  5.,  5.,  5., 10., 10.,\n",
      "        10., 10.,  5., 10.,  5.,  5., 10., 10.])\n",
      "tensor([-0.6757,  0.6260,  0.8456,  0.8918,  2.0560, -3.7391,  0.3053,  0.8659,\n",
      "         1.5347,  2.6437, -0.6409,  2.0119, -0.9946, -0.9982, -0.2103, -1.5236,\n",
      "         0.8755, -0.6488,  0.0203,  0.6154,  0.8579, -0.9848,  0.9171, -1.1888,\n",
      "         0.5390, -0.3237,  0.3431,  0.5804, -1.7417, -0.8796, -1.1886,  0.6928,\n",
      "        -1.0472, -1.5047, -0.0160, -0.3569,  1.6718, -1.0586,  0.7914, -0.4584,\n",
      "        -0.7353, -0.3448, -1.2833,  0.5357,  1.0551,  1.3067, -0.4196, -1.1429,\n",
      "        -2.1582, -0.5758])\n"
     ]
    }
   ],
   "source": [
    "vae.eval()\n",
    "with torch.no_grad():\n",
    "    xs = train_ds[:5]\n",
    "    print(xs[0])\n",
    "    print(vae(xs)[1][0])"
   ]
  },
  {
   "cell_type": "code",
   "execution_count": 27,
   "id": "5a7925ef-cd28-460f-8715-6c8ab60c7ba3",
   "metadata": {},
   "outputs": [],
   "source": [
    "# Load the TensorBoard notebook extension\n",
    "%load_ext tensorboard"
   ]
  },
  {
   "cell_type": "code",
   "execution_count": 47,
   "id": "7202cbcc-84be-490c-9c2a-d8d8db4a7443",
   "metadata": {},
   "outputs": [
    {
     "data": {
      "text/plain": [
       "Reusing TensorBoard on port 6007 (pid 34356), started 0:03:43 ago. (Use '!kill 34356' to kill it.)"
      ]
     },
     "metadata": {},
     "output_type": "display_data"
    },
    {
     "data": {
      "text/html": [
       "\n",
       "      <iframe id=\"tensorboard-frame-a6d3e05682869c34\" width=\"100%\" height=\"800\" frameborder=\"0\">\n",
       "      </iframe>\n",
       "      <script>\n",
       "        (function() {\n",
       "          const frame = document.getElementById(\"tensorboard-frame-a6d3e05682869c34\");\n",
       "          const url = new URL(\"/\", window.location);\n",
       "          const port = 6007;\n",
       "          if (port) {\n",
       "            url.port = port;\n",
       "          }\n",
       "          frame.src = url;\n",
       "        })();\n",
       "      </script>\n",
       "    "
      ],
      "text/plain": [
       "<IPython.core.display.HTML object>"
      ]
     },
     "metadata": {},
     "output_type": "display_data"
    }
   ],
   "source": [
    "%tensorboard --logdir lightning_logs"
   ]
  },
  {
   "cell_type": "code",
   "execution_count": null,
   "id": "bbe8e348-4670-432b-997f-61d7da43dda4",
   "metadata": {},
   "outputs": [],
   "source": []
  }
 ],
 "metadata": {
  "kernelspec": {
   "display_name": "Python 3 (ipykernel)",
   "language": "python",
   "name": "python3"
  },
  "language_info": {
   "codemirror_mode": {
    "name": "ipython",
    "version": 3
   },
   "file_extension": ".py",
   "mimetype": "text/x-python",
   "name": "python",
   "nbconvert_exporter": "python",
   "pygments_lexer": "ipython3",
   "version": "3.11.7"
  }
 },
 "nbformat": 4,
 "nbformat_minor": 5
}
